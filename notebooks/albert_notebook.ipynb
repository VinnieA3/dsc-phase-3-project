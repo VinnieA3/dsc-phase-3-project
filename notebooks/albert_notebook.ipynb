{
 "cells": [
  {
   "cell_type": "code",
   "execution_count": 141,
   "metadata": {},
   "outputs": [],
   "source": [
    "# Import packages\n",
    "\n",
    "import numpy as np\n",
    "import pandas as pd\n",
    "\n",
    "import matplotlib.pyplot as plt\n",
    "import seaborn as sns\n",
    "import statsmodels.api as sm\n",
    "\n",
    "from sklearn.preprocessing import OneHotEncoder, StandardScaler\n",
    "from sklearn.model_selection import train_test_split\n",
    "from sklearn.linear_model import LinearRegression\n",
    "from sklearn.metrics import confusion_matrix, plot_confusion_matrix,\\\n",
    "    precision_score, recall_score, accuracy_score, f1_score, log_loss,\\\n",
    "    roc_curve, roc_auc_score, classification_report\n",
    "from sklearn.tree import DecisionTreeClassifier, plot_tree, export_graphviz\n",
    "from sklearn.linear_model import LogisticRegression\n",
    "from imblearn.over_sampling import SMOTE\n",
    "from sklearn import tree\n",
    "\n",
    "pd.set_option(\"display.max_columns\", 100)"
   ]
  },
  {
   "cell_type": "code",
   "execution_count": 2,
   "metadata": {},
   "outputs": [],
   "source": [
    "# test = pd.read_csv('Flu_Shot_Learning_Predict_H1N1_and_Seasonal_Flu_Vaccines_-_Test_Features.csv')\n",
    "df = pd.read_csv('Flu_Shot_Learning_Predict_H1N1_and_Seasonal_Flu_Vaccines_-_Training_Features.csv')\n",
    "target = pd.read_csv('Flu_Shot_Learning_Predict_H1N1_and_Seasonal_Flu_Vaccines_-_Training_Labels.csv')"
   ]
  },
  {
   "cell_type": "code",
   "execution_count": 3,
   "metadata": {
    "scrolled": true
   },
   "outputs": [],
   "source": [
    "# test.head()"
   ]
  },
  {
   "cell_type": "code",
   "execution_count": 4,
   "metadata": {},
   "outputs": [],
   "source": [
    "#test['respondent_id'].max"
   ]
  },
  {
   "cell_type": "code",
   "execution_count": 5,
   "metadata": {
    "scrolled": true
   },
   "outputs": [],
   "source": [
    "#test['employment_occupation'].value_counts()"
   ]
  },
  {
   "cell_type": "markdown",
   "metadata": {},
   "source": [
    "- Per the data, these are random strings representing employment occupations. however only has 13282 values so that may limit us if we decide to use it"
   ]
  },
  {
   "cell_type": "code",
   "execution_count": 6,
   "metadata": {
    "scrolled": true
   },
   "outputs": [
    {
     "data": {
      "text/html": [
       "<div>\n",
       "<style scoped>\n",
       "    .dataframe tbody tr th:only-of-type {\n",
       "        vertical-align: middle;\n",
       "    }\n",
       "\n",
       "    .dataframe tbody tr th {\n",
       "        vertical-align: top;\n",
       "    }\n",
       "\n",
       "    .dataframe thead th {\n",
       "        text-align: right;\n",
       "    }\n",
       "</style>\n",
       "<table border=\"1\" class=\"dataframe\">\n",
       "  <thead>\n",
       "    <tr style=\"text-align: right;\">\n",
       "      <th></th>\n",
       "      <th>respondent_id</th>\n",
       "      <th>h1n1_concern</th>\n",
       "      <th>h1n1_knowledge</th>\n",
       "      <th>behavioral_antiviral_meds</th>\n",
       "      <th>behavioral_avoidance</th>\n",
       "      <th>behavioral_face_mask</th>\n",
       "      <th>behavioral_wash_hands</th>\n",
       "      <th>behavioral_large_gatherings</th>\n",
       "      <th>behavioral_outside_home</th>\n",
       "      <th>behavioral_touch_face</th>\n",
       "      <th>doctor_recc_h1n1</th>\n",
       "      <th>doctor_recc_seasonal</th>\n",
       "      <th>chronic_med_condition</th>\n",
       "      <th>child_under_6_months</th>\n",
       "      <th>health_worker</th>\n",
       "      <th>health_insurance</th>\n",
       "      <th>opinion_h1n1_vacc_effective</th>\n",
       "      <th>opinion_h1n1_risk</th>\n",
       "      <th>opinion_h1n1_sick_from_vacc</th>\n",
       "      <th>opinion_seas_vacc_effective</th>\n",
       "      <th>opinion_seas_risk</th>\n",
       "      <th>opinion_seas_sick_from_vacc</th>\n",
       "      <th>age_group</th>\n",
       "      <th>education</th>\n",
       "      <th>race</th>\n",
       "      <th>sex</th>\n",
       "      <th>income_poverty</th>\n",
       "      <th>marital_status</th>\n",
       "      <th>rent_or_own</th>\n",
       "      <th>employment_status</th>\n",
       "      <th>hhs_geo_region</th>\n",
       "      <th>census_msa</th>\n",
       "      <th>household_adults</th>\n",
       "      <th>household_children</th>\n",
       "      <th>employment_industry</th>\n",
       "      <th>employment_occupation</th>\n",
       "    </tr>\n",
       "  </thead>\n",
       "  <tbody>\n",
       "    <tr>\n",
       "      <th>0</th>\n",
       "      <td>0</td>\n",
       "      <td>1.0</td>\n",
       "      <td>0.0</td>\n",
       "      <td>0.0</td>\n",
       "      <td>0.0</td>\n",
       "      <td>0.0</td>\n",
       "      <td>0.0</td>\n",
       "      <td>0.0</td>\n",
       "      <td>1.0</td>\n",
       "      <td>1.0</td>\n",
       "      <td>0.0</td>\n",
       "      <td>0.0</td>\n",
       "      <td>0.0</td>\n",
       "      <td>0.0</td>\n",
       "      <td>0.0</td>\n",
       "      <td>1.0</td>\n",
       "      <td>3.0</td>\n",
       "      <td>1.0</td>\n",
       "      <td>2.0</td>\n",
       "      <td>2.0</td>\n",
       "      <td>1.0</td>\n",
       "      <td>2.0</td>\n",
       "      <td>55 - 64 Years</td>\n",
       "      <td>&lt; 12 Years</td>\n",
       "      <td>White</td>\n",
       "      <td>Female</td>\n",
       "      <td>Below Poverty</td>\n",
       "      <td>Not Married</td>\n",
       "      <td>Own</td>\n",
       "      <td>Not in Labor Force</td>\n",
       "      <td>oxchjgsf</td>\n",
       "      <td>Non-MSA</td>\n",
       "      <td>0.0</td>\n",
       "      <td>0.0</td>\n",
       "      <td>NaN</td>\n",
       "      <td>NaN</td>\n",
       "    </tr>\n",
       "    <tr>\n",
       "      <th>1</th>\n",
       "      <td>1</td>\n",
       "      <td>3.0</td>\n",
       "      <td>2.0</td>\n",
       "      <td>0.0</td>\n",
       "      <td>1.0</td>\n",
       "      <td>0.0</td>\n",
       "      <td>1.0</td>\n",
       "      <td>0.0</td>\n",
       "      <td>1.0</td>\n",
       "      <td>1.0</td>\n",
       "      <td>0.0</td>\n",
       "      <td>0.0</td>\n",
       "      <td>0.0</td>\n",
       "      <td>0.0</td>\n",
       "      <td>0.0</td>\n",
       "      <td>1.0</td>\n",
       "      <td>5.0</td>\n",
       "      <td>4.0</td>\n",
       "      <td>4.0</td>\n",
       "      <td>4.0</td>\n",
       "      <td>2.0</td>\n",
       "      <td>4.0</td>\n",
       "      <td>35 - 44 Years</td>\n",
       "      <td>12 Years</td>\n",
       "      <td>White</td>\n",
       "      <td>Male</td>\n",
       "      <td>Below Poverty</td>\n",
       "      <td>Not Married</td>\n",
       "      <td>Rent</td>\n",
       "      <td>Employed</td>\n",
       "      <td>bhuqouqj</td>\n",
       "      <td>MSA, Not Principle  City</td>\n",
       "      <td>0.0</td>\n",
       "      <td>0.0</td>\n",
       "      <td>pxcmvdjn</td>\n",
       "      <td>xgwztkwe</td>\n",
       "    </tr>\n",
       "    <tr>\n",
       "      <th>2</th>\n",
       "      <td>2</td>\n",
       "      <td>1.0</td>\n",
       "      <td>1.0</td>\n",
       "      <td>0.0</td>\n",
       "      <td>1.0</td>\n",
       "      <td>0.0</td>\n",
       "      <td>0.0</td>\n",
       "      <td>0.0</td>\n",
       "      <td>0.0</td>\n",
       "      <td>0.0</td>\n",
       "      <td>NaN</td>\n",
       "      <td>NaN</td>\n",
       "      <td>1.0</td>\n",
       "      <td>0.0</td>\n",
       "      <td>0.0</td>\n",
       "      <td>NaN</td>\n",
       "      <td>3.0</td>\n",
       "      <td>1.0</td>\n",
       "      <td>1.0</td>\n",
       "      <td>4.0</td>\n",
       "      <td>1.0</td>\n",
       "      <td>2.0</td>\n",
       "      <td>18 - 34 Years</td>\n",
       "      <td>College Graduate</td>\n",
       "      <td>White</td>\n",
       "      <td>Male</td>\n",
       "      <td>&lt;= $75,000, Above Poverty</td>\n",
       "      <td>Not Married</td>\n",
       "      <td>Own</td>\n",
       "      <td>Employed</td>\n",
       "      <td>qufhixun</td>\n",
       "      <td>MSA, Not Principle  City</td>\n",
       "      <td>2.0</td>\n",
       "      <td>0.0</td>\n",
       "      <td>rucpziij</td>\n",
       "      <td>xtkaffoo</td>\n",
       "    </tr>\n",
       "    <tr>\n",
       "      <th>3</th>\n",
       "      <td>3</td>\n",
       "      <td>1.0</td>\n",
       "      <td>1.0</td>\n",
       "      <td>0.0</td>\n",
       "      <td>1.0</td>\n",
       "      <td>0.0</td>\n",
       "      <td>1.0</td>\n",
       "      <td>1.0</td>\n",
       "      <td>0.0</td>\n",
       "      <td>0.0</td>\n",
       "      <td>0.0</td>\n",
       "      <td>1.0</td>\n",
       "      <td>1.0</td>\n",
       "      <td>0.0</td>\n",
       "      <td>0.0</td>\n",
       "      <td>NaN</td>\n",
       "      <td>3.0</td>\n",
       "      <td>3.0</td>\n",
       "      <td>5.0</td>\n",
       "      <td>5.0</td>\n",
       "      <td>4.0</td>\n",
       "      <td>1.0</td>\n",
       "      <td>65+ Years</td>\n",
       "      <td>12 Years</td>\n",
       "      <td>White</td>\n",
       "      <td>Female</td>\n",
       "      <td>Below Poverty</td>\n",
       "      <td>Not Married</td>\n",
       "      <td>Rent</td>\n",
       "      <td>Not in Labor Force</td>\n",
       "      <td>lrircsnp</td>\n",
       "      <td>MSA, Principle City</td>\n",
       "      <td>0.0</td>\n",
       "      <td>0.0</td>\n",
       "      <td>NaN</td>\n",
       "      <td>NaN</td>\n",
       "    </tr>\n",
       "    <tr>\n",
       "      <th>4</th>\n",
       "      <td>4</td>\n",
       "      <td>2.0</td>\n",
       "      <td>1.0</td>\n",
       "      <td>0.0</td>\n",
       "      <td>1.0</td>\n",
       "      <td>0.0</td>\n",
       "      <td>1.0</td>\n",
       "      <td>1.0</td>\n",
       "      <td>0.0</td>\n",
       "      <td>1.0</td>\n",
       "      <td>0.0</td>\n",
       "      <td>0.0</td>\n",
       "      <td>0.0</td>\n",
       "      <td>0.0</td>\n",
       "      <td>0.0</td>\n",
       "      <td>NaN</td>\n",
       "      <td>3.0</td>\n",
       "      <td>3.0</td>\n",
       "      <td>2.0</td>\n",
       "      <td>3.0</td>\n",
       "      <td>1.0</td>\n",
       "      <td>4.0</td>\n",
       "      <td>45 - 54 Years</td>\n",
       "      <td>Some College</td>\n",
       "      <td>White</td>\n",
       "      <td>Female</td>\n",
       "      <td>&lt;= $75,000, Above Poverty</td>\n",
       "      <td>Married</td>\n",
       "      <td>Own</td>\n",
       "      <td>Employed</td>\n",
       "      <td>qufhixun</td>\n",
       "      <td>MSA, Not Principle  City</td>\n",
       "      <td>1.0</td>\n",
       "      <td>0.0</td>\n",
       "      <td>wxleyezf</td>\n",
       "      <td>emcorrxb</td>\n",
       "    </tr>\n",
       "  </tbody>\n",
       "</table>\n",
       "</div>"
      ],
      "text/plain": [
       "   respondent_id  h1n1_concern  h1n1_knowledge  behavioral_antiviral_meds  \\\n",
       "0              0           1.0             0.0                        0.0   \n",
       "1              1           3.0             2.0                        0.0   \n",
       "2              2           1.0             1.0                        0.0   \n",
       "3              3           1.0             1.0                        0.0   \n",
       "4              4           2.0             1.0                        0.0   \n",
       "\n",
       "   behavioral_avoidance  behavioral_face_mask  behavioral_wash_hands  \\\n",
       "0                   0.0                   0.0                    0.0   \n",
       "1                   1.0                   0.0                    1.0   \n",
       "2                   1.0                   0.0                    0.0   \n",
       "3                   1.0                   0.0                    1.0   \n",
       "4                   1.0                   0.0                    1.0   \n",
       "\n",
       "   behavioral_large_gatherings  behavioral_outside_home  \\\n",
       "0                          0.0                      1.0   \n",
       "1                          0.0                      1.0   \n",
       "2                          0.0                      0.0   \n",
       "3                          1.0                      0.0   \n",
       "4                          1.0                      0.0   \n",
       "\n",
       "   behavioral_touch_face  doctor_recc_h1n1  doctor_recc_seasonal  \\\n",
       "0                    1.0               0.0                   0.0   \n",
       "1                    1.0               0.0                   0.0   \n",
       "2                    0.0               NaN                   NaN   \n",
       "3                    0.0               0.0                   1.0   \n",
       "4                    1.0               0.0                   0.0   \n",
       "\n",
       "   chronic_med_condition  child_under_6_months  health_worker  \\\n",
       "0                    0.0                   0.0            0.0   \n",
       "1                    0.0                   0.0            0.0   \n",
       "2                    1.0                   0.0            0.0   \n",
       "3                    1.0                   0.0            0.0   \n",
       "4                    0.0                   0.0            0.0   \n",
       "\n",
       "   health_insurance  opinion_h1n1_vacc_effective  opinion_h1n1_risk  \\\n",
       "0               1.0                          3.0                1.0   \n",
       "1               1.0                          5.0                4.0   \n",
       "2               NaN                          3.0                1.0   \n",
       "3               NaN                          3.0                3.0   \n",
       "4               NaN                          3.0                3.0   \n",
       "\n",
       "   opinion_h1n1_sick_from_vacc  opinion_seas_vacc_effective  \\\n",
       "0                          2.0                          2.0   \n",
       "1                          4.0                          4.0   \n",
       "2                          1.0                          4.0   \n",
       "3                          5.0                          5.0   \n",
       "4                          2.0                          3.0   \n",
       "\n",
       "   opinion_seas_risk  opinion_seas_sick_from_vacc      age_group  \\\n",
       "0                1.0                          2.0  55 - 64 Years   \n",
       "1                2.0                          4.0  35 - 44 Years   \n",
       "2                1.0                          2.0  18 - 34 Years   \n",
       "3                4.0                          1.0      65+ Years   \n",
       "4                1.0                          4.0  45 - 54 Years   \n",
       "\n",
       "          education   race     sex             income_poverty marital_status  \\\n",
       "0        < 12 Years  White  Female              Below Poverty    Not Married   \n",
       "1          12 Years  White    Male              Below Poverty    Not Married   \n",
       "2  College Graduate  White    Male  <= $75,000, Above Poverty    Not Married   \n",
       "3          12 Years  White  Female              Below Poverty    Not Married   \n",
       "4      Some College  White  Female  <= $75,000, Above Poverty        Married   \n",
       "\n",
       "  rent_or_own   employment_status hhs_geo_region                census_msa  \\\n",
       "0         Own  Not in Labor Force       oxchjgsf                   Non-MSA   \n",
       "1        Rent            Employed       bhuqouqj  MSA, Not Principle  City   \n",
       "2         Own            Employed       qufhixun  MSA, Not Principle  City   \n",
       "3        Rent  Not in Labor Force       lrircsnp       MSA, Principle City   \n",
       "4         Own            Employed       qufhixun  MSA, Not Principle  City   \n",
       "\n",
       "   household_adults  household_children employment_industry  \\\n",
       "0               0.0                 0.0                 NaN   \n",
       "1               0.0                 0.0            pxcmvdjn   \n",
       "2               2.0                 0.0            rucpziij   \n",
       "3               0.0                 0.0                 NaN   \n",
       "4               1.0                 0.0            wxleyezf   \n",
       "\n",
       "  employment_occupation  \n",
       "0                   NaN  \n",
       "1              xgwztkwe  \n",
       "2              xtkaffoo  \n",
       "3                   NaN  \n",
       "4              emcorrxb  "
      ]
     },
     "execution_count": 6,
     "metadata": {},
     "output_type": "execute_result"
    }
   ],
   "source": [
    "df.head()"
   ]
  },
  {
   "cell_type": "code",
   "execution_count": 7,
   "metadata": {
    "scrolled": true
   },
   "outputs": [
    {
     "data": {
      "text/html": [
       "<div>\n",
       "<style scoped>\n",
       "    .dataframe tbody tr th:only-of-type {\n",
       "        vertical-align: middle;\n",
       "    }\n",
       "\n",
       "    .dataframe tbody tr th {\n",
       "        vertical-align: top;\n",
       "    }\n",
       "\n",
       "    .dataframe thead th {\n",
       "        text-align: right;\n",
       "    }\n",
       "</style>\n",
       "<table border=\"1\" class=\"dataframe\">\n",
       "  <thead>\n",
       "    <tr style=\"text-align: right;\">\n",
       "      <th></th>\n",
       "      <th>respondent_id</th>\n",
       "      <th>h1n1_concern</th>\n",
       "      <th>h1n1_knowledge</th>\n",
       "      <th>behavioral_antiviral_meds</th>\n",
       "      <th>behavioral_avoidance</th>\n",
       "      <th>behavioral_face_mask</th>\n",
       "      <th>behavioral_wash_hands</th>\n",
       "      <th>behavioral_large_gatherings</th>\n",
       "      <th>behavioral_outside_home</th>\n",
       "      <th>behavioral_touch_face</th>\n",
       "      <th>doctor_recc_h1n1</th>\n",
       "      <th>doctor_recc_seasonal</th>\n",
       "      <th>chronic_med_condition</th>\n",
       "      <th>child_under_6_months</th>\n",
       "      <th>health_worker</th>\n",
       "      <th>health_insurance</th>\n",
       "      <th>opinion_h1n1_vacc_effective</th>\n",
       "      <th>opinion_h1n1_risk</th>\n",
       "      <th>opinion_h1n1_sick_from_vacc</th>\n",
       "      <th>opinion_seas_vacc_effective</th>\n",
       "      <th>opinion_seas_risk</th>\n",
       "      <th>opinion_seas_sick_from_vacc</th>\n",
       "      <th>age_group</th>\n",
       "      <th>education</th>\n",
       "      <th>race</th>\n",
       "      <th>sex</th>\n",
       "      <th>income_poverty</th>\n",
       "      <th>marital_status</th>\n",
       "      <th>rent_or_own</th>\n",
       "      <th>employment_status</th>\n",
       "      <th>hhs_geo_region</th>\n",
       "      <th>census_msa</th>\n",
       "      <th>household_adults</th>\n",
       "      <th>household_children</th>\n",
       "      <th>employment_industry</th>\n",
       "      <th>employment_occupation</th>\n",
       "    </tr>\n",
       "  </thead>\n",
       "  <tbody>\n",
       "    <tr>\n",
       "      <th>0</th>\n",
       "      <td>0</td>\n",
       "      <td>1.0</td>\n",
       "      <td>0.0</td>\n",
       "      <td>0.0</td>\n",
       "      <td>0.0</td>\n",
       "      <td>0.0</td>\n",
       "      <td>0.0</td>\n",
       "      <td>0.0</td>\n",
       "      <td>1.0</td>\n",
       "      <td>1.0</td>\n",
       "      <td>0.0</td>\n",
       "      <td>0.0</td>\n",
       "      <td>0.0</td>\n",
       "      <td>0.0</td>\n",
       "      <td>0.0</td>\n",
       "      <td>1.0</td>\n",
       "      <td>3.0</td>\n",
       "      <td>1.0</td>\n",
       "      <td>2.0</td>\n",
       "      <td>2.0</td>\n",
       "      <td>1.0</td>\n",
       "      <td>2.0</td>\n",
       "      <td>55 - 64 Years</td>\n",
       "      <td>&lt; 12 Years</td>\n",
       "      <td>White</td>\n",
       "      <td>Female</td>\n",
       "      <td>Below Poverty</td>\n",
       "      <td>Not Married</td>\n",
       "      <td>Own</td>\n",
       "      <td>Not in Labor Force</td>\n",
       "      <td>oxchjgsf</td>\n",
       "      <td>Non-MSA</td>\n",
       "      <td>0.0</td>\n",
       "      <td>0.0</td>\n",
       "      <td>NaN</td>\n",
       "      <td>NaN</td>\n",
       "    </tr>\n",
       "    <tr>\n",
       "      <th>1</th>\n",
       "      <td>1</td>\n",
       "      <td>3.0</td>\n",
       "      <td>2.0</td>\n",
       "      <td>0.0</td>\n",
       "      <td>1.0</td>\n",
       "      <td>0.0</td>\n",
       "      <td>1.0</td>\n",
       "      <td>0.0</td>\n",
       "      <td>1.0</td>\n",
       "      <td>1.0</td>\n",
       "      <td>0.0</td>\n",
       "      <td>0.0</td>\n",
       "      <td>0.0</td>\n",
       "      <td>0.0</td>\n",
       "      <td>0.0</td>\n",
       "      <td>1.0</td>\n",
       "      <td>5.0</td>\n",
       "      <td>4.0</td>\n",
       "      <td>4.0</td>\n",
       "      <td>4.0</td>\n",
       "      <td>2.0</td>\n",
       "      <td>4.0</td>\n",
       "      <td>35 - 44 Years</td>\n",
       "      <td>12 Years</td>\n",
       "      <td>White</td>\n",
       "      <td>Male</td>\n",
       "      <td>Below Poverty</td>\n",
       "      <td>Not Married</td>\n",
       "      <td>Rent</td>\n",
       "      <td>Employed</td>\n",
       "      <td>bhuqouqj</td>\n",
       "      <td>MSA, Not Principle  City</td>\n",
       "      <td>0.0</td>\n",
       "      <td>0.0</td>\n",
       "      <td>pxcmvdjn</td>\n",
       "      <td>xgwztkwe</td>\n",
       "    </tr>\n",
       "    <tr>\n",
       "      <th>2</th>\n",
       "      <td>2</td>\n",
       "      <td>1.0</td>\n",
       "      <td>1.0</td>\n",
       "      <td>0.0</td>\n",
       "      <td>1.0</td>\n",
       "      <td>0.0</td>\n",
       "      <td>0.0</td>\n",
       "      <td>0.0</td>\n",
       "      <td>0.0</td>\n",
       "      <td>0.0</td>\n",
       "      <td>NaN</td>\n",
       "      <td>NaN</td>\n",
       "      <td>1.0</td>\n",
       "      <td>0.0</td>\n",
       "      <td>0.0</td>\n",
       "      <td>NaN</td>\n",
       "      <td>3.0</td>\n",
       "      <td>1.0</td>\n",
       "      <td>1.0</td>\n",
       "      <td>4.0</td>\n",
       "      <td>1.0</td>\n",
       "      <td>2.0</td>\n",
       "      <td>18 - 34 Years</td>\n",
       "      <td>College Graduate</td>\n",
       "      <td>White</td>\n",
       "      <td>Male</td>\n",
       "      <td>&lt;= $75,000, Above Poverty</td>\n",
       "      <td>Not Married</td>\n",
       "      <td>Own</td>\n",
       "      <td>Employed</td>\n",
       "      <td>qufhixun</td>\n",
       "      <td>MSA, Not Principle  City</td>\n",
       "      <td>2.0</td>\n",
       "      <td>0.0</td>\n",
       "      <td>rucpziij</td>\n",
       "      <td>xtkaffoo</td>\n",
       "    </tr>\n",
       "    <tr>\n",
       "      <th>3</th>\n",
       "      <td>3</td>\n",
       "      <td>1.0</td>\n",
       "      <td>1.0</td>\n",
       "      <td>0.0</td>\n",
       "      <td>1.0</td>\n",
       "      <td>0.0</td>\n",
       "      <td>1.0</td>\n",
       "      <td>1.0</td>\n",
       "      <td>0.0</td>\n",
       "      <td>0.0</td>\n",
       "      <td>0.0</td>\n",
       "      <td>1.0</td>\n",
       "      <td>1.0</td>\n",
       "      <td>0.0</td>\n",
       "      <td>0.0</td>\n",
       "      <td>NaN</td>\n",
       "      <td>3.0</td>\n",
       "      <td>3.0</td>\n",
       "      <td>5.0</td>\n",
       "      <td>5.0</td>\n",
       "      <td>4.0</td>\n",
       "      <td>1.0</td>\n",
       "      <td>65+ Years</td>\n",
       "      <td>12 Years</td>\n",
       "      <td>White</td>\n",
       "      <td>Female</td>\n",
       "      <td>Below Poverty</td>\n",
       "      <td>Not Married</td>\n",
       "      <td>Rent</td>\n",
       "      <td>Not in Labor Force</td>\n",
       "      <td>lrircsnp</td>\n",
       "      <td>MSA, Principle City</td>\n",
       "      <td>0.0</td>\n",
       "      <td>0.0</td>\n",
       "      <td>NaN</td>\n",
       "      <td>NaN</td>\n",
       "    </tr>\n",
       "    <tr>\n",
       "      <th>4</th>\n",
       "      <td>4</td>\n",
       "      <td>2.0</td>\n",
       "      <td>1.0</td>\n",
       "      <td>0.0</td>\n",
       "      <td>1.0</td>\n",
       "      <td>0.0</td>\n",
       "      <td>1.0</td>\n",
       "      <td>1.0</td>\n",
       "      <td>0.0</td>\n",
       "      <td>1.0</td>\n",
       "      <td>0.0</td>\n",
       "      <td>0.0</td>\n",
       "      <td>0.0</td>\n",
       "      <td>0.0</td>\n",
       "      <td>0.0</td>\n",
       "      <td>NaN</td>\n",
       "      <td>3.0</td>\n",
       "      <td>3.0</td>\n",
       "      <td>2.0</td>\n",
       "      <td>3.0</td>\n",
       "      <td>1.0</td>\n",
       "      <td>4.0</td>\n",
       "      <td>45 - 54 Years</td>\n",
       "      <td>Some College</td>\n",
       "      <td>White</td>\n",
       "      <td>Female</td>\n",
       "      <td>&lt;= $75,000, Above Poverty</td>\n",
       "      <td>Married</td>\n",
       "      <td>Own</td>\n",
       "      <td>Employed</td>\n",
       "      <td>qufhixun</td>\n",
       "      <td>MSA, Not Principle  City</td>\n",
       "      <td>1.0</td>\n",
       "      <td>0.0</td>\n",
       "      <td>wxleyezf</td>\n",
       "      <td>emcorrxb</td>\n",
       "    </tr>\n",
       "  </tbody>\n",
       "</table>\n",
       "</div>"
      ],
      "text/plain": [
       "   respondent_id  h1n1_concern  h1n1_knowledge  behavioral_antiviral_meds  \\\n",
       "0              0           1.0             0.0                        0.0   \n",
       "1              1           3.0             2.0                        0.0   \n",
       "2              2           1.0             1.0                        0.0   \n",
       "3              3           1.0             1.0                        0.0   \n",
       "4              4           2.0             1.0                        0.0   \n",
       "\n",
       "   behavioral_avoidance  behavioral_face_mask  behavioral_wash_hands  \\\n",
       "0                   0.0                   0.0                    0.0   \n",
       "1                   1.0                   0.0                    1.0   \n",
       "2                   1.0                   0.0                    0.0   \n",
       "3                   1.0                   0.0                    1.0   \n",
       "4                   1.0                   0.0                    1.0   \n",
       "\n",
       "   behavioral_large_gatherings  behavioral_outside_home  \\\n",
       "0                          0.0                      1.0   \n",
       "1                          0.0                      1.0   \n",
       "2                          0.0                      0.0   \n",
       "3                          1.0                      0.0   \n",
       "4                          1.0                      0.0   \n",
       "\n",
       "   behavioral_touch_face  doctor_recc_h1n1  doctor_recc_seasonal  \\\n",
       "0                    1.0               0.0                   0.0   \n",
       "1                    1.0               0.0                   0.0   \n",
       "2                    0.0               NaN                   NaN   \n",
       "3                    0.0               0.0                   1.0   \n",
       "4                    1.0               0.0                   0.0   \n",
       "\n",
       "   chronic_med_condition  child_under_6_months  health_worker  \\\n",
       "0                    0.0                   0.0            0.0   \n",
       "1                    0.0                   0.0            0.0   \n",
       "2                    1.0                   0.0            0.0   \n",
       "3                    1.0                   0.0            0.0   \n",
       "4                    0.0                   0.0            0.0   \n",
       "\n",
       "   health_insurance  opinion_h1n1_vacc_effective  opinion_h1n1_risk  \\\n",
       "0               1.0                          3.0                1.0   \n",
       "1               1.0                          5.0                4.0   \n",
       "2               NaN                          3.0                1.0   \n",
       "3               NaN                          3.0                3.0   \n",
       "4               NaN                          3.0                3.0   \n",
       "\n",
       "   opinion_h1n1_sick_from_vacc  opinion_seas_vacc_effective  \\\n",
       "0                          2.0                          2.0   \n",
       "1                          4.0                          4.0   \n",
       "2                          1.0                          4.0   \n",
       "3                          5.0                          5.0   \n",
       "4                          2.0                          3.0   \n",
       "\n",
       "   opinion_seas_risk  opinion_seas_sick_from_vacc      age_group  \\\n",
       "0                1.0                          2.0  55 - 64 Years   \n",
       "1                2.0                          4.0  35 - 44 Years   \n",
       "2                1.0                          2.0  18 - 34 Years   \n",
       "3                4.0                          1.0      65+ Years   \n",
       "4                1.0                          4.0  45 - 54 Years   \n",
       "\n",
       "          education   race     sex             income_poverty marital_status  \\\n",
       "0        < 12 Years  White  Female              Below Poverty    Not Married   \n",
       "1          12 Years  White    Male              Below Poverty    Not Married   \n",
       "2  College Graduate  White    Male  <= $75,000, Above Poverty    Not Married   \n",
       "3          12 Years  White  Female              Below Poverty    Not Married   \n",
       "4      Some College  White  Female  <= $75,000, Above Poverty        Married   \n",
       "\n",
       "  rent_or_own   employment_status hhs_geo_region                census_msa  \\\n",
       "0         Own  Not in Labor Force       oxchjgsf                   Non-MSA   \n",
       "1        Rent            Employed       bhuqouqj  MSA, Not Principle  City   \n",
       "2         Own            Employed       qufhixun  MSA, Not Principle  City   \n",
       "3        Rent  Not in Labor Force       lrircsnp       MSA, Principle City   \n",
       "4         Own            Employed       qufhixun  MSA, Not Principle  City   \n",
       "\n",
       "   household_adults  household_children employment_industry  \\\n",
       "0               0.0                 0.0                 NaN   \n",
       "1               0.0                 0.0            pxcmvdjn   \n",
       "2               2.0                 0.0            rucpziij   \n",
       "3               0.0                 0.0                 NaN   \n",
       "4               1.0                 0.0            wxleyezf   \n",
       "\n",
       "  employment_occupation  \n",
       "0                   NaN  \n",
       "1              xgwztkwe  \n",
       "2              xtkaffoo  \n",
       "3                   NaN  \n",
       "4              emcorrxb  "
      ]
     },
     "execution_count": 7,
     "metadata": {},
     "output_type": "execute_result"
    }
   ],
   "source": [
    "df.head()"
   ]
  },
  {
   "cell_type": "markdown",
   "metadata": {},
   "source": [
    "### Looking up .info to figure out what's missing in our values"
   ]
  },
  {
   "cell_type": "code",
   "execution_count": 8,
   "metadata": {
    "scrolled": true
   },
   "outputs": [
    {
     "name": "stdout",
     "output_type": "stream",
     "text": [
      "<class 'pandas.core.frame.DataFrame'>\n",
      "RangeIndex: 26707 entries, 0 to 26706\n",
      "Data columns (total 36 columns):\n",
      " #   Column                       Non-Null Count  Dtype  \n",
      "---  ------                       --------------  -----  \n",
      " 0   respondent_id                26707 non-null  int64  \n",
      " 1   h1n1_concern                 26615 non-null  float64\n",
      " 2   h1n1_knowledge               26591 non-null  float64\n",
      " 3   behavioral_antiviral_meds    26636 non-null  float64\n",
      " 4   behavioral_avoidance         26499 non-null  float64\n",
      " 5   behavioral_face_mask         26688 non-null  float64\n",
      " 6   behavioral_wash_hands        26665 non-null  float64\n",
      " 7   behavioral_large_gatherings  26620 non-null  float64\n",
      " 8   behavioral_outside_home      26625 non-null  float64\n",
      " 9   behavioral_touch_face        26579 non-null  float64\n",
      " 10  doctor_recc_h1n1             24547 non-null  float64\n",
      " 11  doctor_recc_seasonal         24547 non-null  float64\n",
      " 12  chronic_med_condition        25736 non-null  float64\n",
      " 13  child_under_6_months         25887 non-null  float64\n",
      " 14  health_worker                25903 non-null  float64\n",
      " 15  health_insurance             14433 non-null  float64\n",
      " 16  opinion_h1n1_vacc_effective  26316 non-null  float64\n",
      " 17  opinion_h1n1_risk            26319 non-null  float64\n",
      " 18  opinion_h1n1_sick_from_vacc  26312 non-null  float64\n",
      " 19  opinion_seas_vacc_effective  26245 non-null  float64\n",
      " 20  opinion_seas_risk            26193 non-null  float64\n",
      " 21  opinion_seas_sick_from_vacc  26170 non-null  float64\n",
      " 22  age_group                    26707 non-null  object \n",
      " 23  education                    25300 non-null  object \n",
      " 24  race                         26707 non-null  object \n",
      " 25  sex                          26707 non-null  object \n",
      " 26  income_poverty               22284 non-null  object \n",
      " 27  marital_status               25299 non-null  object \n",
      " 28  rent_or_own                  24665 non-null  object \n",
      " 29  employment_status            25244 non-null  object \n",
      " 30  hhs_geo_region               26707 non-null  object \n",
      " 31  census_msa                   26707 non-null  object \n",
      " 32  household_adults             26458 non-null  float64\n",
      " 33  household_children           26458 non-null  float64\n",
      " 34  employment_industry          13377 non-null  object \n",
      " 35  employment_occupation        13237 non-null  object \n",
      "dtypes: float64(23), int64(1), object(12)\n",
      "memory usage: 7.3+ MB\n"
     ]
    }
   ],
   "source": [
    "df.info()"
   ]
  },
  {
   "cell_type": "markdown",
   "metadata": {},
   "source": [
    "- Seems that health insurance is missing information as well as employment_industry and employment_occupation"
   ]
  },
  {
   "cell_type": "code",
   "execution_count": 9,
   "metadata": {
    "scrolled": true
   },
   "outputs": [
    {
     "name": "stdout",
     "output_type": "stream",
     "text": [
      "<class 'pandas.core.frame.DataFrame'>\n",
      "RangeIndex: 26707 entries, 0 to 26706\n",
      "Data columns (total 3 columns):\n",
      " #   Column            Non-Null Count  Dtype\n",
      "---  ------            --------------  -----\n",
      " 0   respondent_id     26707 non-null  int64\n",
      " 1   h1n1_vaccine      26707 non-null  int64\n",
      " 2   seasonal_vaccine  26707 non-null  int64\n",
      "dtypes: int64(3)\n",
      "memory usage: 626.1 KB\n"
     ]
    }
   ],
   "source": [
    "target.info()"
   ]
  },
  {
   "cell_type": "code",
   "execution_count": 10,
   "metadata": {
    "scrolled": false
   },
   "outputs": [],
   "source": [
    "# train[train['respondent_id'] == 33444]"
   ]
  },
  {
   "cell_type": "markdown",
   "metadata": {},
   "source": [
    "- Test data is  numerical values beyond 26706 from our train, these are the \"respondent_id's\" that we are trying to predict their vaccination status for."
   ]
  },
  {
   "cell_type": "markdown",
   "metadata": {},
   "source": [
    "### Merge Target Info to df"
   ]
  },
  {
   "cell_type": "code",
   "execution_count": 11,
   "metadata": {
    "scrolled": true
   },
   "outputs": [
    {
     "data": {
      "text/html": [
       "<div>\n",
       "<style scoped>\n",
       "    .dataframe tbody tr th:only-of-type {\n",
       "        vertical-align: middle;\n",
       "    }\n",
       "\n",
       "    .dataframe tbody tr th {\n",
       "        vertical-align: top;\n",
       "    }\n",
       "\n",
       "    .dataframe thead th {\n",
       "        text-align: right;\n",
       "    }\n",
       "</style>\n",
       "<table border=\"1\" class=\"dataframe\">\n",
       "  <thead>\n",
       "    <tr style=\"text-align: right;\">\n",
       "      <th></th>\n",
       "      <th>respondent_id</th>\n",
       "      <th>h1n1_concern</th>\n",
       "      <th>h1n1_knowledge</th>\n",
       "      <th>behavioral_antiviral_meds</th>\n",
       "      <th>behavioral_avoidance</th>\n",
       "      <th>behavioral_face_mask</th>\n",
       "      <th>behavioral_wash_hands</th>\n",
       "      <th>behavioral_large_gatherings</th>\n",
       "      <th>behavioral_outside_home</th>\n",
       "      <th>behavioral_touch_face</th>\n",
       "      <th>doctor_recc_h1n1</th>\n",
       "      <th>doctor_recc_seasonal</th>\n",
       "      <th>chronic_med_condition</th>\n",
       "      <th>child_under_6_months</th>\n",
       "      <th>health_worker</th>\n",
       "      <th>health_insurance</th>\n",
       "      <th>opinion_h1n1_vacc_effective</th>\n",
       "      <th>opinion_h1n1_risk</th>\n",
       "      <th>opinion_h1n1_sick_from_vacc</th>\n",
       "      <th>opinion_seas_vacc_effective</th>\n",
       "      <th>opinion_seas_risk</th>\n",
       "      <th>opinion_seas_sick_from_vacc</th>\n",
       "      <th>age_group</th>\n",
       "      <th>education</th>\n",
       "      <th>race</th>\n",
       "      <th>sex</th>\n",
       "      <th>income_poverty</th>\n",
       "      <th>marital_status</th>\n",
       "      <th>rent_or_own</th>\n",
       "      <th>employment_status</th>\n",
       "      <th>hhs_geo_region</th>\n",
       "      <th>census_msa</th>\n",
       "      <th>household_adults</th>\n",
       "      <th>household_children</th>\n",
       "      <th>employment_industry</th>\n",
       "      <th>employment_occupation</th>\n",
       "      <th>h1n1_vaccine</th>\n",
       "      <th>seasonal_vaccine</th>\n",
       "    </tr>\n",
       "  </thead>\n",
       "  <tbody>\n",
       "    <tr>\n",
       "      <th>0</th>\n",
       "      <td>0</td>\n",
       "      <td>1.0</td>\n",
       "      <td>0.0</td>\n",
       "      <td>0.0</td>\n",
       "      <td>0.0</td>\n",
       "      <td>0.0</td>\n",
       "      <td>0.0</td>\n",
       "      <td>0.0</td>\n",
       "      <td>1.0</td>\n",
       "      <td>1.0</td>\n",
       "      <td>0.0</td>\n",
       "      <td>0.0</td>\n",
       "      <td>0.0</td>\n",
       "      <td>0.0</td>\n",
       "      <td>0.0</td>\n",
       "      <td>1.0</td>\n",
       "      <td>3.0</td>\n",
       "      <td>1.0</td>\n",
       "      <td>2.0</td>\n",
       "      <td>2.0</td>\n",
       "      <td>1.0</td>\n",
       "      <td>2.0</td>\n",
       "      <td>55 - 64 Years</td>\n",
       "      <td>&lt; 12 Years</td>\n",
       "      <td>White</td>\n",
       "      <td>Female</td>\n",
       "      <td>Below Poverty</td>\n",
       "      <td>Not Married</td>\n",
       "      <td>Own</td>\n",
       "      <td>Not in Labor Force</td>\n",
       "      <td>oxchjgsf</td>\n",
       "      <td>Non-MSA</td>\n",
       "      <td>0.0</td>\n",
       "      <td>0.0</td>\n",
       "      <td>NaN</td>\n",
       "      <td>NaN</td>\n",
       "      <td>0</td>\n",
       "      <td>0</td>\n",
       "    </tr>\n",
       "    <tr>\n",
       "      <th>1</th>\n",
       "      <td>1</td>\n",
       "      <td>3.0</td>\n",
       "      <td>2.0</td>\n",
       "      <td>0.0</td>\n",
       "      <td>1.0</td>\n",
       "      <td>0.0</td>\n",
       "      <td>1.0</td>\n",
       "      <td>0.0</td>\n",
       "      <td>1.0</td>\n",
       "      <td>1.0</td>\n",
       "      <td>0.0</td>\n",
       "      <td>0.0</td>\n",
       "      <td>0.0</td>\n",
       "      <td>0.0</td>\n",
       "      <td>0.0</td>\n",
       "      <td>1.0</td>\n",
       "      <td>5.0</td>\n",
       "      <td>4.0</td>\n",
       "      <td>4.0</td>\n",
       "      <td>4.0</td>\n",
       "      <td>2.0</td>\n",
       "      <td>4.0</td>\n",
       "      <td>35 - 44 Years</td>\n",
       "      <td>12 Years</td>\n",
       "      <td>White</td>\n",
       "      <td>Male</td>\n",
       "      <td>Below Poverty</td>\n",
       "      <td>Not Married</td>\n",
       "      <td>Rent</td>\n",
       "      <td>Employed</td>\n",
       "      <td>bhuqouqj</td>\n",
       "      <td>MSA, Not Principle  City</td>\n",
       "      <td>0.0</td>\n",
       "      <td>0.0</td>\n",
       "      <td>pxcmvdjn</td>\n",
       "      <td>xgwztkwe</td>\n",
       "      <td>0</td>\n",
       "      <td>1</td>\n",
       "    </tr>\n",
       "    <tr>\n",
       "      <th>2</th>\n",
       "      <td>2</td>\n",
       "      <td>1.0</td>\n",
       "      <td>1.0</td>\n",
       "      <td>0.0</td>\n",
       "      <td>1.0</td>\n",
       "      <td>0.0</td>\n",
       "      <td>0.0</td>\n",
       "      <td>0.0</td>\n",
       "      <td>0.0</td>\n",
       "      <td>0.0</td>\n",
       "      <td>NaN</td>\n",
       "      <td>NaN</td>\n",
       "      <td>1.0</td>\n",
       "      <td>0.0</td>\n",
       "      <td>0.0</td>\n",
       "      <td>NaN</td>\n",
       "      <td>3.0</td>\n",
       "      <td>1.0</td>\n",
       "      <td>1.0</td>\n",
       "      <td>4.0</td>\n",
       "      <td>1.0</td>\n",
       "      <td>2.0</td>\n",
       "      <td>18 - 34 Years</td>\n",
       "      <td>College Graduate</td>\n",
       "      <td>White</td>\n",
       "      <td>Male</td>\n",
       "      <td>&lt;= $75,000, Above Poverty</td>\n",
       "      <td>Not Married</td>\n",
       "      <td>Own</td>\n",
       "      <td>Employed</td>\n",
       "      <td>qufhixun</td>\n",
       "      <td>MSA, Not Principle  City</td>\n",
       "      <td>2.0</td>\n",
       "      <td>0.0</td>\n",
       "      <td>rucpziij</td>\n",
       "      <td>xtkaffoo</td>\n",
       "      <td>0</td>\n",
       "      <td>0</td>\n",
       "    </tr>\n",
       "    <tr>\n",
       "      <th>3</th>\n",
       "      <td>3</td>\n",
       "      <td>1.0</td>\n",
       "      <td>1.0</td>\n",
       "      <td>0.0</td>\n",
       "      <td>1.0</td>\n",
       "      <td>0.0</td>\n",
       "      <td>1.0</td>\n",
       "      <td>1.0</td>\n",
       "      <td>0.0</td>\n",
       "      <td>0.0</td>\n",
       "      <td>0.0</td>\n",
       "      <td>1.0</td>\n",
       "      <td>1.0</td>\n",
       "      <td>0.0</td>\n",
       "      <td>0.0</td>\n",
       "      <td>NaN</td>\n",
       "      <td>3.0</td>\n",
       "      <td>3.0</td>\n",
       "      <td>5.0</td>\n",
       "      <td>5.0</td>\n",
       "      <td>4.0</td>\n",
       "      <td>1.0</td>\n",
       "      <td>65+ Years</td>\n",
       "      <td>12 Years</td>\n",
       "      <td>White</td>\n",
       "      <td>Female</td>\n",
       "      <td>Below Poverty</td>\n",
       "      <td>Not Married</td>\n",
       "      <td>Rent</td>\n",
       "      <td>Not in Labor Force</td>\n",
       "      <td>lrircsnp</td>\n",
       "      <td>MSA, Principle City</td>\n",
       "      <td>0.0</td>\n",
       "      <td>0.0</td>\n",
       "      <td>NaN</td>\n",
       "      <td>NaN</td>\n",
       "      <td>0</td>\n",
       "      <td>1</td>\n",
       "    </tr>\n",
       "    <tr>\n",
       "      <th>4</th>\n",
       "      <td>4</td>\n",
       "      <td>2.0</td>\n",
       "      <td>1.0</td>\n",
       "      <td>0.0</td>\n",
       "      <td>1.0</td>\n",
       "      <td>0.0</td>\n",
       "      <td>1.0</td>\n",
       "      <td>1.0</td>\n",
       "      <td>0.0</td>\n",
       "      <td>1.0</td>\n",
       "      <td>0.0</td>\n",
       "      <td>0.0</td>\n",
       "      <td>0.0</td>\n",
       "      <td>0.0</td>\n",
       "      <td>0.0</td>\n",
       "      <td>NaN</td>\n",
       "      <td>3.0</td>\n",
       "      <td>3.0</td>\n",
       "      <td>2.0</td>\n",
       "      <td>3.0</td>\n",
       "      <td>1.0</td>\n",
       "      <td>4.0</td>\n",
       "      <td>45 - 54 Years</td>\n",
       "      <td>Some College</td>\n",
       "      <td>White</td>\n",
       "      <td>Female</td>\n",
       "      <td>&lt;= $75,000, Above Poverty</td>\n",
       "      <td>Married</td>\n",
       "      <td>Own</td>\n",
       "      <td>Employed</td>\n",
       "      <td>qufhixun</td>\n",
       "      <td>MSA, Not Principle  City</td>\n",
       "      <td>1.0</td>\n",
       "      <td>0.0</td>\n",
       "      <td>wxleyezf</td>\n",
       "      <td>emcorrxb</td>\n",
       "      <td>0</td>\n",
       "      <td>0</td>\n",
       "    </tr>\n",
       "  </tbody>\n",
       "</table>\n",
       "</div>"
      ],
      "text/plain": [
       "   respondent_id  h1n1_concern  h1n1_knowledge  behavioral_antiviral_meds  \\\n",
       "0              0           1.0             0.0                        0.0   \n",
       "1              1           3.0             2.0                        0.0   \n",
       "2              2           1.0             1.0                        0.0   \n",
       "3              3           1.0             1.0                        0.0   \n",
       "4              4           2.0             1.0                        0.0   \n",
       "\n",
       "   behavioral_avoidance  behavioral_face_mask  behavioral_wash_hands  \\\n",
       "0                   0.0                   0.0                    0.0   \n",
       "1                   1.0                   0.0                    1.0   \n",
       "2                   1.0                   0.0                    0.0   \n",
       "3                   1.0                   0.0                    1.0   \n",
       "4                   1.0                   0.0                    1.0   \n",
       "\n",
       "   behavioral_large_gatherings  behavioral_outside_home  \\\n",
       "0                          0.0                      1.0   \n",
       "1                          0.0                      1.0   \n",
       "2                          0.0                      0.0   \n",
       "3                          1.0                      0.0   \n",
       "4                          1.0                      0.0   \n",
       "\n",
       "   behavioral_touch_face  doctor_recc_h1n1  doctor_recc_seasonal  \\\n",
       "0                    1.0               0.0                   0.0   \n",
       "1                    1.0               0.0                   0.0   \n",
       "2                    0.0               NaN                   NaN   \n",
       "3                    0.0               0.0                   1.0   \n",
       "4                    1.0               0.0                   0.0   \n",
       "\n",
       "   chronic_med_condition  child_under_6_months  health_worker  \\\n",
       "0                    0.0                   0.0            0.0   \n",
       "1                    0.0                   0.0            0.0   \n",
       "2                    1.0                   0.0            0.0   \n",
       "3                    1.0                   0.0            0.0   \n",
       "4                    0.0                   0.0            0.0   \n",
       "\n",
       "   health_insurance  opinion_h1n1_vacc_effective  opinion_h1n1_risk  \\\n",
       "0               1.0                          3.0                1.0   \n",
       "1               1.0                          5.0                4.0   \n",
       "2               NaN                          3.0                1.0   \n",
       "3               NaN                          3.0                3.0   \n",
       "4               NaN                          3.0                3.0   \n",
       "\n",
       "   opinion_h1n1_sick_from_vacc  opinion_seas_vacc_effective  \\\n",
       "0                          2.0                          2.0   \n",
       "1                          4.0                          4.0   \n",
       "2                          1.0                          4.0   \n",
       "3                          5.0                          5.0   \n",
       "4                          2.0                          3.0   \n",
       "\n",
       "   opinion_seas_risk  opinion_seas_sick_from_vacc      age_group  \\\n",
       "0                1.0                          2.0  55 - 64 Years   \n",
       "1                2.0                          4.0  35 - 44 Years   \n",
       "2                1.0                          2.0  18 - 34 Years   \n",
       "3                4.0                          1.0      65+ Years   \n",
       "4                1.0                          4.0  45 - 54 Years   \n",
       "\n",
       "          education   race     sex             income_poverty marital_status  \\\n",
       "0        < 12 Years  White  Female              Below Poverty    Not Married   \n",
       "1          12 Years  White    Male              Below Poverty    Not Married   \n",
       "2  College Graduate  White    Male  <= $75,000, Above Poverty    Not Married   \n",
       "3          12 Years  White  Female              Below Poverty    Not Married   \n",
       "4      Some College  White  Female  <= $75,000, Above Poverty        Married   \n",
       "\n",
       "  rent_or_own   employment_status hhs_geo_region                census_msa  \\\n",
       "0         Own  Not in Labor Force       oxchjgsf                   Non-MSA   \n",
       "1        Rent            Employed       bhuqouqj  MSA, Not Principle  City   \n",
       "2         Own            Employed       qufhixun  MSA, Not Principle  City   \n",
       "3        Rent  Not in Labor Force       lrircsnp       MSA, Principle City   \n",
       "4         Own            Employed       qufhixun  MSA, Not Principle  City   \n",
       "\n",
       "   household_adults  household_children employment_industry  \\\n",
       "0               0.0                 0.0                 NaN   \n",
       "1               0.0                 0.0            pxcmvdjn   \n",
       "2               2.0                 0.0            rucpziij   \n",
       "3               0.0                 0.0                 NaN   \n",
       "4               1.0                 0.0            wxleyezf   \n",
       "\n",
       "  employment_occupation  h1n1_vaccine  seasonal_vaccine  \n",
       "0                   NaN             0                 0  \n",
       "1              xgwztkwe             0                 1  \n",
       "2              xtkaffoo             0                 0  \n",
       "3                   NaN             0                 1  \n",
       "4              emcorrxb             0                 0  "
      ]
     },
     "execution_count": 11,
     "metadata": {},
     "output_type": "execute_result"
    }
   ],
   "source": [
    "merged_df = df.merge(target, on='respondent_id')\n",
    "merged_df.head()"
   ]
  },
  {
   "cell_type": "code",
   "execution_count": 12,
   "metadata": {},
   "outputs": [
    {
     "name": "stdout",
     "output_type": "stream",
     "text": [
      "<class 'pandas.core.frame.DataFrame'>\n",
      "Int64Index: 26707 entries, 0 to 26706\n",
      "Data columns (total 38 columns):\n",
      " #   Column                       Non-Null Count  Dtype  \n",
      "---  ------                       --------------  -----  \n",
      " 0   respondent_id                26707 non-null  int64  \n",
      " 1   h1n1_concern                 26615 non-null  float64\n",
      " 2   h1n1_knowledge               26591 non-null  float64\n",
      " 3   behavioral_antiviral_meds    26636 non-null  float64\n",
      " 4   behavioral_avoidance         26499 non-null  float64\n",
      " 5   behavioral_face_mask         26688 non-null  float64\n",
      " 6   behavioral_wash_hands        26665 non-null  float64\n",
      " 7   behavioral_large_gatherings  26620 non-null  float64\n",
      " 8   behavioral_outside_home      26625 non-null  float64\n",
      " 9   behavioral_touch_face        26579 non-null  float64\n",
      " 10  doctor_recc_h1n1             24547 non-null  float64\n",
      " 11  doctor_recc_seasonal         24547 non-null  float64\n",
      " 12  chronic_med_condition        25736 non-null  float64\n",
      " 13  child_under_6_months         25887 non-null  float64\n",
      " 14  health_worker                25903 non-null  float64\n",
      " 15  health_insurance             14433 non-null  float64\n",
      " 16  opinion_h1n1_vacc_effective  26316 non-null  float64\n",
      " 17  opinion_h1n1_risk            26319 non-null  float64\n",
      " 18  opinion_h1n1_sick_from_vacc  26312 non-null  float64\n",
      " 19  opinion_seas_vacc_effective  26245 non-null  float64\n",
      " 20  opinion_seas_risk            26193 non-null  float64\n",
      " 21  opinion_seas_sick_from_vacc  26170 non-null  float64\n",
      " 22  age_group                    26707 non-null  object \n",
      " 23  education                    25300 non-null  object \n",
      " 24  race                         26707 non-null  object \n",
      " 25  sex                          26707 non-null  object \n",
      " 26  income_poverty               22284 non-null  object \n",
      " 27  marital_status               25299 non-null  object \n",
      " 28  rent_or_own                  24665 non-null  object \n",
      " 29  employment_status            25244 non-null  object \n",
      " 30  hhs_geo_region               26707 non-null  object \n",
      " 31  census_msa                   26707 non-null  object \n",
      " 32  household_adults             26458 non-null  float64\n",
      " 33  household_children           26458 non-null  float64\n",
      " 34  employment_industry          13377 non-null  object \n",
      " 35  employment_occupation        13237 non-null  object \n",
      " 36  h1n1_vaccine                 26707 non-null  int64  \n",
      " 37  seasonal_vaccine             26707 non-null  int64  \n",
      "dtypes: float64(23), int64(3), object(12)\n",
      "memory usage: 7.9+ MB\n"
     ]
    }
   ],
   "source": [
    "merged_df.info()"
   ]
  },
  {
   "cell_type": "markdown",
   "metadata": {},
   "source": [
    "### Looking at our Target Distribution"
   ]
  },
  {
   "cell_type": "code",
   "execution_count": 13,
   "metadata": {},
   "outputs": [
    {
     "data": {
      "text/plain": [
       "0    0.787546\n",
       "1    0.212454\n",
       "Name: h1n1_vaccine, dtype: float64"
      ]
     },
     "execution_count": 13,
     "metadata": {},
     "output_type": "execute_result"
    }
   ],
   "source": [
    "target['h1n1_vaccine'].value_counts(normalize=True)"
   ]
  },
  {
   "cell_type": "code",
   "execution_count": 14,
   "metadata": {
    "scrolled": false
   },
   "outputs": [
    {
     "data": {
      "text/plain": [
       "0    0.534392\n",
       "1    0.465608\n",
       "Name: seasonal_vaccine, dtype: float64"
      ]
     },
     "execution_count": 14,
     "metadata": {},
     "output_type": "execute_result"
    }
   ],
   "source": [
    "target['seasonal_vaccine'].value_counts(normalize=True)"
   ]
  },
  {
   "cell_type": "code",
   "execution_count": 15,
   "metadata": {},
   "outputs": [
    {
     "data": {
      "image/png": "[encoded data removed]",
      "text/plain": [
       "<Figure size 432x288 with 2 Axes>"
      ]
     },
     "metadata": {
      "needs_background": "light"
     },
     "output_type": "display_data"
    }
   ],
   "source": [
    "fig, ax = plt.subplots(2, 1, sharex=True)\n",
    "\n",
    "n_obs = target.shape[0]\n",
    "\n",
    "(target['h1n1_vaccine']\n",
    "    .value_counts()\n",
    "    .div(n_obs)\n",
    "    .plot.barh(title=\"Proportion of H1N1 Vaccine\", ax=ax[0])\n",
    ")\n",
    "ax[0].set_ylabel(\"h1n1_vaccine\")\n",
    "\n",
    "(target['seasonal_vaccine']\n",
    "    .value_counts()\n",
    "    .div(n_obs)\n",
    "    .plot.barh(title=\"Proportion of Seasonal Vaccine\", ax=ax[1])\n",
    ")\n",
    "ax[1].set_ylabel(\"seasonal_vaccine\")\n",
    "\n",
    "fig.tight_layout()"
   ]
  },
  {
   "cell_type": "markdown",
   "metadata": {},
   "source": [
    "- seasonal_vaccine looks to be more balanced of classes, whereas h1n1 vaccine is less balanced. Can either go with seasonal vaccine or have to address h1n1 utilizing SMOTE\n",
    "- For our business case however, I believe we'll need to utilize H1N1."
   ]
  },
  {
   "cell_type": "code",
   "execution_count": 16,
   "metadata": {
    "scrolled": true
   },
   "outputs": [
    {
     "data": {
      "text/plain": [
       "count    26707.000000\n",
       "mean     13353.000000\n",
       "std       7709.791156\n",
       "min          0.000000\n",
       "25%       6676.500000\n",
       "50%      13353.000000\n",
       "75%      20029.500000\n",
       "max      26706.000000\n",
       "Name: respondent_id, dtype: float64"
      ]
     },
     "execution_count": 16,
     "metadata": {},
     "output_type": "execute_result"
    }
   ],
   "source": [
    "# Wanted to see if the ID numers are organized in numerical order. Looks like they are\n",
    "target['respondent_id'].describe()"
   ]
  },
  {
   "cell_type": "markdown",
   "metadata": {},
   "source": [
    "### Checking for duplicates in the respondent ID"
   ]
  },
  {
   "cell_type": "code",
   "execution_count": 17,
   "metadata": {},
   "outputs": [
    {
     "data": {
      "text/plain": [
       "0"
      ]
     },
     "execution_count": 17,
     "metadata": {},
     "output_type": "execute_result"
    }
   ],
   "source": [
    "# Are there any duplicates?\n",
    "target['respondent_id'].duplicated().sum()"
   ]
  },
  {
   "cell_type": "code",
   "execution_count": 18,
   "metadata": {
    "scrolled": true
   },
   "outputs": [
    {
     "data": {
      "text/plain": [
       "0"
      ]
     },
     "execution_count": 18,
     "metadata": {},
     "output_type": "execute_result"
    }
   ],
   "source": [
    "merged_df['respondent_id'].duplicated().sum()"
   ]
  },
  {
   "cell_type": "markdown",
   "metadata": {},
   "source": [
    "### Further EDA of our objects to see what we can filter out"
   ]
  },
  {
   "cell_type": "code",
   "execution_count": 19,
   "metadata": {
    "scrolled": false
   },
   "outputs": [
    {
     "data": {
      "text/plain": [
       "65+ Years        6843\n",
       "55 - 64 Years    5563\n",
       "45 - 54 Years    5238\n",
       "18 - 34 Years    5215\n",
       "35 - 44 Years    3848\n",
       "Name: age_group, dtype: int64"
      ]
     },
     "execution_count": 19,
     "metadata": {},
     "output_type": "execute_result"
    }
   ],
   "source": [
    "merged_df['age_group'].value_counts()"
   ]
  },
  {
   "cell_type": "code",
   "execution_count": 20,
   "metadata": {
    "scrolled": true
   },
   "outputs": [
    {
     "data": {
      "text/plain": [
       "1.0    14474\n",
       "0.0     8056\n",
       "2.0     2803\n",
       "3.0     1125\n",
       "Name: household_adults, dtype: int64"
      ]
     },
     "execution_count": 20,
     "metadata": {},
     "output_type": "execute_result"
    }
   ],
   "source": [
    "# Need to verify the 0 value for household adults, see what this actually means\n",
    "# Found out it's number of \"other\" household adults so we're good\n",
    "merged_df['household_adults'].value_counts()"
   ]
  },
  {
   "cell_type": "code",
   "execution_count": 21,
   "metadata": {},
   "outputs": [
    {
     "data": {
      "text/plain": [
       "0.0    18672\n",
       "1.0     3175\n",
       "2.0     2864\n",
       "3.0     1747\n",
       "Name: household_children, dtype: int64"
      ]
     },
     "execution_count": 21,
     "metadata": {},
     "output_type": "execute_result"
    }
   ],
   "source": [
    "merged_df['household_children'].value_counts()"
   ]
  },
  {
   "cell_type": "code",
   "execution_count": 22,
   "metadata": {
    "scrolled": true
   },
   "outputs": [
    {
     "data": {
      "text/plain": [
       "fcxhlnwr    2468\n",
       "wxleyezf    1804\n",
       "ldnlellj    1231\n",
       "pxcmvdjn    1037\n",
       "atmlpfrs     926\n",
       "arjwrbjb     871\n",
       "xicduogh     851\n",
       "mfikgejo     614\n",
       "vjjrobsf     527\n",
       "rucpziij     523\n",
       "xqicxuve     511\n",
       "saaquncn     338\n",
       "cfqqtusy     325\n",
       "nduyfdeo     286\n",
       "mcubkhph     275\n",
       "wlfvacwt     215\n",
       "dotnnunm     201\n",
       "haxffmxo     148\n",
       "msuufmds     124\n",
       "phxvnwax      89\n",
       "qnlwzans      13\n",
       "Name: employment_industry, dtype: int64"
      ]
     },
     "execution_count": 22,
     "metadata": {},
     "output_type": "execute_result"
    }
   ],
   "source": [
    "merged_df['employment_industry'].value_counts()"
   ]
  },
  {
   "cell_type": "code",
   "execution_count": 23,
   "metadata": {
    "scrolled": false
   },
   "outputs": [
    {
     "data": {
      "text/plain": [
       "xtkaffoo    1778\n",
       "mxkfnird    1509\n",
       "emcorrxb    1270\n",
       "cmhcxjea    1247\n",
       "xgwztkwe    1082\n",
       "hfxkjkmi     766\n",
       "qxajmpny     548\n",
       "xqwwgdyp     485\n",
       "kldqjyjy     469\n",
       "uqqtjvyb     452\n",
       "tfqavkke     388\n",
       "ukymxvdu     372\n",
       "vlluhbov     354\n",
       "oijqvulv     344\n",
       "ccgxvspp     341\n",
       "bxpfxfdn     331\n",
       "haliazsg     296\n",
       "rcertsgn     276\n",
       "xzmlyyjv     248\n",
       "dlvbwzss     227\n",
       "hodpvpew     208\n",
       "dcjcmpih     148\n",
       "pvmttkik      98\n",
       "Name: employment_occupation, dtype: int64"
      ]
     },
     "execution_count": 23,
     "metadata": {},
     "output_type": "execute_result"
    }
   ],
   "source": [
    "merged_df['employment_occupation'].value_counts()"
   ]
  },
  {
   "cell_type": "code",
   "execution_count": 24,
   "metadata": {},
   "outputs": [
    {
     "data": {
      "text/plain": [
       "lzgpxyit    4297\n",
       "fpwskwrf    3265\n",
       "qufhixun    3102\n",
       "oxchjgsf    2859\n",
       "kbazzjca    2858\n",
       "bhuqouqj    2846\n",
       "mlyzmhmf    2243\n",
       "lrircsnp    2078\n",
       "atmpeygn    2033\n",
       "dqpwygqj    1126\n",
       "Name: hhs_geo_region, dtype: int64"
      ]
     },
     "execution_count": 24,
     "metadata": {},
     "output_type": "execute_result"
    }
   ],
   "source": [
    "merged_df['hhs_geo_region'].value_counts()"
   ]
  },
  {
   "cell_type": "markdown",
   "metadata": {},
   "source": [
    "- Don't think these three will help us too much as they are randomized strings so we will be dropping this from the dataset."
   ]
  },
  {
   "cell_type": "code",
   "execution_count": 25,
   "metadata": {
    "scrolled": true
   },
   "outputs": [
    {
     "data": {
      "text/html": [
       "<div>\n",
       "<style scoped>\n",
       "    .dataframe tbody tr th:only-of-type {\n",
       "        vertical-align: middle;\n",
       "    }\n",
       "\n",
       "    .dataframe tbody tr th {\n",
       "        vertical-align: top;\n",
       "    }\n",
       "\n",
       "    .dataframe thead th {\n",
       "        text-align: right;\n",
       "    }\n",
       "</style>\n",
       "<table border=\"1\" class=\"dataframe\">\n",
       "  <thead>\n",
       "    <tr style=\"text-align: right;\">\n",
       "      <th></th>\n",
       "      <th>respondent_id</th>\n",
       "      <th>h1n1_concern</th>\n",
       "      <th>h1n1_knowledge</th>\n",
       "      <th>behavioral_antiviral_meds</th>\n",
       "      <th>behavioral_avoidance</th>\n",
       "      <th>behavioral_face_mask</th>\n",
       "      <th>behavioral_wash_hands</th>\n",
       "      <th>behavioral_large_gatherings</th>\n",
       "      <th>behavioral_outside_home</th>\n",
       "      <th>behavioral_touch_face</th>\n",
       "      <th>doctor_recc_h1n1</th>\n",
       "      <th>doctor_recc_seasonal</th>\n",
       "      <th>chronic_med_condition</th>\n",
       "      <th>child_under_6_months</th>\n",
       "      <th>health_worker</th>\n",
       "      <th>health_insurance</th>\n",
       "      <th>opinion_h1n1_vacc_effective</th>\n",
       "      <th>opinion_h1n1_risk</th>\n",
       "      <th>opinion_h1n1_sick_from_vacc</th>\n",
       "      <th>opinion_seas_vacc_effective</th>\n",
       "      <th>opinion_seas_risk</th>\n",
       "      <th>opinion_seas_sick_from_vacc</th>\n",
       "      <th>age_group</th>\n",
       "      <th>education</th>\n",
       "      <th>race</th>\n",
       "      <th>sex</th>\n",
       "      <th>income_poverty</th>\n",
       "      <th>marital_status</th>\n",
       "      <th>rent_or_own</th>\n",
       "      <th>employment_status</th>\n",
       "      <th>census_msa</th>\n",
       "      <th>household_adults</th>\n",
       "      <th>household_children</th>\n",
       "      <th>h1n1_vaccine</th>\n",
       "      <th>seasonal_vaccine</th>\n",
       "    </tr>\n",
       "  </thead>\n",
       "  <tbody>\n",
       "    <tr>\n",
       "      <th>0</th>\n",
       "      <td>0</td>\n",
       "      <td>1.0</td>\n",
       "      <td>0.0</td>\n",
       "      <td>0.0</td>\n",
       "      <td>0.0</td>\n",
       "      <td>0.0</td>\n",
       "      <td>0.0</td>\n",
       "      <td>0.0</td>\n",
       "      <td>1.0</td>\n",
       "      <td>1.0</td>\n",
       "      <td>0.0</td>\n",
       "      <td>0.0</td>\n",
       "      <td>0.0</td>\n",
       "      <td>0.0</td>\n",
       "      <td>0.0</td>\n",
       "      <td>1.0</td>\n",
       "      <td>3.0</td>\n",
       "      <td>1.0</td>\n",
       "      <td>2.0</td>\n",
       "      <td>2.0</td>\n",
       "      <td>1.0</td>\n",
       "      <td>2.0</td>\n",
       "      <td>55 - 64 Years</td>\n",
       "      <td>&lt; 12 Years</td>\n",
       "      <td>White</td>\n",
       "      <td>Female</td>\n",
       "      <td>Below Poverty</td>\n",
       "      <td>Not Married</td>\n",
       "      <td>Own</td>\n",
       "      <td>Not in Labor Force</td>\n",
       "      <td>Non-MSA</td>\n",
       "      <td>0.0</td>\n",
       "      <td>0.0</td>\n",
       "      <td>0</td>\n",
       "      <td>0</td>\n",
       "    </tr>\n",
       "    <tr>\n",
       "      <th>1</th>\n",
       "      <td>1</td>\n",
       "      <td>3.0</td>\n",
       "      <td>2.0</td>\n",
       "      <td>0.0</td>\n",
       "      <td>1.0</td>\n",
       "      <td>0.0</td>\n",
       "      <td>1.0</td>\n",
       "      <td>0.0</td>\n",
       "      <td>1.0</td>\n",
       "      <td>1.0</td>\n",
       "      <td>0.0</td>\n",
       "      <td>0.0</td>\n",
       "      <td>0.0</td>\n",
       "      <td>0.0</td>\n",
       "      <td>0.0</td>\n",
       "      <td>1.0</td>\n",
       "      <td>5.0</td>\n",
       "      <td>4.0</td>\n",
       "      <td>4.0</td>\n",
       "      <td>4.0</td>\n",
       "      <td>2.0</td>\n",
       "      <td>4.0</td>\n",
       "      <td>35 - 44 Years</td>\n",
       "      <td>12 Years</td>\n",
       "      <td>White</td>\n",
       "      <td>Male</td>\n",
       "      <td>Below Poverty</td>\n",
       "      <td>Not Married</td>\n",
       "      <td>Rent</td>\n",
       "      <td>Employed</td>\n",
       "      <td>MSA, Not Principle  City</td>\n",
       "      <td>0.0</td>\n",
       "      <td>0.0</td>\n",
       "      <td>0</td>\n",
       "      <td>1</td>\n",
       "    </tr>\n",
       "    <tr>\n",
       "      <th>2</th>\n",
       "      <td>2</td>\n",
       "      <td>1.0</td>\n",
       "      <td>1.0</td>\n",
       "      <td>0.0</td>\n",
       "      <td>1.0</td>\n",
       "      <td>0.0</td>\n",
       "      <td>0.0</td>\n",
       "      <td>0.0</td>\n",
       "      <td>0.0</td>\n",
       "      <td>0.0</td>\n",
       "      <td>NaN</td>\n",
       "      <td>NaN</td>\n",
       "      <td>1.0</td>\n",
       "      <td>0.0</td>\n",
       "      <td>0.0</td>\n",
       "      <td>NaN</td>\n",
       "      <td>3.0</td>\n",
       "      <td>1.0</td>\n",
       "      <td>1.0</td>\n",
       "      <td>4.0</td>\n",
       "      <td>1.0</td>\n",
       "      <td>2.0</td>\n",
       "      <td>18 - 34 Years</td>\n",
       "      <td>College Graduate</td>\n",
       "      <td>White</td>\n",
       "      <td>Male</td>\n",
       "      <td>&lt;= $75,000, Above Poverty</td>\n",
       "      <td>Not Married</td>\n",
       "      <td>Own</td>\n",
       "      <td>Employed</td>\n",
       "      <td>MSA, Not Principle  City</td>\n",
       "      <td>2.0</td>\n",
       "      <td>0.0</td>\n",
       "      <td>0</td>\n",
       "      <td>0</td>\n",
       "    </tr>\n",
       "    <tr>\n",
       "      <th>3</th>\n",
       "      <td>3</td>\n",
       "      <td>1.0</td>\n",
       "      <td>1.0</td>\n",
       "      <td>0.0</td>\n",
       "      <td>1.0</td>\n",
       "      <td>0.0</td>\n",
       "      <td>1.0</td>\n",
       "      <td>1.0</td>\n",
       "      <td>0.0</td>\n",
       "      <td>0.0</td>\n",
       "      <td>0.0</td>\n",
       "      <td>1.0</td>\n",
       "      <td>1.0</td>\n",
       "      <td>0.0</td>\n",
       "      <td>0.0</td>\n",
       "      <td>NaN</td>\n",
       "      <td>3.0</td>\n",
       "      <td>3.0</td>\n",
       "      <td>5.0</td>\n",
       "      <td>5.0</td>\n",
       "      <td>4.0</td>\n",
       "      <td>1.0</td>\n",
       "      <td>65+ Years</td>\n",
       "      <td>12 Years</td>\n",
       "      <td>White</td>\n",
       "      <td>Female</td>\n",
       "      <td>Below Poverty</td>\n",
       "      <td>Not Married</td>\n",
       "      <td>Rent</td>\n",
       "      <td>Not in Labor Force</td>\n",
       "      <td>MSA, Principle City</td>\n",
       "      <td>0.0</td>\n",
       "      <td>0.0</td>\n",
       "      <td>0</td>\n",
       "      <td>1</td>\n",
       "    </tr>\n",
       "    <tr>\n",
       "      <th>4</th>\n",
       "      <td>4</td>\n",
       "      <td>2.0</td>\n",
       "      <td>1.0</td>\n",
       "      <td>0.0</td>\n",
       "      <td>1.0</td>\n",
       "      <td>0.0</td>\n",
       "      <td>1.0</td>\n",
       "      <td>1.0</td>\n",
       "      <td>0.0</td>\n",
       "      <td>1.0</td>\n",
       "      <td>0.0</td>\n",
       "      <td>0.0</td>\n",
       "      <td>0.0</td>\n",
       "      <td>0.0</td>\n",
       "      <td>0.0</td>\n",
       "      <td>NaN</td>\n",
       "      <td>3.0</td>\n",
       "      <td>3.0</td>\n",
       "      <td>2.0</td>\n",
       "      <td>3.0</td>\n",
       "      <td>1.0</td>\n",
       "      <td>4.0</td>\n",
       "      <td>45 - 54 Years</td>\n",
       "      <td>Some College</td>\n",
       "      <td>White</td>\n",
       "      <td>Female</td>\n",
       "      <td>&lt;= $75,000, Above Poverty</td>\n",
       "      <td>Married</td>\n",
       "      <td>Own</td>\n",
       "      <td>Employed</td>\n",
       "      <td>MSA, Not Principle  City</td>\n",
       "      <td>1.0</td>\n",
       "      <td>0.0</td>\n",
       "      <td>0</td>\n",
       "      <td>0</td>\n",
       "    </tr>\n",
       "  </tbody>\n",
       "</table>\n",
       "</div>"
      ],
      "text/plain": [
       "   respondent_id  h1n1_concern  h1n1_knowledge  behavioral_antiviral_meds  \\\n",
       "0              0           1.0             0.0                        0.0   \n",
       "1              1           3.0             2.0                        0.0   \n",
       "2              2           1.0             1.0                        0.0   \n",
       "3              3           1.0             1.0                        0.0   \n",
       "4              4           2.0             1.0                        0.0   \n",
       "\n",
       "   behavioral_avoidance  behavioral_face_mask  behavioral_wash_hands  \\\n",
       "0                   0.0                   0.0                    0.0   \n",
       "1                   1.0                   0.0                    1.0   \n",
       "2                   1.0                   0.0                    0.0   \n",
       "3                   1.0                   0.0                    1.0   \n",
       "4                   1.0                   0.0                    1.0   \n",
       "\n",
       "   behavioral_large_gatherings  behavioral_outside_home  \\\n",
       "0                          0.0                      1.0   \n",
       "1                          0.0                      1.0   \n",
       "2                          0.0                      0.0   \n",
       "3                          1.0                      0.0   \n",
       "4                          1.0                      0.0   \n",
       "\n",
       "   behavioral_touch_face  doctor_recc_h1n1  doctor_recc_seasonal  \\\n",
       "0                    1.0               0.0                   0.0   \n",
       "1                    1.0               0.0                   0.0   \n",
       "2                    0.0               NaN                   NaN   \n",
       "3                    0.0               0.0                   1.0   \n",
       "4                    1.0               0.0                   0.0   \n",
       "\n",
       "   chronic_med_condition  child_under_6_months  health_worker  \\\n",
       "0                    0.0                   0.0            0.0   \n",
       "1                    0.0                   0.0            0.0   \n",
       "2                    1.0                   0.0            0.0   \n",
       "3                    1.0                   0.0            0.0   \n",
       "4                    0.0                   0.0            0.0   \n",
       "\n",
       "   health_insurance  opinion_h1n1_vacc_effective  opinion_h1n1_risk  \\\n",
       "0               1.0                          3.0                1.0   \n",
       "1               1.0                          5.0                4.0   \n",
       "2               NaN                          3.0                1.0   \n",
       "3               NaN                          3.0                3.0   \n",
       "4               NaN                          3.0                3.0   \n",
       "\n",
       "   opinion_h1n1_sick_from_vacc  opinion_seas_vacc_effective  \\\n",
       "0                          2.0                          2.0   \n",
       "1                          4.0                          4.0   \n",
       "2                          1.0                          4.0   \n",
       "3                          5.0                          5.0   \n",
       "4                          2.0                          3.0   \n",
       "\n",
       "   opinion_seas_risk  opinion_seas_sick_from_vacc      age_group  \\\n",
       "0                1.0                          2.0  55 - 64 Years   \n",
       "1                2.0                          4.0  35 - 44 Years   \n",
       "2                1.0                          2.0  18 - 34 Years   \n",
       "3                4.0                          1.0      65+ Years   \n",
       "4                1.0                          4.0  45 - 54 Years   \n",
       "\n",
       "          education   race     sex             income_poverty marital_status  \\\n",
       "0        < 12 Years  White  Female              Below Poverty    Not Married   \n",
       "1          12 Years  White    Male              Below Poverty    Not Married   \n",
       "2  College Graduate  White    Male  <= $75,000, Above Poverty    Not Married   \n",
       "3          12 Years  White  Female              Below Poverty    Not Married   \n",
       "4      Some College  White  Female  <= $75,000, Above Poverty        Married   \n",
       "\n",
       "  rent_or_own   employment_status                census_msa  household_adults  \\\n",
       "0         Own  Not in Labor Force                   Non-MSA               0.0   \n",
       "1        Rent            Employed  MSA, Not Principle  City               0.0   \n",
       "2         Own            Employed  MSA, Not Principle  City               2.0   \n",
       "3        Rent  Not in Labor Force       MSA, Principle City               0.0   \n",
       "4         Own            Employed  MSA, Not Principle  City               1.0   \n",
       "\n",
       "   household_children  h1n1_vaccine  seasonal_vaccine  \n",
       "0                 0.0             0                 0  \n",
       "1                 0.0             0                 1  \n",
       "2                 0.0             0                 0  \n",
       "3                 0.0             0                 1  \n",
       "4                 0.0             0                 0  "
      ]
     },
     "execution_count": 25,
     "metadata": {},
     "output_type": "execute_result"
    }
   ],
   "source": [
    "# Dropping employment_industry and employment occupation and hss_geo_region\n",
    "\n",
    "merged_df = merged_df.drop(columns=['employment_occupation', 'employment_industry', 'hhs_geo_region'])\n",
    "merged_df.head()"
   ]
  },
  {
   "cell_type": "code",
   "execution_count": 26,
   "metadata": {
    "scrolled": true
   },
   "outputs": [
    {
     "name": "stdout",
     "output_type": "stream",
     "text": [
      "<class 'pandas.core.frame.DataFrame'>\n",
      "Int64Index: 26707 entries, 0 to 26706\n",
      "Data columns (total 35 columns):\n",
      " #   Column                       Non-Null Count  Dtype  \n",
      "---  ------                       --------------  -----  \n",
      " 0   respondent_id                26707 non-null  int64  \n",
      " 1   h1n1_concern                 26615 non-null  float64\n",
      " 2   h1n1_knowledge               26591 non-null  float64\n",
      " 3   behavioral_antiviral_meds    26636 non-null  float64\n",
      " 4   behavioral_avoidance         26499 non-null  float64\n",
      " 5   behavioral_face_mask         26688 non-null  float64\n",
      " 6   behavioral_wash_hands        26665 non-null  float64\n",
      " 7   behavioral_large_gatherings  26620 non-null  float64\n",
      " 8   behavioral_outside_home      26625 non-null  float64\n",
      " 9   behavioral_touch_face        26579 non-null  float64\n",
      " 10  doctor_recc_h1n1             24547 non-null  float64\n",
      " 11  doctor_recc_seasonal         24547 non-null  float64\n",
      " 12  chronic_med_condition        25736 non-null  float64\n",
      " 13  child_under_6_months         25887 non-null  float64\n",
      " 14  health_worker                25903 non-null  float64\n",
      " 15  health_insurance             14433 non-null  float64\n",
      " 16  opinion_h1n1_vacc_effective  26316 non-null  float64\n",
      " 17  opinion_h1n1_risk            26319 non-null  float64\n",
      " 18  opinion_h1n1_sick_from_vacc  26312 non-null  float64\n",
      " 19  opinion_seas_vacc_effective  26245 non-null  float64\n",
      " 20  opinion_seas_risk            26193 non-null  float64\n",
      " 21  opinion_seas_sick_from_vacc  26170 non-null  float64\n",
      " 22  age_group                    26707 non-null  object \n",
      " 23  education                    25300 non-null  object \n",
      " 24  race                         26707 non-null  object \n",
      " 25  sex                          26707 non-null  object \n",
      " 26  income_poverty               22284 non-null  object \n",
      " 27  marital_status               25299 non-null  object \n",
      " 28  rent_or_own                  24665 non-null  object \n",
      " 29  employment_status            25244 non-null  object \n",
      " 30  census_msa                   26707 non-null  object \n",
      " 31  household_adults             26458 non-null  float64\n",
      " 32  household_children           26458 non-null  float64\n",
      " 33  h1n1_vaccine                 26707 non-null  int64  \n",
      " 34  seasonal_vaccine             26707 non-null  int64  \n",
      "dtypes: float64(23), int64(3), object(9)\n",
      "memory usage: 7.3+ MB\n"
     ]
    }
   ],
   "source": [
    "merged_df.info()"
   ]
  },
  {
   "cell_type": "markdown",
   "metadata": {},
   "source": [
    "### Take a closer look at health_insurance"
   ]
  },
  {
   "cell_type": "code",
   "execution_count": 27,
   "metadata": {
    "scrolled": false
   },
   "outputs": [
    {
     "data": {
      "text/plain": [
       "1.0    12697\n",
       "0.0     1736\n",
       "Name: health_insurance, dtype: int64"
      ]
     },
     "execution_count": 27,
     "metadata": {},
     "output_type": "execute_result"
    }
   ],
   "source": [
    "merged_df['health_insurance'].value_counts()"
   ]
  },
  {
   "cell_type": "markdown",
   "metadata": {},
   "source": [
    "- Feel like this would be important to see if this adds to vaccination rate, but it is also imbalanced. Will keep an eye on this for future in case we need to class balance."
   ]
  },
  {
   "cell_type": "code",
   "execution_count": 28,
   "metadata": {},
   "outputs": [],
   "source": [
    "#Group health insurance by group and race, make sure there's not one overly populated group to see\n",
    "#Poverty levels as well, if we don't have time for it we add it as a data limitation\n",
    "#Show who we could use this on, look at the demographics"
   ]
  },
  {
   "cell_type": "code",
   "execution_count": 29,
   "metadata": {
    "scrolled": false
   },
   "outputs": [
    {
     "name": "stdout",
     "output_type": "stream",
     "text": [
      "<class 'pandas.core.frame.DataFrame'>\n",
      "Int64Index: 14433 entries, 0 to 26706\n",
      "Data columns (total 35 columns):\n",
      " #   Column                       Non-Null Count  Dtype  \n",
      "---  ------                       --------------  -----  \n",
      " 0   respondent_id                14433 non-null  int64  \n",
      " 1   h1n1_concern                 14383 non-null  float64\n",
      " 2   h1n1_knowledge               14359 non-null  float64\n",
      " 3   behavioral_antiviral_meds    14386 non-null  float64\n",
      " 4   behavioral_avoidance         14329 non-null  float64\n",
      " 5   behavioral_face_mask         14422 non-null  float64\n",
      " 6   behavioral_wash_hands        14415 non-null  float64\n",
      " 7   behavioral_large_gatherings  14380 non-null  float64\n",
      " 8   behavioral_outside_home      14384 non-null  float64\n",
      " 9   behavioral_touch_face        14364 non-null  float64\n",
      " 10  doctor_recc_h1n1             14069 non-null  float64\n",
      " 11  doctor_recc_seasonal         14069 non-null  float64\n",
      " 12  chronic_med_condition        14300 non-null  float64\n",
      " 13  child_under_6_months         14431 non-null  float64\n",
      " 14  health_worker                14423 non-null  float64\n",
      " 15  health_insurance             14433 non-null  float64\n",
      " 16  opinion_h1n1_vacc_effective  14388 non-null  float64\n",
      " 17  opinion_h1n1_risk            14405 non-null  float64\n",
      " 18  opinion_h1n1_sick_from_vacc  14423 non-null  float64\n",
      " 19  opinion_seas_vacc_effective  14403 non-null  float64\n",
      " 20  opinion_seas_risk            14410 non-null  float64\n",
      " 21  opinion_seas_sick_from_vacc  14428 non-null  float64\n",
      " 22  age_group                    14433 non-null  object \n",
      " 23  education                    14337 non-null  object \n",
      " 24  race                         14433 non-null  object \n",
      " 25  sex                          14433 non-null  object \n",
      " 26  income_poverty               12692 non-null  object \n",
      " 27  marital_status               14344 non-null  object \n",
      " 28  rent_or_own                  14018 non-null  object \n",
      " 29  employment_status            14320 non-null  object \n",
      " 30  census_msa                   14433 non-null  object \n",
      " 31  household_adults             14429 non-null  float64\n",
      " 32  household_children           14429 non-null  float64\n",
      " 33  h1n1_vaccine                 14433 non-null  int64  \n",
      " 34  seasonal_vaccine             14433 non-null  int64  \n",
      "dtypes: float64(23), int64(3), object(9)\n",
      "memory usage: 4.0+ MB\n"
     ]
    }
   ],
   "source": [
    "merged_df = merged_df.dropna(subset=['health_insurance'])\n",
    "merged_df.info()"
   ]
  },
  {
   "cell_type": "markdown",
   "metadata": {},
   "source": [
    "- We want to get rid of the other null values, but don't think that imputing here works as we can't simply \"guess\" what the values will be for this data. As the values of each column are approximately the same, we want to try dropping all the null values and see what the resulting data set will be."
   ]
  },
  {
   "cell_type": "code",
   "execution_count": 30,
   "metadata": {},
   "outputs": [],
   "source": [
    "merged_df = merged_df.dropna()"
   ]
  },
  {
   "cell_type": "code",
   "execution_count": 31,
   "metadata": {
    "scrolled": true
   },
   "outputs": [
    {
     "name": "stdout",
     "output_type": "stream",
     "text": [
      "<class 'pandas.core.frame.DataFrame'>\n",
      "Int64Index: 11794 entries, 0 to 26706\n",
      "Data columns (total 35 columns):\n",
      " #   Column                       Non-Null Count  Dtype  \n",
      "---  ------                       --------------  -----  \n",
      " 0   respondent_id                11794 non-null  int64  \n",
      " 1   h1n1_concern                 11794 non-null  float64\n",
      " 2   h1n1_knowledge               11794 non-null  float64\n",
      " 3   behavioral_antiviral_meds    11794 non-null  float64\n",
      " 4   behavioral_avoidance         11794 non-null  float64\n",
      " 5   behavioral_face_mask         11794 non-null  float64\n",
      " 6   behavioral_wash_hands        11794 non-null  float64\n",
      " 7   behavioral_large_gatherings  11794 non-null  float64\n",
      " 8   behavioral_outside_home      11794 non-null  float64\n",
      " 9   behavioral_touch_face        11794 non-null  float64\n",
      " 10  doctor_recc_h1n1             11794 non-null  float64\n",
      " 11  doctor_recc_seasonal         11794 non-null  float64\n",
      " 12  chronic_med_condition        11794 non-null  float64\n",
      " 13  child_under_6_months         11794 non-null  float64\n",
      " 14  health_worker                11794 non-null  float64\n",
      " 15  health_insurance             11794 non-null  float64\n",
      " 16  opinion_h1n1_vacc_effective  11794 non-null  float64\n",
      " 17  opinion_h1n1_risk            11794 non-null  float64\n",
      " 18  opinion_h1n1_sick_from_vacc  11794 non-null  float64\n",
      " 19  opinion_seas_vacc_effective  11794 non-null  float64\n",
      " 20  opinion_seas_risk            11794 non-null  float64\n",
      " 21  opinion_seas_sick_from_vacc  11794 non-null  float64\n",
      " 22  age_group                    11794 non-null  object \n",
      " 23  education                    11794 non-null  object \n",
      " 24  race                         11794 non-null  object \n",
      " 25  sex                          11794 non-null  object \n",
      " 26  income_poverty               11794 non-null  object \n",
      " 27  marital_status               11794 non-null  object \n",
      " 28  rent_or_own                  11794 non-null  object \n",
      " 29  employment_status            11794 non-null  object \n",
      " 30  census_msa                   11794 non-null  object \n",
      " 31  household_adults             11794 non-null  float64\n",
      " 32  household_children           11794 non-null  float64\n",
      " 33  h1n1_vaccine                 11794 non-null  int64  \n",
      " 34  seasonal_vaccine             11794 non-null  int64  \n",
      "dtypes: float64(23), int64(3), object(9)\n",
      "memory usage: 3.2+ MB\n"
     ]
    }
   ],
   "source": [
    "merged_df.info()"
   ]
  },
  {
   "cell_type": "markdown",
   "metadata": {},
   "source": [
    "- We are left with 11,794 values that we can work with."
   ]
  },
  {
   "cell_type": "markdown",
   "metadata": {},
   "source": [
    "### What are some of the distributions of education, race, sex, and income_poverty of this dataset?"
   ]
  },
  {
   "cell_type": "code",
   "execution_count": 32,
   "metadata": {
    "scrolled": false
   },
   "outputs": [
    {
     "data": {
      "text/plain": [
       "White                9457\n",
       "Black                 910\n",
       "Hispanic              742\n",
       "Other or Multiple     685\n",
       "Name: race, dtype: int64"
      ]
     },
     "execution_count": 32,
     "metadata": {},
     "output_type": "execute_result"
    }
   ],
   "source": [
    "merged_df['race'].value_counts()"
   ]
  },
  {
   "cell_type": "markdown",
   "metadata": {},
   "source": [
    "- Looks like the data that we have is imbalanced with a majority of the respondents being White"
   ]
  },
  {
   "cell_type": "code",
   "execution_count": 33,
   "metadata": {
    "scrolled": true
   },
   "outputs": [
    {
     "data": {
      "text/plain": [
       "Female    6997\n",
       "Male      4797\n",
       "Name: sex, dtype: int64"
      ]
     },
     "execution_count": 33,
     "metadata": {},
     "output_type": "execute_result"
    }
   ],
   "source": [
    "merged_df['sex'].value_counts()"
   ]
  },
  {
   "cell_type": "code",
   "execution_count": 34,
   "metadata": {
    "scrolled": true
   },
   "outputs": [
    {
     "data": {
      "text/plain": [
       "<= $75,000, Above Poverty    6750\n",
       "> $75,000                    3629\n",
       "Below Poverty                1415\n",
       "Name: income_poverty, dtype: int64"
      ]
     },
     "execution_count": 34,
     "metadata": {},
     "output_type": "execute_result"
    }
   ],
   "source": [
    "merged_df['income_poverty'].value_counts()"
   ]
  },
  {
   "cell_type": "code",
   "execution_count": 35,
   "metadata": {},
   "outputs": [
    {
     "data": {
      "text/plain": [
       "College Graduate    4802\n",
       "Some College        3363\n",
       "12 Years            2644\n",
       "< 12 Years           985\n",
       "Name: education, dtype: int64"
      ]
     },
     "execution_count": 35,
     "metadata": {},
     "output_type": "execute_result"
    }
   ],
   "source": [
    "merged_df['education'].value_counts()"
   ]
  },
  {
   "cell_type": "code",
   "execution_count": 36,
   "metadata": {},
   "outputs": [
    {
     "name": "stdout",
     "output_type": "stream",
     "text": [
      "College Graduate    4095\n",
      "Some College        2710\n",
      "12 Years            2086\n",
      "< 12 Years           566\n",
      "Name: education, dtype: int64\n",
      "<= $75,000, Above Poverty    5570\n",
      "> $75,000                    3110\n",
      "Below Poverty                 777\n",
      "Name: income_poverty, dtype: int64\n",
      "Female    5638\n",
      "Male      3819\n",
      "Name: sex, dtype: int64\n",
      "65+ Years        2401\n",
      "55 - 64 Years    2175\n",
      "45 - 54 Years    1928\n",
      "18 - 34 Years    1667\n",
      "35 - 44 Years    1286\n",
      "Name: age_group, dtype: int64\n",
      "0    0.682669\n",
      "1    0.317331\n",
      "Name: h1n1_vaccine, dtype: float64\n"
     ]
    }
   ],
   "source": [
    "race_white = merged_df[merged_df.race == 'White']\n",
    "print(race_white['education'].value_counts())\n",
    "print(race_white['income_poverty'].value_counts())\n",
    "print(race_white['sex'].value_counts())\n",
    "print(race_white['age_group'].value_counts())\n",
    "print(race_white['h1n1_vaccine'].value_counts(normalize=True))"
   ]
  },
  {
   "cell_type": "markdown",
   "metadata": {},
   "source": [
    "### Let's try making our first simple model with H1N1 as the target"
   ]
  },
  {
   "cell_type": "code",
   "execution_count": 37,
   "metadata": {},
   "outputs": [],
   "source": [
    "# Set up our X and y\n",
    "\n",
    "X = merged_df.drop(['seasonal_vaccine', 'h1n1_vaccine'], axis=1)\n",
    "y = merged_df['h1n1_vaccine']"
   ]
  },
  {
   "cell_type": "code",
   "execution_count": 38,
   "metadata": {},
   "outputs": [
    {
     "data": {
      "text/html": [
       "<div>\n",
       "<style scoped>\n",
       "    .dataframe tbody tr th:only-of-type {\n",
       "        vertical-align: middle;\n",
       "    }\n",
       "\n",
       "    .dataframe tbody tr th {\n",
       "        vertical-align: top;\n",
       "    }\n",
       "\n",
       "    .dataframe thead th {\n",
       "        text-align: right;\n",
       "    }\n",
       "</style>\n",
       "<table border=\"1\" class=\"dataframe\">\n",
       "  <thead>\n",
       "    <tr style=\"text-align: right;\">\n",
       "      <th></th>\n",
       "      <th>respondent_id</th>\n",
       "      <th>h1n1_concern</th>\n",
       "      <th>h1n1_knowledge</th>\n",
       "      <th>behavioral_antiviral_meds</th>\n",
       "      <th>behavioral_avoidance</th>\n",
       "      <th>behavioral_face_mask</th>\n",
       "      <th>behavioral_wash_hands</th>\n",
       "      <th>behavioral_large_gatherings</th>\n",
       "      <th>behavioral_outside_home</th>\n",
       "      <th>behavioral_touch_face</th>\n",
       "      <th>doctor_recc_h1n1</th>\n",
       "      <th>doctor_recc_seasonal</th>\n",
       "      <th>chronic_med_condition</th>\n",
       "      <th>child_under_6_months</th>\n",
       "      <th>health_worker</th>\n",
       "      <th>health_insurance</th>\n",
       "      <th>opinion_h1n1_vacc_effective</th>\n",
       "      <th>opinion_h1n1_risk</th>\n",
       "      <th>opinion_h1n1_sick_from_vacc</th>\n",
       "      <th>opinion_seas_vacc_effective</th>\n",
       "      <th>opinion_seas_risk</th>\n",
       "      <th>opinion_seas_sick_from_vacc</th>\n",
       "      <th>age_group</th>\n",
       "      <th>education</th>\n",
       "      <th>race</th>\n",
       "      <th>sex</th>\n",
       "      <th>income_poverty</th>\n",
       "      <th>marital_status</th>\n",
       "      <th>rent_or_own</th>\n",
       "      <th>employment_status</th>\n",
       "      <th>census_msa</th>\n",
       "      <th>household_adults</th>\n",
       "      <th>household_children</th>\n",
       "    </tr>\n",
       "  </thead>\n",
       "  <tbody>\n",
       "    <tr>\n",
       "      <th>0</th>\n",
       "      <td>0</td>\n",
       "      <td>1.0</td>\n",
       "      <td>0.0</td>\n",
       "      <td>0.0</td>\n",
       "      <td>0.0</td>\n",
       "      <td>0.0</td>\n",
       "      <td>0.0</td>\n",
       "      <td>0.0</td>\n",
       "      <td>1.0</td>\n",
       "      <td>1.0</td>\n",
       "      <td>0.0</td>\n",
       "      <td>0.0</td>\n",
       "      <td>0.0</td>\n",
       "      <td>0.0</td>\n",
       "      <td>0.0</td>\n",
       "      <td>1.0</td>\n",
       "      <td>3.0</td>\n",
       "      <td>1.0</td>\n",
       "      <td>2.0</td>\n",
       "      <td>2.0</td>\n",
       "      <td>1.0</td>\n",
       "      <td>2.0</td>\n",
       "      <td>55 - 64 Years</td>\n",
       "      <td>&lt; 12 Years</td>\n",
       "      <td>White</td>\n",
       "      <td>Female</td>\n",
       "      <td>Below Poverty</td>\n",
       "      <td>Not Married</td>\n",
       "      <td>Own</td>\n",
       "      <td>Not in Labor Force</td>\n",
       "      <td>Non-MSA</td>\n",
       "      <td>0.0</td>\n",
       "      <td>0.0</td>\n",
       "    </tr>\n",
       "    <tr>\n",
       "      <th>1</th>\n",
       "      <td>1</td>\n",
       "      <td>3.0</td>\n",
       "      <td>2.0</td>\n",
       "      <td>0.0</td>\n",
       "      <td>1.0</td>\n",
       "      <td>0.0</td>\n",
       "      <td>1.0</td>\n",
       "      <td>0.0</td>\n",
       "      <td>1.0</td>\n",
       "      <td>1.0</td>\n",
       "      <td>0.0</td>\n",
       "      <td>0.0</td>\n",
       "      <td>0.0</td>\n",
       "      <td>0.0</td>\n",
       "      <td>0.0</td>\n",
       "      <td>1.0</td>\n",
       "      <td>5.0</td>\n",
       "      <td>4.0</td>\n",
       "      <td>4.0</td>\n",
       "      <td>4.0</td>\n",
       "      <td>2.0</td>\n",
       "      <td>4.0</td>\n",
       "      <td>35 - 44 Years</td>\n",
       "      <td>12 Years</td>\n",
       "      <td>White</td>\n",
       "      <td>Male</td>\n",
       "      <td>Below Poverty</td>\n",
       "      <td>Not Married</td>\n",
       "      <td>Rent</td>\n",
       "      <td>Employed</td>\n",
       "      <td>MSA, Not Principle  City</td>\n",
       "      <td>0.0</td>\n",
       "      <td>0.0</td>\n",
       "    </tr>\n",
       "    <tr>\n",
       "      <th>7</th>\n",
       "      <td>7</td>\n",
       "      <td>1.0</td>\n",
       "      <td>0.0</td>\n",
       "      <td>0.0</td>\n",
       "      <td>1.0</td>\n",
       "      <td>0.0</td>\n",
       "      <td>1.0</td>\n",
       "      <td>0.0</td>\n",
       "      <td>0.0</td>\n",
       "      <td>1.0</td>\n",
       "      <td>1.0</td>\n",
       "      <td>0.0</td>\n",
       "      <td>1.0</td>\n",
       "      <td>0.0</td>\n",
       "      <td>0.0</td>\n",
       "      <td>1.0</td>\n",
       "      <td>5.0</td>\n",
       "      <td>2.0</td>\n",
       "      <td>1.0</td>\n",
       "      <td>4.0</td>\n",
       "      <td>2.0</td>\n",
       "      <td>1.0</td>\n",
       "      <td>45 - 54 Years</td>\n",
       "      <td>Some College</td>\n",
       "      <td>White</td>\n",
       "      <td>Female</td>\n",
       "      <td>&lt;= $75,000, Above Poverty</td>\n",
       "      <td>Married</td>\n",
       "      <td>Own</td>\n",
       "      <td>Employed</td>\n",
       "      <td>Non-MSA</td>\n",
       "      <td>2.0</td>\n",
       "      <td>0.0</td>\n",
       "    </tr>\n",
       "    <tr>\n",
       "      <th>9</th>\n",
       "      <td>9</td>\n",
       "      <td>2.0</td>\n",
       "      <td>1.0</td>\n",
       "      <td>0.0</td>\n",
       "      <td>1.0</td>\n",
       "      <td>0.0</td>\n",
       "      <td>0.0</td>\n",
       "      <td>1.0</td>\n",
       "      <td>0.0</td>\n",
       "      <td>1.0</td>\n",
       "      <td>0.0</td>\n",
       "      <td>0.0</td>\n",
       "      <td>1.0</td>\n",
       "      <td>0.0</td>\n",
       "      <td>0.0</td>\n",
       "      <td>1.0</td>\n",
       "      <td>4.0</td>\n",
       "      <td>2.0</td>\n",
       "      <td>2.0</td>\n",
       "      <td>4.0</td>\n",
       "      <td>2.0</td>\n",
       "      <td>2.0</td>\n",
       "      <td>55 - 64 Years</td>\n",
       "      <td>12 Years</td>\n",
       "      <td>White</td>\n",
       "      <td>Male</td>\n",
       "      <td>&lt;= $75,000, Above Poverty</td>\n",
       "      <td>Not Married</td>\n",
       "      <td>Own</td>\n",
       "      <td>Not in Labor Force</td>\n",
       "      <td>MSA, Not Principle  City</td>\n",
       "      <td>0.0</td>\n",
       "      <td>0.0</td>\n",
       "    </tr>\n",
       "    <tr>\n",
       "      <th>10</th>\n",
       "      <td>10</td>\n",
       "      <td>2.0</td>\n",
       "      <td>1.0</td>\n",
       "      <td>0.0</td>\n",
       "      <td>1.0</td>\n",
       "      <td>0.0</td>\n",
       "      <td>1.0</td>\n",
       "      <td>1.0</td>\n",
       "      <td>0.0</td>\n",
       "      <td>0.0</td>\n",
       "      <td>0.0</td>\n",
       "      <td>0.0</td>\n",
       "      <td>1.0</td>\n",
       "      <td>1.0</td>\n",
       "      <td>0.0</td>\n",
       "      <td>0.0</td>\n",
       "      <td>4.0</td>\n",
       "      <td>1.0</td>\n",
       "      <td>2.0</td>\n",
       "      <td>5.0</td>\n",
       "      <td>4.0</td>\n",
       "      <td>4.0</td>\n",
       "      <td>45 - 54 Years</td>\n",
       "      <td>12 Years</td>\n",
       "      <td>White</td>\n",
       "      <td>Male</td>\n",
       "      <td>&lt;= $75,000, Above Poverty</td>\n",
       "      <td>Married</td>\n",
       "      <td>Rent</td>\n",
       "      <td>Employed</td>\n",
       "      <td>MSA, Not Principle  City</td>\n",
       "      <td>2.0</td>\n",
       "      <td>0.0</td>\n",
       "    </tr>\n",
       "  </tbody>\n",
       "</table>\n",
       "</div>"
      ],
      "text/plain": [
       "    respondent_id  h1n1_concern  h1n1_knowledge  behavioral_antiviral_meds  \\\n",
       "0               0           1.0             0.0                        0.0   \n",
       "1               1           3.0             2.0                        0.0   \n",
       "7               7           1.0             0.0                        0.0   \n",
       "9               9           2.0             1.0                        0.0   \n",
       "10             10           2.0             1.0                        0.0   \n",
       "\n",
       "    behavioral_avoidance  behavioral_face_mask  behavioral_wash_hands  \\\n",
       "0                    0.0                   0.0                    0.0   \n",
       "1                    1.0                   0.0                    1.0   \n",
       "7                    1.0                   0.0                    1.0   \n",
       "9                    1.0                   0.0                    0.0   \n",
       "10                   1.0                   0.0                    1.0   \n",
       "\n",
       "    behavioral_large_gatherings  behavioral_outside_home  \\\n",
       "0                           0.0                      1.0   \n",
       "1                           0.0                      1.0   \n",
       "7                           0.0                      0.0   \n",
       "9                           1.0                      0.0   \n",
       "10                          1.0                      0.0   \n",
       "\n",
       "    behavioral_touch_face  doctor_recc_h1n1  doctor_recc_seasonal  \\\n",
       "0                     1.0               0.0                   0.0   \n",
       "1                     1.0               0.0                   0.0   \n",
       "7                     1.0               1.0                   0.0   \n",
       "9                     1.0               0.0                   0.0   \n",
       "10                    0.0               0.0                   0.0   \n",
       "\n",
       "    chronic_med_condition  child_under_6_months  health_worker  \\\n",
       "0                     0.0                   0.0            0.0   \n",
       "1                     0.0                   0.0            0.0   \n",
       "7                     1.0                   0.0            0.0   \n",
       "9                     1.0                   0.0            0.0   \n",
       "10                    1.0                   1.0            0.0   \n",
       "\n",
       "    health_insurance  opinion_h1n1_vacc_effective  opinion_h1n1_risk  \\\n",
       "0                1.0                          3.0                1.0   \n",
       "1                1.0                          5.0                4.0   \n",
       "7                1.0                          5.0                2.0   \n",
       "9                1.0                          4.0                2.0   \n",
       "10               0.0                          4.0                1.0   \n",
       "\n",
       "    opinion_h1n1_sick_from_vacc  opinion_seas_vacc_effective  \\\n",
       "0                           2.0                          2.0   \n",
       "1                           4.0                          4.0   \n",
       "7                           1.0                          4.0   \n",
       "9                           2.0                          4.0   \n",
       "10                          2.0                          5.0   \n",
       "\n",
       "    opinion_seas_risk  opinion_seas_sick_from_vacc      age_group  \\\n",
       "0                 1.0                          2.0  55 - 64 Years   \n",
       "1                 2.0                          4.0  35 - 44 Years   \n",
       "7                 2.0                          1.0  45 - 54 Years   \n",
       "9                 2.0                          2.0  55 - 64 Years   \n",
       "10                4.0                          4.0  45 - 54 Years   \n",
       "\n",
       "       education   race     sex             income_poverty marital_status  \\\n",
       "0     < 12 Years  White  Female              Below Poverty    Not Married   \n",
       "1       12 Years  White    Male              Below Poverty    Not Married   \n",
       "7   Some College  White  Female  <= $75,000, Above Poverty        Married   \n",
       "9       12 Years  White    Male  <= $75,000, Above Poverty    Not Married   \n",
       "10      12 Years  White    Male  <= $75,000, Above Poverty        Married   \n",
       "\n",
       "   rent_or_own   employment_status                census_msa  \\\n",
       "0          Own  Not in Labor Force                   Non-MSA   \n",
       "1         Rent            Employed  MSA, Not Principle  City   \n",
       "7          Own            Employed                   Non-MSA   \n",
       "9          Own  Not in Labor Force  MSA, Not Principle  City   \n",
       "10        Rent            Employed  MSA, Not Principle  City   \n",
       "\n",
       "    household_adults  household_children  \n",
       "0                0.0                 0.0  \n",
       "1                0.0                 0.0  \n",
       "7                2.0                 0.0  \n",
       "9                0.0                 0.0  \n",
       "10               2.0                 0.0  "
      ]
     },
     "execution_count": 38,
     "metadata": {},
     "output_type": "execute_result"
    }
   ],
   "source": [
    "X.head()"
   ]
  },
  {
   "cell_type": "code",
   "execution_count": 39,
   "metadata": {
    "scrolled": true
   },
   "outputs": [
    {
     "data": {
      "text/plain": [
       "count    11794.000000\n",
       "mean         0.301933\n",
       "std          0.459116\n",
       "min          0.000000\n",
       "25%          0.000000\n",
       "50%          0.000000\n",
       "75%          1.000000\n",
       "max          1.000000\n",
       "Name: h1n1_vaccine, dtype: float64"
      ]
     },
     "execution_count": 39,
     "metadata": {},
     "output_type": "execute_result"
    }
   ],
   "source": [
    "y.describe()"
   ]
  },
  {
   "cell_type": "code",
   "execution_count": 40,
   "metadata": {},
   "outputs": [],
   "source": [
    "# Train test Split\n",
    "\n",
    "X_train, X_test, y_train, y_test = train_test_split(X, y, test_size=0.25, random_state=1337)"
   ]
  },
  {
   "cell_type": "code",
   "execution_count": 41,
   "metadata": {},
   "outputs": [
    {
     "data": {
      "text/plain": [
       "(8845, 33)"
      ]
     },
     "execution_count": 41,
     "metadata": {},
     "output_type": "execute_result"
    }
   ],
   "source": [
    "X_train.shape"
   ]
  },
  {
   "cell_type": "code",
   "execution_count": 42,
   "metadata": {
    "scrolled": false
   },
   "outputs": [
    {
     "data": {
      "text/plain": [
       "(2949, 33)"
      ]
     },
     "execution_count": 42,
     "metadata": {},
     "output_type": "execute_result"
    }
   ],
   "source": [
    "X_test.shape"
   ]
  },
  {
   "cell_type": "code",
   "execution_count": 43,
   "metadata": {},
   "outputs": [
    {
     "data": {
      "text/plain": [
       "count    8845.000000\n",
       "mean        0.302883\n",
       "std         0.459531\n",
       "min         0.000000\n",
       "25%         0.000000\n",
       "50%         0.000000\n",
       "75%         1.000000\n",
       "max         1.000000\n",
       "Name: h1n1_vaccine, dtype: float64"
      ]
     },
     "execution_count": 43,
     "metadata": {},
     "output_type": "execute_result"
    }
   ],
   "source": [
    "y_train.describe()"
   ]
  },
  {
   "cell_type": "code",
   "execution_count": 44,
   "metadata": {
    "scrolled": true
   },
   "outputs": [
    {
     "data": {
      "text/plain": [
       "0    0.697117\n",
       "1    0.302883\n",
       "Name: h1n1_vaccine, dtype: float64"
      ]
     },
     "execution_count": 44,
     "metadata": {},
     "output_type": "execute_result"
    }
   ],
   "source": [
    "y_train.value_counts(normalize=True)"
   ]
  },
  {
   "cell_type": "markdown",
   "metadata": {},
   "source": [
    "- We notice that the target data is imbalanced, with 70% not getting the vaccine and 30% receiving the vaccine. We want to utilze SMOTE in order to over sample the vaccine class. Can utilize this after encoding for the categorical data."
   ]
  },
  {
   "cell_type": "markdown",
   "metadata": {},
   "source": [
    "### At this point, will need to One-Hot-Encode the categorical data"
   ]
  },
  {
   "cell_type": "markdown",
   "metadata": {},
   "source": [
    "#### For the Training Data"
   ]
  },
  {
   "cell_type": "code",
   "execution_count": 45,
   "metadata": {},
   "outputs": [],
   "source": [
    "X_train_cat = X_train.select_dtypes('object')\n",
    "\n",
    "ohe = OneHotEncoder(sparse=False)\n",
    "\n",
    "dums = ohe.fit_transform(X_train_cat)\n",
    "dums_df = pd.DataFrame(dums, \n",
    "                       columns=ohe.get_feature_names(), \n",
    "                       index=X_train_cat.index)"
   ]
  },
  {
   "cell_type": "code",
   "execution_count": 46,
   "metadata": {
    "scrolled": true
   },
   "outputs": [
    {
     "name": "stdout",
     "output_type": "stream",
     "text": [
      "<class 'pandas.core.frame.DataFrame'>\n",
      "Int64Index: 8845 entries, 19032 to 7311\n",
      "Data columns (total 28 columns):\n",
      " #   Column                        Non-Null Count  Dtype  \n",
      "---  ------                        --------------  -----  \n",
      " 0   x0_18 - 34 Years              8845 non-null   float64\n",
      " 1   x0_35 - 44 Years              8845 non-null   float64\n",
      " 2   x0_45 - 54 Years              8845 non-null   float64\n",
      " 3   x0_55 - 64 Years              8845 non-null   float64\n",
      " 4   x0_65+ Years                  8845 non-null   float64\n",
      " 5   x1_12 Years                   8845 non-null   float64\n",
      " 6   x1_< 12 Years                 8845 non-null   float64\n",
      " 7   x1_College Graduate           8845 non-null   float64\n",
      " 8   x1_Some College               8845 non-null   float64\n",
      " 9   x2_Black                      8845 non-null   float64\n",
      " 10  x2_Hispanic                   8845 non-null   float64\n",
      " 11  x2_Other or Multiple          8845 non-null   float64\n",
      " 12  x2_White                      8845 non-null   float64\n",
      " 13  x3_Female                     8845 non-null   float64\n",
      " 14  x3_Male                       8845 non-null   float64\n",
      " 15  x4_<= $75,000, Above Poverty  8845 non-null   float64\n",
      " 16  x4_> $75,000                  8845 non-null   float64\n",
      " 17  x4_Below Poverty              8845 non-null   float64\n",
      " 18  x5_Married                    8845 non-null   float64\n",
      " 19  x5_Not Married                8845 non-null   float64\n",
      " 20  x6_Own                        8845 non-null   float64\n",
      " 21  x6_Rent                       8845 non-null   float64\n",
      " 22  x7_Employed                   8845 non-null   float64\n",
      " 23  x7_Not in Labor Force         8845 non-null   float64\n",
      " 24  x7_Unemployed                 8845 non-null   float64\n",
      " 25  x8_MSA, Not Principle  City   8845 non-null   float64\n",
      " 26  x8_MSA, Principle City        8845 non-null   float64\n",
      " 27  x8_Non-MSA                    8845 non-null   float64\n",
      "dtypes: float64(28)\n",
      "memory usage: 2.0 MB\n"
     ]
    }
   ],
   "source": [
    "dums_df.info()"
   ]
  },
  {
   "cell_type": "code",
   "execution_count": 47,
   "metadata": {
    "scrolled": false
   },
   "outputs": [
    {
     "data": {
      "text/html": [
       "<div>\n",
       "<style scoped>\n",
       "    .dataframe tbody tr th:only-of-type {\n",
       "        vertical-align: middle;\n",
       "    }\n",
       "\n",
       "    .dataframe tbody tr th {\n",
       "        vertical-align: top;\n",
       "    }\n",
       "\n",
       "    .dataframe thead th {\n",
       "        text-align: right;\n",
       "    }\n",
       "</style>\n",
       "<table border=\"1\" class=\"dataframe\">\n",
       "  <thead>\n",
       "    <tr style=\"text-align: right;\">\n",
       "      <th></th>\n",
       "      <th>x0_18 - 34 Years</th>\n",
       "      <th>x0_35 - 44 Years</th>\n",
       "      <th>x0_45 - 54 Years</th>\n",
       "      <th>x0_55 - 64 Years</th>\n",
       "      <th>x0_65+ Years</th>\n",
       "      <th>x1_12 Years</th>\n",
       "      <th>x1_&lt; 12 Years</th>\n",
       "      <th>x1_College Graduate</th>\n",
       "      <th>x1_Some College</th>\n",
       "      <th>x2_Black</th>\n",
       "      <th>x2_Hispanic</th>\n",
       "      <th>x2_Other or Multiple</th>\n",
       "      <th>x2_White</th>\n",
       "      <th>x3_Female</th>\n",
       "      <th>x3_Male</th>\n",
       "      <th>x4_&lt;= $75,000, Above Poverty</th>\n",
       "      <th>x4_&gt; $75,000</th>\n",
       "      <th>x4_Below Poverty</th>\n",
       "      <th>x5_Married</th>\n",
       "      <th>x5_Not Married</th>\n",
       "      <th>x6_Own</th>\n",
       "      <th>x6_Rent</th>\n",
       "      <th>x7_Employed</th>\n",
       "      <th>x7_Not in Labor Force</th>\n",
       "      <th>x7_Unemployed</th>\n",
       "      <th>x8_MSA, Not Principle  City</th>\n",
       "      <th>x8_MSA, Principle City</th>\n",
       "      <th>x8_Non-MSA</th>\n",
       "    </tr>\n",
       "  </thead>\n",
       "  <tbody>\n",
       "    <tr>\n",
       "      <th>19032</th>\n",
       "      <td>0.0</td>\n",
       "      <td>0.0</td>\n",
       "      <td>1.0</td>\n",
       "      <td>0.0</td>\n",
       "      <td>0.0</td>\n",
       "      <td>0.0</td>\n",
       "      <td>0.0</td>\n",
       "      <td>1.0</td>\n",
       "      <td>0.0</td>\n",
       "      <td>0.0</td>\n",
       "      <td>0.0</td>\n",
       "      <td>0.0</td>\n",
       "      <td>1.0</td>\n",
       "      <td>1.0</td>\n",
       "      <td>0.0</td>\n",
       "      <td>1.0</td>\n",
       "      <td>0.0</td>\n",
       "      <td>0.0</td>\n",
       "      <td>0.0</td>\n",
       "      <td>1.0</td>\n",
       "      <td>1.0</td>\n",
       "      <td>0.0</td>\n",
       "      <td>1.0</td>\n",
       "      <td>0.0</td>\n",
       "      <td>0.0</td>\n",
       "      <td>0.0</td>\n",
       "      <td>0.0</td>\n",
       "      <td>1.0</td>\n",
       "    </tr>\n",
       "    <tr>\n",
       "      <th>10540</th>\n",
       "      <td>0.0</td>\n",
       "      <td>0.0</td>\n",
       "      <td>1.0</td>\n",
       "      <td>0.0</td>\n",
       "      <td>0.0</td>\n",
       "      <td>0.0</td>\n",
       "      <td>0.0</td>\n",
       "      <td>0.0</td>\n",
       "      <td>1.0</td>\n",
       "      <td>0.0</td>\n",
       "      <td>0.0</td>\n",
       "      <td>0.0</td>\n",
       "      <td>1.0</td>\n",
       "      <td>0.0</td>\n",
       "      <td>1.0</td>\n",
       "      <td>0.0</td>\n",
       "      <td>1.0</td>\n",
       "      <td>0.0</td>\n",
       "      <td>1.0</td>\n",
       "      <td>0.0</td>\n",
       "      <td>1.0</td>\n",
       "      <td>0.0</td>\n",
       "      <td>1.0</td>\n",
       "      <td>0.0</td>\n",
       "      <td>0.0</td>\n",
       "      <td>0.0</td>\n",
       "      <td>1.0</td>\n",
       "      <td>0.0</td>\n",
       "    </tr>\n",
       "    <tr>\n",
       "      <th>16637</th>\n",
       "      <td>1.0</td>\n",
       "      <td>0.0</td>\n",
       "      <td>0.0</td>\n",
       "      <td>0.0</td>\n",
       "      <td>0.0</td>\n",
       "      <td>1.0</td>\n",
       "      <td>0.0</td>\n",
       "      <td>0.0</td>\n",
       "      <td>0.0</td>\n",
       "      <td>0.0</td>\n",
       "      <td>0.0</td>\n",
       "      <td>0.0</td>\n",
       "      <td>1.0</td>\n",
       "      <td>0.0</td>\n",
       "      <td>1.0</td>\n",
       "      <td>1.0</td>\n",
       "      <td>0.0</td>\n",
       "      <td>0.0</td>\n",
       "      <td>1.0</td>\n",
       "      <td>0.0</td>\n",
       "      <td>0.0</td>\n",
       "      <td>1.0</td>\n",
       "      <td>1.0</td>\n",
       "      <td>0.0</td>\n",
       "      <td>0.0</td>\n",
       "      <td>0.0</td>\n",
       "      <td>1.0</td>\n",
       "      <td>0.0</td>\n",
       "    </tr>\n",
       "    <tr>\n",
       "      <th>11056</th>\n",
       "      <td>0.0</td>\n",
       "      <td>0.0</td>\n",
       "      <td>0.0</td>\n",
       "      <td>1.0</td>\n",
       "      <td>0.0</td>\n",
       "      <td>1.0</td>\n",
       "      <td>0.0</td>\n",
       "      <td>0.0</td>\n",
       "      <td>0.0</td>\n",
       "      <td>0.0</td>\n",
       "      <td>0.0</td>\n",
       "      <td>0.0</td>\n",
       "      <td>1.0</td>\n",
       "      <td>0.0</td>\n",
       "      <td>1.0</td>\n",
       "      <td>0.0</td>\n",
       "      <td>1.0</td>\n",
       "      <td>0.0</td>\n",
       "      <td>1.0</td>\n",
       "      <td>0.0</td>\n",
       "      <td>1.0</td>\n",
       "      <td>0.0</td>\n",
       "      <td>1.0</td>\n",
       "      <td>0.0</td>\n",
       "      <td>0.0</td>\n",
       "      <td>0.0</td>\n",
       "      <td>1.0</td>\n",
       "      <td>0.0</td>\n",
       "    </tr>\n",
       "    <tr>\n",
       "      <th>3102</th>\n",
       "      <td>1.0</td>\n",
       "      <td>0.0</td>\n",
       "      <td>0.0</td>\n",
       "      <td>0.0</td>\n",
       "      <td>0.0</td>\n",
       "      <td>0.0</td>\n",
       "      <td>1.0</td>\n",
       "      <td>0.0</td>\n",
       "      <td>0.0</td>\n",
       "      <td>0.0</td>\n",
       "      <td>1.0</td>\n",
       "      <td>0.0</td>\n",
       "      <td>0.0</td>\n",
       "      <td>0.0</td>\n",
       "      <td>1.0</td>\n",
       "      <td>0.0</td>\n",
       "      <td>0.0</td>\n",
       "      <td>1.0</td>\n",
       "      <td>0.0</td>\n",
       "      <td>1.0</td>\n",
       "      <td>0.0</td>\n",
       "      <td>1.0</td>\n",
       "      <td>0.0</td>\n",
       "      <td>0.0</td>\n",
       "      <td>1.0</td>\n",
       "      <td>1.0</td>\n",
       "      <td>0.0</td>\n",
       "      <td>0.0</td>\n",
       "    </tr>\n",
       "  </tbody>\n",
       "</table>\n",
       "</div>"
      ],
      "text/plain": [
       "       x0_18 - 34 Years  x0_35 - 44 Years  x0_45 - 54 Years  x0_55 - 64 Years  \\\n",
       "19032               0.0               0.0               1.0               0.0   \n",
       "10540               0.0               0.0               1.0               0.0   \n",
       "16637               1.0               0.0               0.0               0.0   \n",
       "11056               0.0               0.0               0.0               1.0   \n",
       "3102                1.0               0.0               0.0               0.0   \n",
       "\n",
       "       x0_65+ Years  x1_12 Years  x1_< 12 Years  x1_College Graduate  \\\n",
       "19032           0.0          0.0            0.0                  1.0   \n",
       "10540           0.0          0.0            0.0                  0.0   \n",
       "16637           0.0          1.0            0.0                  0.0   \n",
       "11056           0.0          1.0            0.0                  0.0   \n",
       "3102            0.0          0.0            1.0                  0.0   \n",
       "\n",
       "       x1_Some College  x2_Black  x2_Hispanic  x2_Other or Multiple  x2_White  \\\n",
       "19032              0.0       0.0          0.0                   0.0       1.0   \n",
       "10540              1.0       0.0          0.0                   0.0       1.0   \n",
       "16637              0.0       0.0          0.0                   0.0       1.0   \n",
       "11056              0.0       0.0          0.0                   0.0       1.0   \n",
       "3102               0.0       0.0          1.0                   0.0       0.0   \n",
       "\n",
       "       x3_Female  x3_Male  x4_<= $75,000, Above Poverty  x4_> $75,000  \\\n",
       "19032        1.0      0.0                           1.0           0.0   \n",
       "10540        0.0      1.0                           0.0           1.0   \n",
       "16637        0.0      1.0                           1.0           0.0   \n",
       "11056        0.0      1.0                           0.0           1.0   \n",
       "3102         0.0      1.0                           0.0           0.0   \n",
       "\n",
       "       x4_Below Poverty  x5_Married  x5_Not Married  x6_Own  x6_Rent  \\\n",
       "19032               0.0         0.0             1.0     1.0      0.0   \n",
       "10540               0.0         1.0             0.0     1.0      0.0   \n",
       "16637               0.0         1.0             0.0     0.0      1.0   \n",
       "11056               0.0         1.0             0.0     1.0      0.0   \n",
       "3102                1.0         0.0             1.0     0.0      1.0   \n",
       "\n",
       "       x7_Employed  x7_Not in Labor Force  x7_Unemployed  \\\n",
       "19032          1.0                    0.0            0.0   \n",
       "10540          1.0                    0.0            0.0   \n",
       "16637          1.0                    0.0            0.0   \n",
       "11056          1.0                    0.0            0.0   \n",
       "3102           0.0                    0.0            1.0   \n",
       "\n",
       "       x8_MSA, Not Principle  City  x8_MSA, Principle City  x8_Non-MSA  \n",
       "19032                          0.0                     0.0         1.0  \n",
       "10540                          0.0                     1.0         0.0  \n",
       "16637                          0.0                     1.0         0.0  \n",
       "11056                          0.0                     1.0         0.0  \n",
       "3102                           1.0                     0.0         0.0  "
      ]
     },
     "execution_count": 47,
     "metadata": {},
     "output_type": "execute_result"
    }
   ],
   "source": [
    "dums_df.head()"
   ]
  },
  {
   "cell_type": "code",
   "execution_count": 48,
   "metadata": {},
   "outputs": [],
   "source": [
    "X_train_nums = X_train.select_dtypes('float64')\n",
    "\n",
    "ss=StandardScaler()\n",
    "\n",
    "ss.fit(X_train_nums)\n",
    "nums_df=pd.DataFrame(ss.transform(X_train_nums),\n",
    "                     columns=X_train_nums.columns,\n",
    "                     index=X_train_nums.index)"
   ]
  },
  {
   "cell_type": "code",
   "execution_count": 49,
   "metadata": {},
   "outputs": [],
   "source": [
    "X_train_clean = pd.concat([nums_df, dums_df], axis=1)"
   ]
  },
  {
   "cell_type": "code",
   "execution_count": 50,
   "metadata": {
    "scrolled": false
   },
   "outputs": [
    {
     "data": {
      "text/html": [
       "<div>\n",
       "<style scoped>\n",
       "    .dataframe tbody tr th:only-of-type {\n",
       "        vertical-align: middle;\n",
       "    }\n",
       "\n",
       "    .dataframe tbody tr th {\n",
       "        vertical-align: top;\n",
       "    }\n",
       "\n",
       "    .dataframe thead th {\n",
       "        text-align: right;\n",
       "    }\n",
       "</style>\n",
       "<table border=\"1\" class=\"dataframe\">\n",
       "  <thead>\n",
       "    <tr style=\"text-align: right;\">\n",
       "      <th></th>\n",
       "      <th>h1n1_concern</th>\n",
       "      <th>h1n1_knowledge</th>\n",
       "      <th>behavioral_antiviral_meds</th>\n",
       "      <th>behavioral_avoidance</th>\n",
       "      <th>behavioral_face_mask</th>\n",
       "      <th>behavioral_wash_hands</th>\n",
       "      <th>behavioral_large_gatherings</th>\n",
       "      <th>behavioral_outside_home</th>\n",
       "      <th>behavioral_touch_face</th>\n",
       "      <th>doctor_recc_h1n1</th>\n",
       "      <th>doctor_recc_seasonal</th>\n",
       "      <th>chronic_med_condition</th>\n",
       "      <th>child_under_6_months</th>\n",
       "      <th>health_worker</th>\n",
       "      <th>health_insurance</th>\n",
       "      <th>opinion_h1n1_vacc_effective</th>\n",
       "      <th>opinion_h1n1_risk</th>\n",
       "      <th>opinion_h1n1_sick_from_vacc</th>\n",
       "      <th>opinion_seas_vacc_effective</th>\n",
       "      <th>opinion_seas_risk</th>\n",
       "      <th>opinion_seas_sick_from_vacc</th>\n",
       "      <th>household_adults</th>\n",
       "      <th>household_children</th>\n",
       "      <th>x0_18 - 34 Years</th>\n",
       "      <th>x0_35 - 44 Years</th>\n",
       "      <th>x0_45 - 54 Years</th>\n",
       "      <th>x0_55 - 64 Years</th>\n",
       "      <th>x0_65+ Years</th>\n",
       "      <th>x1_12 Years</th>\n",
       "      <th>x1_&lt; 12 Years</th>\n",
       "      <th>x1_College Graduate</th>\n",
       "      <th>x1_Some College</th>\n",
       "      <th>x2_Black</th>\n",
       "      <th>x2_Hispanic</th>\n",
       "      <th>x2_Other or Multiple</th>\n",
       "      <th>x2_White</th>\n",
       "      <th>x3_Female</th>\n",
       "      <th>x3_Male</th>\n",
       "      <th>x4_&lt;= $75,000, Above Poverty</th>\n",
       "      <th>x4_&gt; $75,000</th>\n",
       "      <th>x4_Below Poverty</th>\n",
       "      <th>x5_Married</th>\n",
       "      <th>x5_Not Married</th>\n",
       "      <th>x6_Own</th>\n",
       "      <th>x6_Rent</th>\n",
       "      <th>x7_Employed</th>\n",
       "      <th>x7_Not in Labor Force</th>\n",
       "      <th>x7_Unemployed</th>\n",
       "      <th>x8_MSA, Not Principle  City</th>\n",
       "      <th>x8_MSA, Principle City</th>\n",
       "      <th>x8_Non-MSA</th>\n",
       "    </tr>\n",
       "  </thead>\n",
       "  <tbody>\n",
       "    <tr>\n",
       "      <th>19032</th>\n",
       "      <td>0.531779</td>\n",
       "      <td>-0.444975</td>\n",
       "      <td>-0.239017</td>\n",
       "      <td>0.604475</td>\n",
       "      <td>-0.272405</td>\n",
       "      <td>0.464191</td>\n",
       "      <td>-0.706148</td>\n",
       "      <td>-0.678094</td>\n",
       "      <td>0.686993</td>\n",
       "      <td>1.738471</td>\n",
       "      <td>1.377715</td>\n",
       "      <td>1.537244</td>\n",
       "      <td>-0.300152</td>\n",
       "      <td>-0.362042</td>\n",
       "      <td>0.368404</td>\n",
       "      <td>-0.980278</td>\n",
       "      <td>1.314066</td>\n",
       "      <td>1.271622</td>\n",
       "      <td>-0.055674</td>\n",
       "      <td>0.902966</td>\n",
       "      <td>-0.071833</td>\n",
       "      <td>-1.174002</td>\n",
       "      <td>1.621585</td>\n",
       "      <td>0.0</td>\n",
       "      <td>0.0</td>\n",
       "      <td>1.0</td>\n",
       "      <td>0.0</td>\n",
       "      <td>0.0</td>\n",
       "      <td>0.0</td>\n",
       "      <td>0.0</td>\n",
       "      <td>1.0</td>\n",
       "      <td>0.0</td>\n",
       "      <td>0.0</td>\n",
       "      <td>0.0</td>\n",
       "      <td>0.0</td>\n",
       "      <td>1.0</td>\n",
       "      <td>1.0</td>\n",
       "      <td>0.0</td>\n",
       "      <td>1.0</td>\n",
       "      <td>0.0</td>\n",
       "      <td>0.0</td>\n",
       "      <td>0.0</td>\n",
       "      <td>1.0</td>\n",
       "      <td>1.0</td>\n",
       "      <td>0.0</td>\n",
       "      <td>1.0</td>\n",
       "      <td>0.0</td>\n",
       "      <td>0.0</td>\n",
       "      <td>0.0</td>\n",
       "      <td>0.0</td>\n",
       "      <td>1.0</td>\n",
       "    </tr>\n",
       "    <tr>\n",
       "      <th>10540</th>\n",
       "      <td>0.531779</td>\n",
       "      <td>-0.444975</td>\n",
       "      <td>-0.239017</td>\n",
       "      <td>-1.654327</td>\n",
       "      <td>-0.272405</td>\n",
       "      <td>-2.154285</td>\n",
       "      <td>-0.706148</td>\n",
       "      <td>-0.678094</td>\n",
       "      <td>-1.455620</td>\n",
       "      <td>-0.575218</td>\n",
       "      <td>-0.725839</td>\n",
       "      <td>-0.650515</td>\n",
       "      <td>-0.300152</td>\n",
       "      <td>-0.362042</td>\n",
       "      <td>0.368404</td>\n",
       "      <td>0.038350</td>\n",
       "      <td>-1.020321</td>\n",
       "      <td>-0.969957</td>\n",
       "      <td>-0.055674</td>\n",
       "      <td>-1.259118</td>\n",
       "      <td>-0.830022</td>\n",
       "      <td>0.126117</td>\n",
       "      <td>2.715880</td>\n",
       "      <td>0.0</td>\n",
       "      <td>0.0</td>\n",
       "      <td>1.0</td>\n",
       "      <td>0.0</td>\n",
       "      <td>0.0</td>\n",
       "      <td>0.0</td>\n",
       "      <td>0.0</td>\n",
       "      <td>0.0</td>\n",
       "      <td>1.0</td>\n",
       "      <td>0.0</td>\n",
       "      <td>0.0</td>\n",
       "      <td>0.0</td>\n",
       "      <td>1.0</td>\n",
       "      <td>0.0</td>\n",
       "      <td>1.0</td>\n",
       "      <td>0.0</td>\n",
       "      <td>1.0</td>\n",
       "      <td>0.0</td>\n",
       "      <td>1.0</td>\n",
       "      <td>0.0</td>\n",
       "      <td>1.0</td>\n",
       "      <td>0.0</td>\n",
       "      <td>1.0</td>\n",
       "      <td>0.0</td>\n",
       "      <td>0.0</td>\n",
       "      <td>0.0</td>\n",
       "      <td>1.0</td>\n",
       "      <td>0.0</td>\n",
       "    </tr>\n",
       "    <tr>\n",
       "      <th>16637</th>\n",
       "      <td>-0.596179</td>\n",
       "      <td>1.216404</td>\n",
       "      <td>-0.239017</td>\n",
       "      <td>0.604475</td>\n",
       "      <td>3.671004</td>\n",
       "      <td>0.464191</td>\n",
       "      <td>1.416134</td>\n",
       "      <td>-0.678094</td>\n",
       "      <td>0.686993</td>\n",
       "      <td>-0.575218</td>\n",
       "      <td>-0.725839</td>\n",
       "      <td>-0.650515</td>\n",
       "      <td>3.331646</td>\n",
       "      <td>2.762113</td>\n",
       "      <td>0.368404</td>\n",
       "      <td>0.038350</td>\n",
       "      <td>-1.020321</td>\n",
       "      <td>-0.222764</td>\n",
       "      <td>-0.055674</td>\n",
       "      <td>-1.259118</td>\n",
       "      <td>-0.830022</td>\n",
       "      <td>0.126117</td>\n",
       "      <td>-0.567004</td>\n",
       "      <td>1.0</td>\n",
       "      <td>0.0</td>\n",
       "      <td>0.0</td>\n",
       "      <td>0.0</td>\n",
       "      <td>0.0</td>\n",
       "      <td>1.0</td>\n",
       "      <td>0.0</td>\n",
       "      <td>0.0</td>\n",
       "      <td>0.0</td>\n",
       "      <td>0.0</td>\n",
       "      <td>0.0</td>\n",
       "      <td>0.0</td>\n",
       "      <td>1.0</td>\n",
       "      <td>0.0</td>\n",
       "      <td>1.0</td>\n",
       "      <td>1.0</td>\n",
       "      <td>0.0</td>\n",
       "      <td>0.0</td>\n",
       "      <td>1.0</td>\n",
       "      <td>0.0</td>\n",
       "      <td>0.0</td>\n",
       "      <td>1.0</td>\n",
       "      <td>1.0</td>\n",
       "      <td>0.0</td>\n",
       "      <td>0.0</td>\n",
       "      <td>0.0</td>\n",
       "      <td>1.0</td>\n",
       "      <td>0.0</td>\n",
       "    </tr>\n",
       "    <tr>\n",
       "      <th>11056</th>\n",
       "      <td>-0.596179</td>\n",
       "      <td>-0.444975</td>\n",
       "      <td>-0.239017</td>\n",
       "      <td>0.604475</td>\n",
       "      <td>-0.272405</td>\n",
       "      <td>0.464191</td>\n",
       "      <td>-0.706148</td>\n",
       "      <td>1.474721</td>\n",
       "      <td>-1.455620</td>\n",
       "      <td>-0.575218</td>\n",
       "      <td>-0.725839</td>\n",
       "      <td>-0.650515</td>\n",
       "      <td>-0.300152</td>\n",
       "      <td>-0.362042</td>\n",
       "      <td>0.368404</td>\n",
       "      <td>0.038350</td>\n",
       "      <td>1.314066</td>\n",
       "      <td>-0.969957</td>\n",
       "      <td>-0.055674</td>\n",
       "      <td>-1.259118</td>\n",
       "      <td>-0.830022</td>\n",
       "      <td>0.126117</td>\n",
       "      <td>-0.567004</td>\n",
       "      <td>0.0</td>\n",
       "      <td>0.0</td>\n",
       "      <td>0.0</td>\n",
       "      <td>1.0</td>\n",
       "      <td>0.0</td>\n",
       "      <td>1.0</td>\n",
       "      <td>0.0</td>\n",
       "      <td>0.0</td>\n",
       "      <td>0.0</td>\n",
       "      <td>0.0</td>\n",
       "      <td>0.0</td>\n",
       "      <td>0.0</td>\n",
       "      <td>1.0</td>\n",
       "      <td>0.0</td>\n",
       "      <td>1.0</td>\n",
       "      <td>0.0</td>\n",
       "      <td>1.0</td>\n",
       "      <td>0.0</td>\n",
       "      <td>1.0</td>\n",
       "      <td>0.0</td>\n",
       "      <td>1.0</td>\n",
       "      <td>0.0</td>\n",
       "      <td>1.0</td>\n",
       "      <td>0.0</td>\n",
       "      <td>0.0</td>\n",
       "      <td>0.0</td>\n",
       "      <td>1.0</td>\n",
       "      <td>0.0</td>\n",
       "    </tr>\n",
       "    <tr>\n",
       "      <th>3102</th>\n",
       "      <td>-0.596179</td>\n",
       "      <td>-0.444975</td>\n",
       "      <td>-0.239017</td>\n",
       "      <td>0.604475</td>\n",
       "      <td>-0.272405</td>\n",
       "      <td>0.464191</td>\n",
       "      <td>1.416134</td>\n",
       "      <td>-0.678094</td>\n",
       "      <td>0.686993</td>\n",
       "      <td>-0.575218</td>\n",
       "      <td>-0.725839</td>\n",
       "      <td>-0.650515</td>\n",
       "      <td>-0.300152</td>\n",
       "      <td>-0.362042</td>\n",
       "      <td>-2.714410</td>\n",
       "      <td>1.056977</td>\n",
       "      <td>2.092195</td>\n",
       "      <td>1.271622</td>\n",
       "      <td>0.875203</td>\n",
       "      <td>-0.538423</td>\n",
       "      <td>-0.071833</td>\n",
       "      <td>0.126117</td>\n",
       "      <td>0.527291</td>\n",
       "      <td>1.0</td>\n",
       "      <td>0.0</td>\n",
       "      <td>0.0</td>\n",
       "      <td>0.0</td>\n",
       "      <td>0.0</td>\n",
       "      <td>0.0</td>\n",
       "      <td>1.0</td>\n",
       "      <td>0.0</td>\n",
       "      <td>0.0</td>\n",
       "      <td>0.0</td>\n",
       "      <td>1.0</td>\n",
       "      <td>0.0</td>\n",
       "      <td>0.0</td>\n",
       "      <td>0.0</td>\n",
       "      <td>1.0</td>\n",
       "      <td>0.0</td>\n",
       "      <td>0.0</td>\n",
       "      <td>1.0</td>\n",
       "      <td>0.0</td>\n",
       "      <td>1.0</td>\n",
       "      <td>0.0</td>\n",
       "      <td>1.0</td>\n",
       "      <td>0.0</td>\n",
       "      <td>0.0</td>\n",
       "      <td>1.0</td>\n",
       "      <td>1.0</td>\n",
       "      <td>0.0</td>\n",
       "      <td>0.0</td>\n",
       "    </tr>\n",
       "  </tbody>\n",
       "</table>\n",
       "</div>"
      ],
      "text/plain": [
       "       h1n1_concern  h1n1_knowledge  behavioral_antiviral_meds  \\\n",
       "19032      0.531779       -0.444975                  -0.239017   \n",
       "10540      0.531779       -0.444975                  -0.239017   \n",
       "16637     -0.596179        1.216404                  -0.239017   \n",
       "11056     -0.596179       -0.444975                  -0.239017   \n",
       "3102      -0.596179       -0.444975                  -0.239017   \n",
       "\n",
       "       behavioral_avoidance  behavioral_face_mask  behavioral_wash_hands  \\\n",
       "19032              0.604475             -0.272405               0.464191   \n",
       "10540             -1.654327             -0.272405              -2.154285   \n",
       "16637              0.604475              3.671004               0.464191   \n",
       "11056              0.604475             -0.272405               0.464191   \n",
       "3102               0.604475             -0.272405               0.464191   \n",
       "\n",
       "       behavioral_large_gatherings  behavioral_outside_home  \\\n",
       "19032                    -0.706148                -0.678094   \n",
       "10540                    -0.706148                -0.678094   \n",
       "16637                     1.416134                -0.678094   \n",
       "11056                    -0.706148                 1.474721   \n",
       "3102                      1.416134                -0.678094   \n",
       "\n",
       "       behavioral_touch_face  doctor_recc_h1n1  doctor_recc_seasonal  \\\n",
       "19032               0.686993          1.738471              1.377715   \n",
       "10540              -1.455620         -0.575218             -0.725839   \n",
       "16637               0.686993         -0.575218             -0.725839   \n",
       "11056              -1.455620         -0.575218             -0.725839   \n",
       "3102                0.686993         -0.575218             -0.725839   \n",
       "\n",
       "       chronic_med_condition  child_under_6_months  health_worker  \\\n",
       "19032               1.537244             -0.300152      -0.362042   \n",
       "10540              -0.650515             -0.300152      -0.362042   \n",
       "16637              -0.650515              3.331646       2.762113   \n",
       "11056              -0.650515             -0.300152      -0.362042   \n",
       "3102               -0.650515             -0.300152      -0.362042   \n",
       "\n",
       "       health_insurance  opinion_h1n1_vacc_effective  opinion_h1n1_risk  \\\n",
       "19032          0.368404                    -0.980278           1.314066   \n",
       "10540          0.368404                     0.038350          -1.020321   \n",
       "16637          0.368404                     0.038350          -1.020321   \n",
       "11056          0.368404                     0.038350           1.314066   \n",
       "3102          -2.714410                     1.056977           2.092195   \n",
       "\n",
       "       opinion_h1n1_sick_from_vacc  opinion_seas_vacc_effective  \\\n",
       "19032                     1.271622                    -0.055674   \n",
       "10540                    -0.969957                    -0.055674   \n",
       "16637                    -0.222764                    -0.055674   \n",
       "11056                    -0.969957                    -0.055674   \n",
       "3102                      1.271622                     0.875203   \n",
       "\n",
       "       opinion_seas_risk  opinion_seas_sick_from_vacc  household_adults  \\\n",
       "19032           0.902966                    -0.071833         -1.174002   \n",
       "10540          -1.259118                    -0.830022          0.126117   \n",
       "16637          -1.259118                    -0.830022          0.126117   \n",
       "11056          -1.259118                    -0.830022          0.126117   \n",
       "3102           -0.538423                    -0.071833          0.126117   \n",
       "\n",
       "       household_children  x0_18 - 34 Years  x0_35 - 44 Years  \\\n",
       "19032            1.621585               0.0               0.0   \n",
       "10540            2.715880               0.0               0.0   \n",
       "16637           -0.567004               1.0               0.0   \n",
       "11056           -0.567004               0.0               0.0   \n",
       "3102             0.527291               1.0               0.0   \n",
       "\n",
       "       x0_45 - 54 Years  x0_55 - 64 Years  x0_65+ Years  x1_12 Years  \\\n",
       "19032               1.0               0.0           0.0          0.0   \n",
       "10540               1.0               0.0           0.0          0.0   \n",
       "16637               0.0               0.0           0.0          1.0   \n",
       "11056               0.0               1.0           0.0          1.0   \n",
       "3102                0.0               0.0           0.0          0.0   \n",
       "\n",
       "       x1_< 12 Years  x1_College Graduate  x1_Some College  x2_Black  \\\n",
       "19032            0.0                  1.0              0.0       0.0   \n",
       "10540            0.0                  0.0              1.0       0.0   \n",
       "16637            0.0                  0.0              0.0       0.0   \n",
       "11056            0.0                  0.0              0.0       0.0   \n",
       "3102             1.0                  0.0              0.0       0.0   \n",
       "\n",
       "       x2_Hispanic  x2_Other or Multiple  x2_White  x3_Female  x3_Male  \\\n",
       "19032          0.0                   0.0       1.0        1.0      0.0   \n",
       "10540          0.0                   0.0       1.0        0.0      1.0   \n",
       "16637          0.0                   0.0       1.0        0.0      1.0   \n",
       "11056          0.0                   0.0       1.0        0.0      1.0   \n",
       "3102           1.0                   0.0       0.0        0.0      1.0   \n",
       "\n",
       "       x4_<= $75,000, Above Poverty  x4_> $75,000  x4_Below Poverty  \\\n",
       "19032                           1.0           0.0               0.0   \n",
       "10540                           0.0           1.0               0.0   \n",
       "16637                           1.0           0.0               0.0   \n",
       "11056                           0.0           1.0               0.0   \n",
       "3102                            0.0           0.0               1.0   \n",
       "\n",
       "       x5_Married  x5_Not Married  x6_Own  x6_Rent  x7_Employed  \\\n",
       "19032         0.0             1.0     1.0      0.0          1.0   \n",
       "10540         1.0             0.0     1.0      0.0          1.0   \n",
       "16637         1.0             0.0     0.0      1.0          1.0   \n",
       "11056         1.0             0.0     1.0      0.0          1.0   \n",
       "3102          0.0             1.0     0.0      1.0          0.0   \n",
       "\n",
       "       x7_Not in Labor Force  x7_Unemployed  x8_MSA, Not Principle  City  \\\n",
       "19032                    0.0            0.0                          0.0   \n",
       "10540                    0.0            0.0                          0.0   \n",
       "16637                    0.0            0.0                          0.0   \n",
       "11056                    0.0            0.0                          0.0   \n",
       "3102                     0.0            1.0                          1.0   \n",
       "\n",
       "       x8_MSA, Principle City  x8_Non-MSA  \n",
       "19032                     0.0         1.0  \n",
       "10540                     1.0         0.0  \n",
       "16637                     1.0         0.0  \n",
       "11056                     1.0         0.0  \n",
       "3102                      0.0         0.0  "
      ]
     },
     "execution_count": 50,
     "metadata": {},
     "output_type": "execute_result"
    }
   ],
   "source": [
    "X_train_clean.head()"
   ]
  },
  {
   "cell_type": "code",
   "execution_count": 51,
   "metadata": {
    "scrolled": false
   },
   "outputs": [
    {
     "name": "stdout",
     "output_type": "stream",
     "text": [
      "<class 'pandas.core.frame.DataFrame'>\n",
      "Int64Index: 8845 entries, 19032 to 7311\n",
      "Data columns (total 51 columns):\n",
      " #   Column                        Non-Null Count  Dtype  \n",
      "---  ------                        --------------  -----  \n",
      " 0   h1n1_concern                  8845 non-null   float64\n",
      " 1   h1n1_knowledge                8845 non-null   float64\n",
      " 2   behavioral_antiviral_meds     8845 non-null   float64\n",
      " 3   behavioral_avoidance          8845 non-null   float64\n",
      " 4   behavioral_face_mask          8845 non-null   float64\n",
      " 5   behavioral_wash_hands         8845 non-null   float64\n",
      " 6   behavioral_large_gatherings   8845 non-null   float64\n",
      " 7   behavioral_outside_home       8845 non-null   float64\n",
      " 8   behavioral_touch_face         8845 non-null   float64\n",
      " 9   doctor_recc_h1n1              8845 non-null   float64\n",
      " 10  doctor_recc_seasonal          8845 non-null   float64\n",
      " 11  chronic_med_condition         8845 non-null   float64\n",
      " 12  child_under_6_months          8845 non-null   float64\n",
      " 13  health_worker                 8845 non-null   float64\n",
      " 14  health_insurance              8845 non-null   float64\n",
      " 15  opinion_h1n1_vacc_effective   8845 non-null   float64\n",
      " 16  opinion_h1n1_risk             8845 non-null   float64\n",
      " 17  opinion_h1n1_sick_from_vacc   8845 non-null   float64\n",
      " 18  opinion_seas_vacc_effective   8845 non-null   float64\n",
      " 19  opinion_seas_risk             8845 non-null   float64\n",
      " 20  opinion_seas_sick_from_vacc   8845 non-null   float64\n",
      " 21  household_adults              8845 non-null   float64\n",
      " 22  household_children            8845 non-null   float64\n",
      " 23  x0_18 - 34 Years              8845 non-null   float64\n",
      " 24  x0_35 - 44 Years              8845 non-null   float64\n",
      " 25  x0_45 - 54 Years              8845 non-null   float64\n",
      " 26  x0_55 - 64 Years              8845 non-null   float64\n",
      " 27  x0_65+ Years                  8845 non-null   float64\n",
      " 28  x1_12 Years                   8845 non-null   float64\n",
      " 29  x1_< 12 Years                 8845 non-null   float64\n",
      " 30  x1_College Graduate           8845 non-null   float64\n",
      " 31  x1_Some College               8845 non-null   float64\n",
      " 32  x2_Black                      8845 non-null   float64\n",
      " 33  x2_Hispanic                   8845 non-null   float64\n",
      " 34  x2_Other or Multiple          8845 non-null   float64\n",
      " 35  x2_White                      8845 non-null   float64\n",
      " 36  x3_Female                     8845 non-null   float64\n",
      " 37  x3_Male                       8845 non-null   float64\n",
      " 38  x4_<= $75,000, Above Poverty  8845 non-null   float64\n",
      " 39  x4_> $75,000                  8845 non-null   float64\n",
      " 40  x4_Below Poverty              8845 non-null   float64\n",
      " 41  x5_Married                    8845 non-null   float64\n",
      " 42  x5_Not Married                8845 non-null   float64\n",
      " 43  x6_Own                        8845 non-null   float64\n",
      " 44  x6_Rent                       8845 non-null   float64\n",
      " 45  x7_Employed                   8845 non-null   float64\n",
      " 46  x7_Not in Labor Force         8845 non-null   float64\n",
      " 47  x7_Unemployed                 8845 non-null   float64\n",
      " 48  x8_MSA, Not Principle  City   8845 non-null   float64\n",
      " 49  x8_MSA, Principle City        8845 non-null   float64\n",
      " 50  x8_Non-MSA                    8845 non-null   float64\n",
      "dtypes: float64(51)\n",
      "memory usage: 3.5 MB\n"
     ]
    }
   ],
   "source": [
    "X_train_clean.info()"
   ]
  },
  {
   "cell_type": "code",
   "execution_count": 52,
   "metadata": {},
   "outputs": [
    {
     "data": {
      "text/plain": [
       "1.0    7087\n",
       "0.0    1758\n",
       "Name: x2_White, dtype: int64"
      ]
     },
     "execution_count": 52,
     "metadata": {},
     "output_type": "execute_result"
    }
   ],
   "source": [
    "X_train_clean['x2_White'].value_counts()"
   ]
  },
  {
   "cell_type": "markdown",
   "metadata": {},
   "source": [
    "### For the Test Data"
   ]
  },
  {
   "cell_type": "code",
   "execution_count": 53,
   "metadata": {},
   "outputs": [],
   "source": [
    "X_test_cat = X_test.select_dtypes('object')\n",
    "\n",
    "test_dums = ohe.transform(X_test_cat)\n",
    "test_dums_df = pd.DataFrame(test_dums,\n",
    "                           columns=ohe.get_feature_names(),\n",
    "                           index=X_test_cat.index)"
   ]
  },
  {
   "cell_type": "code",
   "execution_count": 54,
   "metadata": {},
   "outputs": [],
   "source": [
    "X_test_nums = X_test.select_dtypes('float64')\n",
    "\n",
    "test_nums = ss.transform(X_test_nums)\n",
    "test_nums_df = pd.DataFrame(test_nums,\n",
    "                            columns=X_test_nums.columns,\n",
    "                            index=X_test_nums.index)"
   ]
  },
  {
   "cell_type": "code",
   "execution_count": 55,
   "metadata": {},
   "outputs": [],
   "source": [
    "X_test_clean = pd.concat([test_nums_df,\n",
    "                         test_dums_df], axis=1)"
   ]
  },
  {
   "cell_type": "code",
   "execution_count": 56,
   "metadata": {
    "scrolled": true
   },
   "outputs": [
    {
     "data": {
      "text/html": [
       "<div>\n",
       "<style scoped>\n",
       "    .dataframe tbody tr th:only-of-type {\n",
       "        vertical-align: middle;\n",
       "    }\n",
       "\n",
       "    .dataframe tbody tr th {\n",
       "        vertical-align: top;\n",
       "    }\n",
       "\n",
       "    .dataframe thead th {\n",
       "        text-align: right;\n",
       "    }\n",
       "</style>\n",
       "<table border=\"1\" class=\"dataframe\">\n",
       "  <thead>\n",
       "    <tr style=\"text-align: right;\">\n",
       "      <th></th>\n",
       "      <th>h1n1_concern</th>\n",
       "      <th>h1n1_knowledge</th>\n",
       "      <th>behavioral_antiviral_meds</th>\n",
       "      <th>behavioral_avoidance</th>\n",
       "      <th>behavioral_face_mask</th>\n",
       "      <th>behavioral_wash_hands</th>\n",
       "      <th>behavioral_large_gatherings</th>\n",
       "      <th>behavioral_outside_home</th>\n",
       "      <th>behavioral_touch_face</th>\n",
       "      <th>doctor_recc_h1n1</th>\n",
       "      <th>doctor_recc_seasonal</th>\n",
       "      <th>chronic_med_condition</th>\n",
       "      <th>child_under_6_months</th>\n",
       "      <th>health_worker</th>\n",
       "      <th>health_insurance</th>\n",
       "      <th>opinion_h1n1_vacc_effective</th>\n",
       "      <th>opinion_h1n1_risk</th>\n",
       "      <th>opinion_h1n1_sick_from_vacc</th>\n",
       "      <th>opinion_seas_vacc_effective</th>\n",
       "      <th>opinion_seas_risk</th>\n",
       "      <th>opinion_seas_sick_from_vacc</th>\n",
       "      <th>household_adults</th>\n",
       "      <th>household_children</th>\n",
       "      <th>x0_18 - 34 Years</th>\n",
       "      <th>x0_35 - 44 Years</th>\n",
       "      <th>x0_45 - 54 Years</th>\n",
       "      <th>x0_55 - 64 Years</th>\n",
       "      <th>x0_65+ Years</th>\n",
       "      <th>x1_12 Years</th>\n",
       "      <th>x1_&lt; 12 Years</th>\n",
       "      <th>x1_College Graduate</th>\n",
       "      <th>x1_Some College</th>\n",
       "      <th>x2_Black</th>\n",
       "      <th>x2_Hispanic</th>\n",
       "      <th>x2_Other or Multiple</th>\n",
       "      <th>x2_White</th>\n",
       "      <th>x3_Female</th>\n",
       "      <th>x3_Male</th>\n",
       "      <th>x4_&lt;= $75,000, Above Poverty</th>\n",
       "      <th>x4_&gt; $75,000</th>\n",
       "      <th>x4_Below Poverty</th>\n",
       "      <th>x5_Married</th>\n",
       "      <th>x5_Not Married</th>\n",
       "      <th>x6_Own</th>\n",
       "      <th>x6_Rent</th>\n",
       "      <th>x7_Employed</th>\n",
       "      <th>x7_Not in Labor Force</th>\n",
       "      <th>x7_Unemployed</th>\n",
       "      <th>x8_MSA, Not Principle  City</th>\n",
       "      <th>x8_MSA, Principle City</th>\n",
       "      <th>x8_Non-MSA</th>\n",
       "    </tr>\n",
       "  </thead>\n",
       "  <tbody>\n",
       "    <tr>\n",
       "      <th>3787</th>\n",
       "      <td>0.531779</td>\n",
       "      <td>1.216404</td>\n",
       "      <td>-0.239017</td>\n",
       "      <td>-1.654327</td>\n",
       "      <td>-0.272405</td>\n",
       "      <td>0.464191</td>\n",
       "      <td>1.416134</td>\n",
       "      <td>-0.678094</td>\n",
       "      <td>0.686993</td>\n",
       "      <td>1.738471</td>\n",
       "      <td>1.377715</td>\n",
       "      <td>-0.650515</td>\n",
       "      <td>-0.300152</td>\n",
       "      <td>-0.362042</td>\n",
       "      <td>0.368404</td>\n",
       "      <td>0.038350</td>\n",
       "      <td>-0.242192</td>\n",
       "      <td>-0.222764</td>\n",
       "      <td>0.875203</td>\n",
       "      <td>0.902966</td>\n",
       "      <td>-0.071833</td>\n",
       "      <td>-1.174002</td>\n",
       "      <td>-0.567004</td>\n",
       "      <td>0.0</td>\n",
       "      <td>0.0</td>\n",
       "      <td>0.0</td>\n",
       "      <td>0.0</td>\n",
       "      <td>1.0</td>\n",
       "      <td>1.0</td>\n",
       "      <td>0.0</td>\n",
       "      <td>0.0</td>\n",
       "      <td>0.0</td>\n",
       "      <td>0.0</td>\n",
       "      <td>0.0</td>\n",
       "      <td>0.0</td>\n",
       "      <td>1.0</td>\n",
       "      <td>1.0</td>\n",
       "      <td>0.0</td>\n",
       "      <td>1.0</td>\n",
       "      <td>0.0</td>\n",
       "      <td>0.0</td>\n",
       "      <td>0.0</td>\n",
       "      <td>1.0</td>\n",
       "      <td>1.0</td>\n",
       "      <td>0.0</td>\n",
       "      <td>0.0</td>\n",
       "      <td>1.0</td>\n",
       "      <td>0.0</td>\n",
       "      <td>0.0</td>\n",
       "      <td>1.0</td>\n",
       "      <td>0.0</td>\n",
       "    </tr>\n",
       "    <tr>\n",
       "      <th>12175</th>\n",
       "      <td>-0.596179</td>\n",
       "      <td>1.216404</td>\n",
       "      <td>-0.239017</td>\n",
       "      <td>0.604475</td>\n",
       "      <td>-0.272405</td>\n",
       "      <td>0.464191</td>\n",
       "      <td>1.416134</td>\n",
       "      <td>1.474721</td>\n",
       "      <td>0.686993</td>\n",
       "      <td>-0.575218</td>\n",
       "      <td>-0.725839</td>\n",
       "      <td>-0.650515</td>\n",
       "      <td>-0.300152</td>\n",
       "      <td>-0.362042</td>\n",
       "      <td>0.368404</td>\n",
       "      <td>1.056977</td>\n",
       "      <td>-0.242192</td>\n",
       "      <td>-0.222764</td>\n",
       "      <td>0.875203</td>\n",
       "      <td>-0.538423</td>\n",
       "      <td>1.444545</td>\n",
       "      <td>0.126117</td>\n",
       "      <td>0.527291</td>\n",
       "      <td>0.0</td>\n",
       "      <td>0.0</td>\n",
       "      <td>0.0</td>\n",
       "      <td>1.0</td>\n",
       "      <td>0.0</td>\n",
       "      <td>0.0</td>\n",
       "      <td>0.0</td>\n",
       "      <td>1.0</td>\n",
       "      <td>0.0</td>\n",
       "      <td>0.0</td>\n",
       "      <td>0.0</td>\n",
       "      <td>0.0</td>\n",
       "      <td>1.0</td>\n",
       "      <td>1.0</td>\n",
       "      <td>0.0</td>\n",
       "      <td>0.0</td>\n",
       "      <td>1.0</td>\n",
       "      <td>0.0</td>\n",
       "      <td>1.0</td>\n",
       "      <td>0.0</td>\n",
       "      <td>1.0</td>\n",
       "      <td>0.0</td>\n",
       "      <td>0.0</td>\n",
       "      <td>1.0</td>\n",
       "      <td>0.0</td>\n",
       "      <td>0.0</td>\n",
       "      <td>0.0</td>\n",
       "      <td>1.0</td>\n",
       "    </tr>\n",
       "    <tr>\n",
       "      <th>13246</th>\n",
       "      <td>-0.596179</td>\n",
       "      <td>1.216404</td>\n",
       "      <td>-0.239017</td>\n",
       "      <td>-1.654327</td>\n",
       "      <td>-0.272405</td>\n",
       "      <td>0.464191</td>\n",
       "      <td>-0.706148</td>\n",
       "      <td>-0.678094</td>\n",
       "      <td>0.686993</td>\n",
       "      <td>-0.575218</td>\n",
       "      <td>-0.725839</td>\n",
       "      <td>-0.650515</td>\n",
       "      <td>-0.300152</td>\n",
       "      <td>-0.362042</td>\n",
       "      <td>-2.714410</td>\n",
       "      <td>0.038350</td>\n",
       "      <td>-1.020321</td>\n",
       "      <td>-0.969957</td>\n",
       "      <td>-0.055674</td>\n",
       "      <td>-1.259118</td>\n",
       "      <td>-0.830022</td>\n",
       "      <td>1.426236</td>\n",
       "      <td>-0.567004</td>\n",
       "      <td>0.0</td>\n",
       "      <td>1.0</td>\n",
       "      <td>0.0</td>\n",
       "      <td>0.0</td>\n",
       "      <td>0.0</td>\n",
       "      <td>0.0</td>\n",
       "      <td>0.0</td>\n",
       "      <td>1.0</td>\n",
       "      <td>0.0</td>\n",
       "      <td>0.0</td>\n",
       "      <td>0.0</td>\n",
       "      <td>0.0</td>\n",
       "      <td>1.0</td>\n",
       "      <td>1.0</td>\n",
       "      <td>0.0</td>\n",
       "      <td>1.0</td>\n",
       "      <td>0.0</td>\n",
       "      <td>0.0</td>\n",
       "      <td>1.0</td>\n",
       "      <td>0.0</td>\n",
       "      <td>0.0</td>\n",
       "      <td>1.0</td>\n",
       "      <td>1.0</td>\n",
       "      <td>0.0</td>\n",
       "      <td>0.0</td>\n",
       "      <td>0.0</td>\n",
       "      <td>0.0</td>\n",
       "      <td>1.0</td>\n",
       "    </tr>\n",
       "    <tr>\n",
       "      <th>11073</th>\n",
       "      <td>0.531779</td>\n",
       "      <td>-0.444975</td>\n",
       "      <td>-0.239017</td>\n",
       "      <td>0.604475</td>\n",
       "      <td>-0.272405</td>\n",
       "      <td>0.464191</td>\n",
       "      <td>1.416134</td>\n",
       "      <td>1.474721</td>\n",
       "      <td>0.686993</td>\n",
       "      <td>-0.575218</td>\n",
       "      <td>1.377715</td>\n",
       "      <td>-0.650515</td>\n",
       "      <td>-0.300152</td>\n",
       "      <td>-0.362042</td>\n",
       "      <td>0.368404</td>\n",
       "      <td>0.038350</td>\n",
       "      <td>-0.242192</td>\n",
       "      <td>-0.222764</td>\n",
       "      <td>-0.055674</td>\n",
       "      <td>-0.538423</td>\n",
       "      <td>-0.071833</td>\n",
       "      <td>0.126117</td>\n",
       "      <td>-0.567004</td>\n",
       "      <td>0.0</td>\n",
       "      <td>0.0</td>\n",
       "      <td>0.0</td>\n",
       "      <td>0.0</td>\n",
       "      <td>1.0</td>\n",
       "      <td>0.0</td>\n",
       "      <td>0.0</td>\n",
       "      <td>0.0</td>\n",
       "      <td>1.0</td>\n",
       "      <td>0.0</td>\n",
       "      <td>0.0</td>\n",
       "      <td>0.0</td>\n",
       "      <td>1.0</td>\n",
       "      <td>1.0</td>\n",
       "      <td>0.0</td>\n",
       "      <td>1.0</td>\n",
       "      <td>0.0</td>\n",
       "      <td>0.0</td>\n",
       "      <td>1.0</td>\n",
       "      <td>0.0</td>\n",
       "      <td>1.0</td>\n",
       "      <td>0.0</td>\n",
       "      <td>0.0</td>\n",
       "      <td>1.0</td>\n",
       "      <td>0.0</td>\n",
       "      <td>1.0</td>\n",
       "      <td>0.0</td>\n",
       "      <td>0.0</td>\n",
       "    </tr>\n",
       "    <tr>\n",
       "      <th>15214</th>\n",
       "      <td>0.531779</td>\n",
       "      <td>-0.444975</td>\n",
       "      <td>-0.239017</td>\n",
       "      <td>0.604475</td>\n",
       "      <td>-0.272405</td>\n",
       "      <td>0.464191</td>\n",
       "      <td>1.416134</td>\n",
       "      <td>-0.678094</td>\n",
       "      <td>0.686993</td>\n",
       "      <td>-0.575218</td>\n",
       "      <td>-0.725839</td>\n",
       "      <td>1.537244</td>\n",
       "      <td>-0.300152</td>\n",
       "      <td>-0.362042</td>\n",
       "      <td>0.368404</td>\n",
       "      <td>0.038350</td>\n",
       "      <td>-0.242192</td>\n",
       "      <td>1.271622</td>\n",
       "      <td>-0.055674</td>\n",
       "      <td>-0.538423</td>\n",
       "      <td>-0.071833</td>\n",
       "      <td>0.126117</td>\n",
       "      <td>-0.567004</td>\n",
       "      <td>0.0</td>\n",
       "      <td>0.0</td>\n",
       "      <td>1.0</td>\n",
       "      <td>0.0</td>\n",
       "      <td>0.0</td>\n",
       "      <td>0.0</td>\n",
       "      <td>0.0</td>\n",
       "      <td>0.0</td>\n",
       "      <td>1.0</td>\n",
       "      <td>0.0</td>\n",
       "      <td>0.0</td>\n",
       "      <td>0.0</td>\n",
       "      <td>1.0</td>\n",
       "      <td>0.0</td>\n",
       "      <td>1.0</td>\n",
       "      <td>0.0</td>\n",
       "      <td>1.0</td>\n",
       "      <td>0.0</td>\n",
       "      <td>1.0</td>\n",
       "      <td>0.0</td>\n",
       "      <td>1.0</td>\n",
       "      <td>0.0</td>\n",
       "      <td>1.0</td>\n",
       "      <td>0.0</td>\n",
       "      <td>0.0</td>\n",
       "      <td>0.0</td>\n",
       "      <td>0.0</td>\n",
       "      <td>1.0</td>\n",
       "    </tr>\n",
       "  </tbody>\n",
       "</table>\n",
       "</div>"
      ],
      "text/plain": [
       "       h1n1_concern  h1n1_knowledge  behavioral_antiviral_meds  \\\n",
       "3787       0.531779        1.216404                  -0.239017   \n",
       "12175     -0.596179        1.216404                  -0.239017   \n",
       "13246     -0.596179        1.216404                  -0.239017   \n",
       "11073      0.531779       -0.444975                  -0.239017   \n",
       "15214      0.531779       -0.444975                  -0.239017   \n",
       "\n",
       "       behavioral_avoidance  behavioral_face_mask  behavioral_wash_hands  \\\n",
       "3787              -1.654327             -0.272405               0.464191   \n",
       "12175              0.604475             -0.272405               0.464191   \n",
       "13246             -1.654327             -0.272405               0.464191   \n",
       "11073              0.604475             -0.272405               0.464191   \n",
       "15214              0.604475             -0.272405               0.464191   \n",
       "\n",
       "       behavioral_large_gatherings  behavioral_outside_home  \\\n",
       "3787                      1.416134                -0.678094   \n",
       "12175                     1.416134                 1.474721   \n",
       "13246                    -0.706148                -0.678094   \n",
       "11073                     1.416134                 1.474721   \n",
       "15214                     1.416134                -0.678094   \n",
       "\n",
       "       behavioral_touch_face  doctor_recc_h1n1  doctor_recc_seasonal  \\\n",
       "3787                0.686993          1.738471              1.377715   \n",
       "12175               0.686993         -0.575218             -0.725839   \n",
       "13246               0.686993         -0.575218             -0.725839   \n",
       "11073               0.686993         -0.575218              1.377715   \n",
       "15214               0.686993         -0.575218             -0.725839   \n",
       "\n",
       "       chronic_med_condition  child_under_6_months  health_worker  \\\n",
       "3787               -0.650515             -0.300152      -0.362042   \n",
       "12175              -0.650515             -0.300152      -0.362042   \n",
       "13246              -0.650515             -0.300152      -0.362042   \n",
       "11073              -0.650515             -0.300152      -0.362042   \n",
       "15214               1.537244             -0.300152      -0.362042   \n",
       "\n",
       "       health_insurance  opinion_h1n1_vacc_effective  opinion_h1n1_risk  \\\n",
       "3787           0.368404                     0.038350          -0.242192   \n",
       "12175          0.368404                     1.056977          -0.242192   \n",
       "13246         -2.714410                     0.038350          -1.020321   \n",
       "11073          0.368404                     0.038350          -0.242192   \n",
       "15214          0.368404                     0.038350          -0.242192   \n",
       "\n",
       "       opinion_h1n1_sick_from_vacc  opinion_seas_vacc_effective  \\\n",
       "3787                     -0.222764                     0.875203   \n",
       "12175                    -0.222764                     0.875203   \n",
       "13246                    -0.969957                    -0.055674   \n",
       "11073                    -0.222764                    -0.055674   \n",
       "15214                     1.271622                    -0.055674   \n",
       "\n",
       "       opinion_seas_risk  opinion_seas_sick_from_vacc  household_adults  \\\n",
       "3787            0.902966                    -0.071833         -1.174002   \n",
       "12175          -0.538423                     1.444545          0.126117   \n",
       "13246          -1.259118                    -0.830022          1.426236   \n",
       "11073          -0.538423                    -0.071833          0.126117   \n",
       "15214          -0.538423                    -0.071833          0.126117   \n",
       "\n",
       "       household_children  x0_18 - 34 Years  x0_35 - 44 Years  \\\n",
       "3787            -0.567004               0.0               0.0   \n",
       "12175            0.527291               0.0               0.0   \n",
       "13246           -0.567004               0.0               1.0   \n",
       "11073           -0.567004               0.0               0.0   \n",
       "15214           -0.567004               0.0               0.0   \n",
       "\n",
       "       x0_45 - 54 Years  x0_55 - 64 Years  x0_65+ Years  x1_12 Years  \\\n",
       "3787                0.0               0.0           1.0          1.0   \n",
       "12175               0.0               1.0           0.0          0.0   \n",
       "13246               0.0               0.0           0.0          0.0   \n",
       "11073               0.0               0.0           1.0          0.0   \n",
       "15214               1.0               0.0           0.0          0.0   \n",
       "\n",
       "       x1_< 12 Years  x1_College Graduate  x1_Some College  x2_Black  \\\n",
       "3787             0.0                  0.0              0.0       0.0   \n",
       "12175            0.0                  1.0              0.0       0.0   \n",
       "13246            0.0                  1.0              0.0       0.0   \n",
       "11073            0.0                  0.0              1.0       0.0   \n",
       "15214            0.0                  0.0              1.0       0.0   \n",
       "\n",
       "       x2_Hispanic  x2_Other or Multiple  x2_White  x3_Female  x3_Male  \\\n",
       "3787           0.0                   0.0       1.0        1.0      0.0   \n",
       "12175          0.0                   0.0       1.0        1.0      0.0   \n",
       "13246          0.0                   0.0       1.0        1.0      0.0   \n",
       "11073          0.0                   0.0       1.0        1.0      0.0   \n",
       "15214          0.0                   0.0       1.0        0.0      1.0   \n",
       "\n",
       "       x4_<= $75,000, Above Poverty  x4_> $75,000  x4_Below Poverty  \\\n",
       "3787                            1.0           0.0               0.0   \n",
       "12175                           0.0           1.0               0.0   \n",
       "13246                           1.0           0.0               0.0   \n",
       "11073                           1.0           0.0               0.0   \n",
       "15214                           0.0           1.0               0.0   \n",
       "\n",
       "       x5_Married  x5_Not Married  x6_Own  x6_Rent  x7_Employed  \\\n",
       "3787          0.0             1.0     1.0      0.0          0.0   \n",
       "12175         1.0             0.0     1.0      0.0          0.0   \n",
       "13246         1.0             0.0     0.0      1.0          1.0   \n",
       "11073         1.0             0.0     1.0      0.0          0.0   \n",
       "15214         1.0             0.0     1.0      0.0          1.0   \n",
       "\n",
       "       x7_Not in Labor Force  x7_Unemployed  x8_MSA, Not Principle  City  \\\n",
       "3787                     1.0            0.0                          0.0   \n",
       "12175                    1.0            0.0                          0.0   \n",
       "13246                    0.0            0.0                          0.0   \n",
       "11073                    1.0            0.0                          1.0   \n",
       "15214                    0.0            0.0                          0.0   \n",
       "\n",
       "       x8_MSA, Principle City  x8_Non-MSA  \n",
       "3787                      1.0         0.0  \n",
       "12175                     0.0         1.0  \n",
       "13246                     0.0         1.0  \n",
       "11073                     0.0         0.0  \n",
       "15214                     0.0         1.0  "
      ]
     },
     "execution_count": 56,
     "metadata": {},
     "output_type": "execute_result"
    }
   ],
   "source": [
    "X_test_clean.head()"
   ]
  },
  {
   "cell_type": "code",
   "execution_count": 57,
   "metadata": {
    "scrolled": true
   },
   "outputs": [
    {
     "name": "stdout",
     "output_type": "stream",
     "text": [
      "<class 'pandas.core.frame.DataFrame'>\n",
      "Int64Index: 2949 entries, 3787 to 21945\n",
      "Data columns (total 51 columns):\n",
      " #   Column                        Non-Null Count  Dtype  \n",
      "---  ------                        --------------  -----  \n",
      " 0   h1n1_concern                  2949 non-null   float64\n",
      " 1   h1n1_knowledge                2949 non-null   float64\n",
      " 2   behavioral_antiviral_meds     2949 non-null   float64\n",
      " 3   behavioral_avoidance          2949 non-null   float64\n",
      " 4   behavioral_face_mask          2949 non-null   float64\n",
      " 5   behavioral_wash_hands         2949 non-null   float64\n",
      " 6   behavioral_large_gatherings   2949 non-null   float64\n",
      " 7   behavioral_outside_home       2949 non-null   float64\n",
      " 8   behavioral_touch_face         2949 non-null   float64\n",
      " 9   doctor_recc_h1n1              2949 non-null   float64\n",
      " 10  doctor_recc_seasonal          2949 non-null   float64\n",
      " 11  chronic_med_condition         2949 non-null   float64\n",
      " 12  child_under_6_months          2949 non-null   float64\n",
      " 13  health_worker                 2949 non-null   float64\n",
      " 14  health_insurance              2949 non-null   float64\n",
      " 15  opinion_h1n1_vacc_effective   2949 non-null   float64\n",
      " 16  opinion_h1n1_risk             2949 non-null   float64\n",
      " 17  opinion_h1n1_sick_from_vacc   2949 non-null   float64\n",
      " 18  opinion_seas_vacc_effective   2949 non-null   float64\n",
      " 19  opinion_seas_risk             2949 non-null   float64\n",
      " 20  opinion_seas_sick_from_vacc   2949 non-null   float64\n",
      " 21  household_adults              2949 non-null   float64\n",
      " 22  household_children            2949 non-null   float64\n",
      " 23  x0_18 - 34 Years              2949 non-null   float64\n",
      " 24  x0_35 - 44 Years              2949 non-null   float64\n",
      " 25  x0_45 - 54 Years              2949 non-null   float64\n",
      " 26  x0_55 - 64 Years              2949 non-null   float64\n",
      " 27  x0_65+ Years                  2949 non-null   float64\n",
      " 28  x1_12 Years                   2949 non-null   float64\n",
      " 29  x1_< 12 Years                 2949 non-null   float64\n",
      " 30  x1_College Graduate           2949 non-null   float64\n",
      " 31  x1_Some College               2949 non-null   float64\n",
      " 32  x2_Black                      2949 non-null   float64\n",
      " 33  x2_Hispanic                   2949 non-null   float64\n",
      " 34  x2_Other or Multiple          2949 non-null   float64\n",
      " 35  x2_White                      2949 non-null   float64\n",
      " 36  x3_Female                     2949 non-null   float64\n",
      " 37  x3_Male                       2949 non-null   float64\n",
      " 38  x4_<= $75,000, Above Poverty  2949 non-null   float64\n",
      " 39  x4_> $75,000                  2949 non-null   float64\n",
      " 40  x4_Below Poverty              2949 non-null   float64\n",
      " 41  x5_Married                    2949 non-null   float64\n",
      " 42  x5_Not Married                2949 non-null   float64\n",
      " 43  x6_Own                        2949 non-null   float64\n",
      " 44  x6_Rent                       2949 non-null   float64\n",
      " 45  x7_Employed                   2949 non-null   float64\n",
      " 46  x7_Not in Labor Force         2949 non-null   float64\n",
      " 47  x7_Unemployed                 2949 non-null   float64\n",
      " 48  x8_MSA, Not Principle  City   2949 non-null   float64\n",
      " 49  x8_MSA, Principle City        2949 non-null   float64\n",
      " 50  x8_Non-MSA                    2949 non-null   float64\n",
      "dtypes: float64(51)\n",
      "memory usage: 1.2 MB\n"
     ]
    }
   ],
   "source": [
    "X_test_clean.info()"
   ]
  },
  {
   "cell_type": "markdown",
   "metadata": {},
   "source": [
    "### Utilizing SMOTE"
   ]
  },
  {
   "cell_type": "code",
   "execution_count": 58,
   "metadata": {},
   "outputs": [],
   "source": [
    "sm = SMOTE(random_state=1337)\n",
    "X_resample, y_resample = sm.fit_resample(X_train_clean, y_train)"
   ]
  },
  {
   "cell_type": "code",
   "execution_count": 59,
   "metadata": {},
   "outputs": [
    {
     "name": "stdout",
     "output_type": "stream",
     "text": [
      "<class 'pandas.core.frame.DataFrame'>\n",
      "RangeIndex: 12332 entries, 0 to 12331\n",
      "Data columns (total 51 columns):\n",
      " #   Column                        Non-Null Count  Dtype  \n",
      "---  ------                        --------------  -----  \n",
      " 0   h1n1_concern                  12332 non-null  float64\n",
      " 1   h1n1_knowledge                12332 non-null  float64\n",
      " 2   behavioral_antiviral_meds     12332 non-null  float64\n",
      " 3   behavioral_avoidance          12332 non-null  float64\n",
      " 4   behavioral_face_mask          12332 non-null  float64\n",
      " 5   behavioral_wash_hands         12332 non-null  float64\n",
      " 6   behavioral_large_gatherings   12332 non-null  float64\n",
      " 7   behavioral_outside_home       12332 non-null  float64\n",
      " 8   behavioral_touch_face         12332 non-null  float64\n",
      " 9   doctor_recc_h1n1              12332 non-null  float64\n",
      " 10  doctor_recc_seasonal          12332 non-null  float64\n",
      " 11  chronic_med_condition         12332 non-null  float64\n",
      " 12  child_under_6_months          12332 non-null  float64\n",
      " 13  health_worker                 12332 non-null  float64\n",
      " 14  health_insurance              12332 non-null  float64\n",
      " 15  opinion_h1n1_vacc_effective   12332 non-null  float64\n",
      " 16  opinion_h1n1_risk             12332 non-null  float64\n",
      " 17  opinion_h1n1_sick_from_vacc   12332 non-null  float64\n",
      " 18  opinion_seas_vacc_effective   12332 non-null  float64\n",
      " 19  opinion_seas_risk             12332 non-null  float64\n",
      " 20  opinion_seas_sick_from_vacc   12332 non-null  float64\n",
      " 21  household_adults              12332 non-null  float64\n",
      " 22  household_children            12332 non-null  float64\n",
      " 23  x0_18 - 34 Years              12332 non-null  float64\n",
      " 24  x0_35 - 44 Years              12332 non-null  float64\n",
      " 25  x0_45 - 54 Years              12332 non-null  float64\n",
      " 26  x0_55 - 64 Years              12332 non-null  float64\n",
      " 27  x0_65+ Years                  12332 non-null  float64\n",
      " 28  x1_12 Years                   12332 non-null  float64\n",
      " 29  x1_< 12 Years                 12332 non-null  float64\n",
      " 30  x1_College Graduate           12332 non-null  float64\n",
      " 31  x1_Some College               12332 non-null  float64\n",
      " 32  x2_Black                      12332 non-null  float64\n",
      " 33  x2_Hispanic                   12332 non-null  float64\n",
      " 34  x2_Other or Multiple          12332 non-null  float64\n",
      " 35  x2_White                      12332 non-null  float64\n",
      " 36  x3_Female                     12332 non-null  float64\n",
      " 37  x3_Male                       12332 non-null  float64\n",
      " 38  x4_<= $75,000, Above Poverty  12332 non-null  float64\n",
      " 39  x4_> $75,000                  12332 non-null  float64\n",
      " 40  x4_Below Poverty              12332 non-null  float64\n",
      " 41  x5_Married                    12332 non-null  float64\n",
      " 42  x5_Not Married                12332 non-null  float64\n",
      " 43  x6_Own                        12332 non-null  float64\n",
      " 44  x6_Rent                       12332 non-null  float64\n",
      " 45  x7_Employed                   12332 non-null  float64\n",
      " 46  x7_Not in Labor Force         12332 non-null  float64\n",
      " 47  x7_Unemployed                 12332 non-null  float64\n",
      " 48  x8_MSA, Not Principle  City   12332 non-null  float64\n",
      " 49  x8_MSA, Principle City        12332 non-null  float64\n",
      " 50  x8_Non-MSA                    12332 non-null  float64\n",
      "dtypes: float64(51)\n",
      "memory usage: 4.8 MB\n"
     ]
    }
   ],
   "source": [
    "X_resample.info()"
   ]
  },
  {
   "cell_type": "code",
   "execution_count": 148,
   "metadata": {
    "scrolled": true
   },
   "outputs": [
    {
     "data": {
      "text/plain": [
       "0.000000    11597\n",
       "1.000000      522\n",
       "0.308060        1\n",
       "0.665902        1\n",
       "0.088479        1\n",
       "            ...  \n",
       "0.865400        1\n",
       "0.052258        1\n",
       "0.385451        1\n",
       "0.043379        1\n",
       "0.657162        1\n",
       "Name: x2_Other or Multiple, Length: 215, dtype: int64"
      ]
     },
     "execution_count": 148,
     "metadata": {},
     "output_type": "execute_result"
    }
   ],
   "source": [
    "X_resample['x2_Other or Multiple'].value_counts()"
   ]
  },
  {
   "cell_type": "code",
   "execution_count": 149,
   "metadata": {},
   "outputs": [
    {
     "data": {
      "text/plain": [
       "0.000000    11394\n",
       "1.000000      705\n",
       "0.443494        1\n",
       "0.332488        1\n",
       "0.530481        1\n",
       "            ...  \n",
       "0.472363        1\n",
       "0.450529        1\n",
       "0.930282        1\n",
       "0.692508        1\n",
       "0.882229        1\n",
       "Name: x2_Black, Length: 235, dtype: int64"
      ]
     },
     "execution_count": 149,
     "metadata": {},
     "output_type": "execute_result"
    }
   ],
   "source": [
    "X_resample['x2_Black'].value_counts()"
   ]
  },
  {
   "cell_type": "code",
   "execution_count": 151,
   "metadata": {},
   "outputs": [
    {
     "data": {
      "text/plain": [
       "0.000000    11518\n",
       "1.000000      600\n",
       "0.549550        1\n",
       "0.307492        1\n",
       "0.330173        1\n",
       "            ...  \n",
       "0.351314        1\n",
       "0.433758        1\n",
       "0.284578        1\n",
       "0.387161        1\n",
       "0.547482        1\n",
       "Name: x2_Hispanic, Length: 216, dtype: int64"
      ]
     },
     "execution_count": 151,
     "metadata": {},
     "output_type": "execute_result"
    }
   ],
   "source": [
    "X_resample['x2_Hispanic'].value_counts()"
   ]
  },
  {
   "cell_type": "code",
   "execution_count": 144,
   "metadata": {},
   "outputs": [
    {
     "data": {
      "text/plain": [
       "1.000000    9916\n",
       "0.000000    1898\n",
       "0.924130       1\n",
       "0.320300       1\n",
       "0.235120       1\n",
       "            ... \n",
       "0.328209       1\n",
       "0.887598       1\n",
       "0.750478       1\n",
       "0.714486       1\n",
       "0.941377       1\n",
       "Name: x2_White, Length: 520, dtype: int64"
      ]
     },
     "execution_count": 144,
     "metadata": {},
     "output_type": "execute_result"
    }
   ],
   "source": [
    "X_resample['x2_White'].value_counts()"
   ]
  },
  {
   "cell_type": "code",
   "execution_count": 61,
   "metadata": {
    "scrolled": true
   },
   "outputs": [
    {
     "data": {
      "text/plain": [
       "count    12332.00000\n",
       "mean         0.50000\n",
       "std          0.50002\n",
       "min          0.00000\n",
       "25%          0.00000\n",
       "50%          0.50000\n",
       "75%          1.00000\n",
       "max          1.00000\n",
       "Name: h1n1_vaccine, dtype: float64"
      ]
     },
     "execution_count": 61,
     "metadata": {},
     "output_type": "execute_result"
    }
   ],
   "source": [
    "y_resample.describe()"
   ]
  },
  {
   "cell_type": "code",
   "execution_count": 62,
   "metadata": {},
   "outputs": [
    {
     "data": {
      "text/plain": [
       "1    6166\n",
       "0    6166\n",
       "Name: h1n1_vaccine, dtype: int64"
      ]
     },
     "execution_count": 62,
     "metadata": {},
     "output_type": "execute_result"
    }
   ],
   "source": [
    "y_resample.value_counts()"
   ]
  },
  {
   "cell_type": "markdown",
   "metadata": {},
   "source": [
    "### First Simple Model: Decision Tree Classifier Depth = 2\n",
    "#### We want to find out what attributes are important for the model"
   ]
  },
  {
   "cell_type": "code",
   "execution_count": 63,
   "metadata": {
    "scrolled": false
   },
   "outputs": [
    {
     "data": {
      "text/plain": [
       "DecisionTreeClassifier(max_depth=2, random_state=1337)"
      ]
     },
     "execution_count": 63,
     "metadata": {},
     "output_type": "execute_result"
    }
   ],
   "source": [
    "tree_clf = DecisionTreeClassifier(max_depth=2, random_state=1337)\n",
    "\n",
    "tree_clf.fit(X_resample, y_resample)"
   ]
  },
  {
   "cell_type": "code",
   "execution_count": 64,
   "metadata": {
    "scrolled": true
   },
   "outputs": [
    {
     "data": {
      "image/png": "[encoded data removed]",
      "text/plain": [
       "<Figure size 720x720 with 1 Axes>"
      ]
     },
     "metadata": {
      "needs_background": "light"
     },
     "output_type": "display_data"
    }
   ],
   "source": [
    "# Can we plot the tree?\n",
    "f, ax = plt.subplots(figsize=(10, 10))\n",
    "plot_tree(tree_clf, ax=ax);"
   ]
  },
  {
   "cell_type": "code",
   "execution_count": 65,
   "metadata": {},
   "outputs": [
    {
     "data": {
      "text/plain": [
       "array([0.        , 0.        , 0.        , 0.        , 0.        ,\n",
       "       0.        , 0.        , 0.        , 0.        , 0.33141578,\n",
       "       0.        , 0.        , 0.        , 0.        , 0.        ,\n",
       "       0.        , 0.66858422, 0.        , 0.        , 0.        ,\n",
       "       0.        , 0.        , 0.        , 0.        , 0.        ,\n",
       "       0.        , 0.        , 0.        , 0.        , 0.        ,\n",
       "       0.        , 0.        , 0.        , 0.        , 0.        ,\n",
       "       0.        , 0.        , 0.        , 0.        , 0.        ,\n",
       "       0.        , 0.        , 0.        , 0.        , 0.        ,\n",
       "       0.        , 0.        , 0.        , 0.        , 0.        ,\n",
       "       0.        ])"
      ]
     },
     "execution_count": 65,
     "metadata": {},
     "output_type": "execute_result"
    }
   ],
   "source": [
    "# Do Feature importance\n",
    "# tree_clf.feature_names_in_\n",
    "tree_clf.feature_importances_\n",
    "# Run it into logistic regression now afterwards now that we have the most important features"
   ]
  },
  {
   "cell_type": "code",
   "execution_count": 66,
   "metadata": {},
   "outputs": [
    {
     "name": "stdout",
     "output_type": "stream",
     "text": [
      "Training: 0.764109633473889\n",
      "Testing: 0.7293997965412004\n"
     ]
    }
   ],
   "source": [
    "# Accuracy on Training Data and Test Data\n",
    "print('Training:', tree_clf.score(X_resample, y_resample))\n",
    "print('Testing:', tree_clf.score(X_test_clean, y_test))"
   ]
  },
  {
   "cell_type": "code",
   "execution_count": 67,
   "metadata": {},
   "outputs": [
    {
     "data": {
      "text/plain": [
       "array([[1481,  586],\n",
       "       [ 212,  670]])"
      ]
     },
     "execution_count": 67,
     "metadata": {},
     "output_type": "execute_result"
    }
   ],
   "source": [
    "y_pred = tree_clf.predict(X_test_clean)\n",
    "cm_1 = confusion_matrix(y_test, y_pred)\n",
    "cm_1"
   ]
  },
  {
   "cell_type": "markdown",
   "metadata": {},
   "source": [
    "#### Classification Metrics"
   ]
  },
  {
   "cell_type": "code",
   "execution_count": 68,
   "metadata": {},
   "outputs": [],
   "source": [
    "tn = cm_1[0, 0]\n",
    "fp = cm_1[0, 1]\n",
    "fn = cm_1[1, 0]\n",
    "tp = cm_1[1, 1]"
   ]
  },
  {
   "cell_type": "code",
   "execution_count": 69,
   "metadata": {
    "scrolled": false
   },
   "outputs": [
    {
     "name": "stdout",
     "output_type": "stream",
     "text": [
      "0.5334394904458599\n"
     ]
    }
   ],
   "source": [
    "# Precision, how many of the model's predictions were correct?\n",
    "prec = tp / (tp + fp)\n",
    "print(prec)"
   ]
  },
  {
   "cell_type": "markdown",
   "metadata": {},
   "source": [
    "- Precision only at 53%, but this is our baseline model so let's see if we plug in the variables into Logistic Regression what kind of output it gives us!"
   ]
  },
  {
   "cell_type": "markdown",
   "metadata": {},
   "source": [
    "### Second Model: Logistic Regression Using Results from Model 1"
   ]
  },
  {
   "cell_type": "code",
   "execution_count": 70,
   "metadata": {},
   "outputs": [],
   "source": [
    "X_train_model_1 = X_train_clean[['doctor_recc_h1n1', 'opinion_h1n1_risk']]\n",
    "y_train_model_1 = y_train"
   ]
  },
  {
   "cell_type": "code",
   "execution_count": 71,
   "metadata": {
    "scrolled": false
   },
   "outputs": [
    {
     "name": "stdout",
     "output_type": "stream",
     "text": [
      "<class 'pandas.core.frame.DataFrame'>\n",
      "Int64Index: 8845 entries, 19032 to 7311\n",
      "Data columns (total 2 columns):\n",
      " #   Column             Non-Null Count  Dtype  \n",
      "---  ------             --------------  -----  \n",
      " 0   doctor_recc_h1n1   8845 non-null   float64\n",
      " 1   opinion_h1n1_risk  8845 non-null   float64\n",
      "dtypes: float64(2)\n",
      "memory usage: 207.3 KB\n"
     ]
    }
   ],
   "source": [
    "X_train_model_1.info()"
   ]
  },
  {
   "cell_type": "code",
   "execution_count": 72,
   "metadata": {},
   "outputs": [],
   "source": [
    "X_test_model_1 = X_test_clean[['doctor_recc_h1n1', 'opinion_h1n1_risk']]"
   ]
  },
  {
   "cell_type": "code",
   "execution_count": 73,
   "metadata": {},
   "outputs": [
    {
     "name": "stdout",
     "output_type": "stream",
     "text": [
      "<class 'pandas.core.frame.DataFrame'>\n",
      "Int64Index: 2949 entries, 3787 to 21945\n",
      "Data columns (total 2 columns):\n",
      " #   Column             Non-Null Count  Dtype  \n",
      "---  ------             --------------  -----  \n",
      " 0   doctor_recc_h1n1   2949 non-null   float64\n",
      " 1   opinion_h1n1_risk  2949 non-null   float64\n",
      "dtypes: float64(2)\n",
      "memory usage: 69.1 KB\n"
     ]
    }
   ],
   "source": [
    "X_test_model_1.info()"
   ]
  },
  {
   "cell_type": "code",
   "execution_count": 74,
   "metadata": {},
   "outputs": [],
   "source": [
    "logreg = LogisticRegression(random_state=1337)"
   ]
  },
  {
   "cell_type": "code",
   "execution_count": 75,
   "metadata": {
    "scrolled": true
   },
   "outputs": [
    {
     "data": {
      "text/plain": [
       "LogisticRegression(random_state=1337)"
      ]
     },
     "execution_count": 75,
     "metadata": {},
     "output_type": "execute_result"
    }
   ],
   "source": [
    "logreg.fit(X_train_model_1, y_train)"
   ]
  },
  {
   "cell_type": "code",
   "execution_count": 76,
   "metadata": {},
   "outputs": [
    {
     "name": "stdout",
     "output_type": "stream",
     "text": [
      "Training: 0.7827020915771622\n",
      "Testing: 0.7755171244489657\n"
     ]
    }
   ],
   "source": [
    "# Accuracy on Training Data and Test Data\n",
    "print('Training:', logreg.score(X_train_model_1, y_train))\n",
    "print('Testing:', logreg.score(X_test_model_1, y_test))"
   ]
  },
  {
   "cell_type": "code",
   "execution_count": 77,
   "metadata": {
    "scrolled": true
   },
   "outputs": [
    {
     "data": {
      "text/plain": [
       "array([[1830,  237],\n",
       "       [ 425,  457]])"
      ]
     },
     "execution_count": 77,
     "metadata": {},
     "output_type": "execute_result"
    }
   ],
   "source": [
    "y_pred_2 = logreg.predict(X_test_model_1)\n",
    "cm_2 = confusion_matrix(y_test, y_pred_2)\n",
    "cm_2"
   ]
  },
  {
   "cell_type": "code",
   "execution_count": 78,
   "metadata": {},
   "outputs": [],
   "source": [
    "tn_2 = cm_2[0, 0]\n",
    "fp_2 = cm_2[0, 1]\n",
    "fn_2 = cm_2[1, 0]\n",
    "tp_2 = cm_2[1, 1]"
   ]
  },
  {
   "cell_type": "code",
   "execution_count": 79,
   "metadata": {
    "scrolled": true
   },
   "outputs": [
    {
     "name": "stdout",
     "output_type": "stream",
     "text": [
      "0.6585014409221902\n"
     ]
    }
   ],
   "source": [
    "# Precision, how many of the model's predictions were correct?\n",
    "prec_2 = tp_2 / (tp_2 + fp_2)\n",
    "print(prec_2)"
   ]
  },
  {
   "cell_type": "code",
   "execution_count": 80,
   "metadata": {},
   "outputs": [
    {
     "data": {
      "text/plain": [
       "array([[0.76460984, 0.86269808]])"
      ]
     },
     "execution_count": 80,
     "metadata": {},
     "output_type": "execute_result"
    }
   ],
   "source": [
    "logreg.coef_"
   ]
  },
  {
   "cell_type": "markdown",
   "metadata": {},
   "source": [
    "- Should we try to find more variables that might impact the predictive capability of getting the H1N1 vaccine?"
   ]
  },
  {
   "cell_type": "markdown",
   "metadata": {},
   "source": [
    "### Third Model: Decision Tree Classifier with Depth = 5"
   ]
  },
  {
   "cell_type": "code",
   "execution_count": 81,
   "metadata": {},
   "outputs": [
    {
     "data": {
      "text/plain": [
       "DecisionTreeClassifier(max_depth=5, random_state=1337)"
      ]
     },
     "execution_count": 81,
     "metadata": {},
     "output_type": "execute_result"
    }
   ],
   "source": [
    "tree_clf_2 = DecisionTreeClassifier(max_depth=5, random_state=1337)\n",
    "\n",
    "tree_clf_2.fit(X_resample, y_resample)"
   ]
  },
  {
   "cell_type": "code",
   "execution_count": 82,
   "metadata": {
    "scrolled": true
   },
   "outputs": [
    {
     "data": {
      "image/png": "[encoded data removed]",
      "text/plain": [
       "<Figure size 720x720 with 1 Axes>"
      ]
     },
     "metadata": {
      "needs_background": "light"
     },
     "output_type": "display_data"
    }
   ],
   "source": [
    "# Can we plot the tree?\n",
    "f, ax = plt.subplots(figsize=(10, 10))\n",
    "plot_tree(tree_clf_2, ax=ax);"
   ]
  },
  {
   "cell_type": "code",
   "execution_count": 83,
   "metadata": {},
   "outputs": [],
   "source": [
    "# export tree?\n",
    "# tree_clf_2.savefig('tree.png')\n",
    "# Don't know if we can export this"
   ]
  },
  {
   "cell_type": "code",
   "execution_count": 84,
   "metadata": {
    "scrolled": false
   },
   "outputs": [
    {
     "name": "stdout",
     "output_type": "stream",
     "text": [
      "Training: 0.8011305822498587\n",
      "Testing: 0.7880637504238724\n"
     ]
    }
   ],
   "source": [
    "# Accuracy on Training Data and Test Data\n",
    "print('Training:', tree_clf_2.score(X_train_clean, y_train))\n",
    "print('Testing:', tree_clf_2.score(X_test_clean, y_test))"
   ]
  },
  {
   "cell_type": "code",
   "execution_count": 85,
   "metadata": {},
   "outputs": [
    {
     "data": {
      "text/plain": [
       "array([[1729,  338],\n",
       "       [ 287,  595]])"
      ]
     },
     "execution_count": 85,
     "metadata": {},
     "output_type": "execute_result"
    }
   ],
   "source": [
    "y_pred_3 = tree_clf_2.predict(X_test_clean)\n",
    "cm_3 = confusion_matrix(y_test, y_pred_3)\n",
    "cm_3"
   ]
  },
  {
   "cell_type": "code",
   "execution_count": 86,
   "metadata": {},
   "outputs": [],
   "source": [
    "tn_3 = cm_3[0, 0]\n",
    "fp_3 = cm_3[0, 1]\n",
    "fn_3 = cm_3[1, 0]\n",
    "tp_3 = cm_3[1, 1]"
   ]
  },
  {
   "cell_type": "code",
   "execution_count": 87,
   "metadata": {},
   "outputs": [
    {
     "name": "stdout",
     "output_type": "stream",
     "text": [
      "0.6377277599142551\n"
     ]
    }
   ],
   "source": [
    "# Precision, how many of the model's predictions were correct?\n",
    "prec_3 = tp_3 / (tp_3 + fp_3)\n",
    "print(prec_3)"
   ]
  },
  {
   "cell_type": "code",
   "execution_count": 88,
   "metadata": {},
   "outputs": [
    {
     "data": {
      "text/plain": [
       "array([0.        , 0.01596152, 0.00092492, 0.        , 0.        ,\n",
       "       0.        , 0.        , 0.        , 0.        , 0.20773272,\n",
       "       0.01145238, 0.        , 0.        , 0.00195796, 0.        ,\n",
       "       0.20019368, 0.51837253, 0.        , 0.        , 0.00526795,\n",
       "       0.        , 0.00410141, 0.        , 0.00348421, 0.        ,\n",
       "       0.        , 0.        , 0.        , 0.00063423, 0.        ,\n",
       "       0.        , 0.        , 0.        , 0.        , 0.        ,\n",
       "       0.02543036, 0.        , 0.        , 0.        , 0.        ,\n",
       "       0.00181547, 0.        , 0.        , 0.        , 0.00267067,\n",
       "       0.        , 0.        , 0.        , 0.        , 0.        ,\n",
       "       0.        ])"
      ]
     },
     "execution_count": 88,
     "metadata": {},
     "output_type": "execute_result"
    }
   ],
   "source": [
    "tree_clf_2.feature_importances_"
   ]
  },
  {
   "cell_type": "markdown",
   "metadata": {},
   "source": [
    "### Fourth Model: Logistic Regression with more variables"
   ]
  },
  {
   "cell_type": "code",
   "execution_count": 89,
   "metadata": {
    "scrolled": true
   },
   "outputs": [
    {
     "name": "stdout",
     "output_type": "stream",
     "text": [
      "<class 'pandas.core.frame.DataFrame'>\n",
      "Int64Index: 8845 entries, 19032 to 7311\n",
      "Data columns (total 51 columns):\n",
      " #   Column                        Non-Null Count  Dtype  \n",
      "---  ------                        --------------  -----  \n",
      " 0   h1n1_concern                  8845 non-null   float64\n",
      " 1   h1n1_knowledge                8845 non-null   float64\n",
      " 2   behavioral_antiviral_meds     8845 non-null   float64\n",
      " 3   behavioral_avoidance          8845 non-null   float64\n",
      " 4   behavioral_face_mask          8845 non-null   float64\n",
      " 5   behavioral_wash_hands         8845 non-null   float64\n",
      " 6   behavioral_large_gatherings   8845 non-null   float64\n",
      " 7   behavioral_outside_home       8845 non-null   float64\n",
      " 8   behavioral_touch_face         8845 non-null   float64\n",
      " 9   doctor_recc_h1n1              8845 non-null   float64\n",
      " 10  doctor_recc_seasonal          8845 non-null   float64\n",
      " 11  chronic_med_condition         8845 non-null   float64\n",
      " 12  child_under_6_months          8845 non-null   float64\n",
      " 13  health_worker                 8845 non-null   float64\n",
      " 14  health_insurance              8845 non-null   float64\n",
      " 15  opinion_h1n1_vacc_effective   8845 non-null   float64\n",
      " 16  opinion_h1n1_risk             8845 non-null   float64\n",
      " 17  opinion_h1n1_sick_from_vacc   8845 non-null   float64\n",
      " 18  opinion_seas_vacc_effective   8845 non-null   float64\n",
      " 19  opinion_seas_risk             8845 non-null   float64\n",
      " 20  opinion_seas_sick_from_vacc   8845 non-null   float64\n",
      " 21  household_adults              8845 non-null   float64\n",
      " 22  household_children            8845 non-null   float64\n",
      " 23  x0_18 - 34 Years              8845 non-null   float64\n",
      " 24  x0_35 - 44 Years              8845 non-null   float64\n",
      " 25  x0_45 - 54 Years              8845 non-null   float64\n",
      " 26  x0_55 - 64 Years              8845 non-null   float64\n",
      " 27  x0_65+ Years                  8845 non-null   float64\n",
      " 28  x1_12 Years                   8845 non-null   float64\n",
      " 29  x1_< 12 Years                 8845 non-null   float64\n",
      " 30  x1_College Graduate           8845 non-null   float64\n",
      " 31  x1_Some College               8845 non-null   float64\n",
      " 32  x2_Black                      8845 non-null   float64\n",
      " 33  x2_Hispanic                   8845 non-null   float64\n",
      " 34  x2_Other or Multiple          8845 non-null   float64\n",
      " 35  x2_White                      8845 non-null   float64\n",
      " 36  x3_Female                     8845 non-null   float64\n",
      " 37  x3_Male                       8845 non-null   float64\n",
      " 38  x4_<= $75,000, Above Poverty  8845 non-null   float64\n",
      " 39  x4_> $75,000                  8845 non-null   float64\n",
      " 40  x4_Below Poverty              8845 non-null   float64\n",
      " 41  x5_Married                    8845 non-null   float64\n",
      " 42  x5_Not Married                8845 non-null   float64\n",
      " 43  x6_Own                        8845 non-null   float64\n",
      " 44  x6_Rent                       8845 non-null   float64\n",
      " 45  x7_Employed                   8845 non-null   float64\n",
      " 46  x7_Not in Labor Force         8845 non-null   float64\n",
      " 47  x7_Unemployed                 8845 non-null   float64\n",
      " 48  x8_MSA, Not Principle  City   8845 non-null   float64\n",
      " 49  x8_MSA, Principle City        8845 non-null   float64\n",
      " 50  x8_Non-MSA                    8845 non-null   float64\n",
      "dtypes: float64(51)\n",
      "memory usage: 3.5 MB\n"
     ]
    }
   ],
   "source": [
    "X_train_clean.info()"
   ]
  },
  {
   "cell_type": "code",
   "execution_count": 90,
   "metadata": {},
   "outputs": [],
   "source": [
    "X_train_model_4 = X_train_clean[['h1n1_knowledge', 'chronic_med_condition', 'child_under_6_months',\n",
    "                                 'health_worker', 'health_insurance', 'opinion_h1n1_vacc_effective',\n",
    "                                 'doctor_recc_h1n1', 'opinion_h1n1_risk', 'opinion_seas_vacc_effective',\n",
    "                                 'opinion_seas_risk', 'x0_18 - 34 Years', 'x0_45 - 54 Years', 'x2_Black',\n",
    "                                 'x2_White', 'x4_Below Poverty', 'x6_Rent']]\n",
    "y_train_model_4 = y_train"
   ]
  },
  {
   "cell_type": "code",
   "execution_count": 91,
   "metadata": {},
   "outputs": [],
   "source": [
    "X_test_model_4 = X_test_clean[['h1n1_knowledge', 'chronic_med_condition', 'child_under_6_months',\n",
    "                                 'health_worker', 'health_insurance', 'opinion_h1n1_vacc_effective',\n",
    "                                 'doctor_recc_h1n1', 'opinion_h1n1_risk', 'opinion_seas_vacc_effective',\n",
    "                                 'opinion_seas_risk', 'x0_18 - 34 Years', 'x0_45 - 54 Years', 'x2_Black',\n",
    "                                 'x2_White', 'x4_Below Poverty', 'x6_Rent']]"
   ]
  },
  {
   "cell_type": "code",
   "execution_count": 92,
   "metadata": {},
   "outputs": [],
   "source": [
    "logreg_2 = LogisticRegression(random_state=1337)"
   ]
  },
  {
   "cell_type": "code",
   "execution_count": 93,
   "metadata": {},
   "outputs": [
    {
     "data": {
      "text/plain": [
       "LogisticRegression(random_state=1337)"
      ]
     },
     "execution_count": 93,
     "metadata": {},
     "output_type": "execute_result"
    }
   ],
   "source": [
    "logreg_2.fit(X_train_model_4, y_train)"
   ]
  },
  {
   "cell_type": "code",
   "execution_count": 94,
   "metadata": {},
   "outputs": [
    {
     "name": "stdout",
     "output_type": "stream",
     "text": [
      "Training: 0.8185415488976823\n",
      "Testing: 0.8121397083757206\n"
     ]
    }
   ],
   "source": [
    "# Accuracy on Training Data and Test Data\n",
    "print('Training:', logreg_2.score(X_train_model_4, y_train))\n",
    "print('Testing:', logreg_2.score(X_test_model_4, y_test))"
   ]
  },
  {
   "cell_type": "code",
   "execution_count": 95,
   "metadata": {
    "scrolled": true
   },
   "outputs": [
    {
     "data": {
      "text/plain": [
       "array([[1873,  194],\n",
       "       [ 360,  522]])"
      ]
     },
     "execution_count": 95,
     "metadata": {},
     "output_type": "execute_result"
    }
   ],
   "source": [
    "y_pred_4 = logreg_2.predict(X_test_model_4)\n",
    "cm_4 = confusion_matrix(y_test, y_pred_4)\n",
    "cm_4"
   ]
  },
  {
   "cell_type": "code",
   "execution_count": 96,
   "metadata": {},
   "outputs": [],
   "source": [
    "tn_4 = cm_4[0, 0]\n",
    "fp_4 = cm_4[0, 1]\n",
    "fn_4 = cm_4[1, 0]\n",
    "tp_4 = cm_4[1, 1]"
   ]
  },
  {
   "cell_type": "code",
   "execution_count": 97,
   "metadata": {},
   "outputs": [
    {
     "name": "stdout",
     "output_type": "stream",
     "text": [
      "0.729050279329609\n"
     ]
    }
   ],
   "source": [
    "prec_4 = tp_4 / (tp_4 + fp_4)\n",
    "print(prec_4)"
   ]
  },
  {
   "cell_type": "code",
   "execution_count": 98,
   "metadata": {},
   "outputs": [
    {
     "data": {
      "text/plain": [
       "array([[ 0.16481581,  0.02271222,  0.05464083,  0.25553391,  0.26973705,\n",
       "         0.55683452,  0.72071736,  0.66116348,  0.12583821,  0.2021309 ,\n",
       "        -0.28538081, -0.22010343, -0.41573651,  0.11660554, -0.23725484,\n",
       "        -0.14531071]])"
      ]
     },
     "execution_count": 98,
     "metadata": {},
     "output_type": "execute_result"
    }
   ],
   "source": [
    "logreg_2.coef_"
   ]
  },
  {
   "cell_type": "code",
   "execution_count": 99,
   "metadata": {
    "scrolled": true
   },
   "outputs": [],
   "source": [
    "# print(classification_report(y_test, logreg_2.predict(X_test_model_4)))"
   ]
  },
  {
   "cell_type": "markdown",
   "metadata": {},
   "source": [
    "### Fifth Model: Decision Tree with Depth = 3"
   ]
  },
  {
   "cell_type": "code",
   "execution_count": 100,
   "metadata": {
    "scrolled": true
   },
   "outputs": [
    {
     "data": {
      "text/plain": [
       "DecisionTreeClassifier(max_depth=3, random_state=1337)"
      ]
     },
     "execution_count": 100,
     "metadata": {},
     "output_type": "execute_result"
    }
   ],
   "source": [
    "tree_clf_3 = DecisionTreeClassifier(max_depth=3, random_state=1337)\n",
    "\n",
    "tree_clf_3.fit(X_resample, y_resample)"
   ]
  },
  {
   "cell_type": "code",
   "execution_count": 101,
   "metadata": {
    "scrolled": true
   },
   "outputs": [
    {
     "data": {
      "image/png": "[encoded data removed]",
      "text/plain": [
       "<Figure size 720x720 with 1 Axes>"
      ]
     },
     "metadata": {
      "needs_background": "light"
     },
     "output_type": "display_data"
    }
   ],
   "source": [
    "f, ax = plt.subplots(figsize=(10, 10))\n",
    "plot_tree(tree_clf_3, ax=ax);"
   ]
  },
  {
   "cell_type": "code",
   "execution_count": 102,
   "metadata": {
    "scrolled": true
   },
   "outputs": [
    {
     "name": "stdout",
     "output_type": "stream",
     "text": [
      "Training: 0.7780667043527416\n",
      "Testing: 0.7690742624618515\n"
     ]
    }
   ],
   "source": [
    "# Accuracy on Training Data and Test Data\n",
    "print('Training:', tree_clf_3.score(X_train_clean, y_train))\n",
    "print('Testing:', tree_clf_3.score(X_test_clean, y_test))"
   ]
  },
  {
   "cell_type": "code",
   "execution_count": 103,
   "metadata": {
    "scrolled": true
   },
   "outputs": [
    {
     "data": {
      "text/plain": [
       "array([[1685,  382],\n",
       "       [ 299,  583]])"
      ]
     },
     "execution_count": 103,
     "metadata": {},
     "output_type": "execute_result"
    }
   ],
   "source": [
    "y_pred_5 = tree_clf_3.predict(X_test_clean)\n",
    "cm_5 = confusion_matrix(y_test, y_pred_5)\n",
    "cm_5"
   ]
  },
  {
   "cell_type": "code",
   "execution_count": 104,
   "metadata": {},
   "outputs": [],
   "source": [
    "tn_5 = cm_5[0, 0]\n",
    "fp_5 = cm_5[0, 1]\n",
    "fn_5 = cm_5[1, 0]\n",
    "tp_5 = cm_5[1, 1]"
   ]
  },
  {
   "cell_type": "code",
   "execution_count": 105,
   "metadata": {
    "scrolled": true
   },
   "outputs": [
    {
     "name": "stdout",
     "output_type": "stream",
     "text": [
      "0.6041450777202072\n"
     ]
    }
   ],
   "source": [
    "prec_5 = tp_5 / (tp_5 + fp_5)\n",
    "print(prec_5)"
   ]
  },
  {
   "cell_type": "code",
   "execution_count": 106,
   "metadata": {
    "scrolled": false
   },
   "outputs": [
    {
     "data": {
      "text/plain": [
       "array([0.        , 0.        , 0.        , 0.        , 0.        ,\n",
       "       0.        , 0.        , 0.        , 0.        , 0.26992603,\n",
       "       0.        , 0.        , 0.        , 0.        , 0.        ,\n",
       "       0.17870814, 0.54453738, 0.        , 0.        , 0.        ,\n",
       "       0.        , 0.        , 0.        , 0.        , 0.        ,\n",
       "       0.        , 0.        , 0.        , 0.        , 0.        ,\n",
       "       0.        , 0.        , 0.        , 0.        , 0.        ,\n",
       "       0.00682846, 0.        , 0.        , 0.        , 0.        ,\n",
       "       0.        , 0.        , 0.        , 0.        , 0.        ,\n",
       "       0.        , 0.        , 0.        , 0.        , 0.        ,\n",
       "       0.        ])"
      ]
     },
     "execution_count": 106,
     "metadata": {},
     "output_type": "execute_result"
    }
   ],
   "source": [
    "tree_clf_3.feature_importances_"
   ]
  },
  {
   "cell_type": "code",
   "execution_count": 107,
   "metadata": {},
   "outputs": [
    {
     "name": "stdout",
     "output_type": "stream",
     "text": [
      "<class 'pandas.core.frame.DataFrame'>\n",
      "Int64Index: 8845 entries, 19032 to 7311\n",
      "Data columns (total 51 columns):\n",
      " #   Column                        Non-Null Count  Dtype  \n",
      "---  ------                        --------------  -----  \n",
      " 0   h1n1_concern                  8845 non-null   float64\n",
      " 1   h1n1_knowledge                8845 non-null   float64\n",
      " 2   behavioral_antiviral_meds     8845 non-null   float64\n",
      " 3   behavioral_avoidance          8845 non-null   float64\n",
      " 4   behavioral_face_mask          8845 non-null   float64\n",
      " 5   behavioral_wash_hands         8845 non-null   float64\n",
      " 6   behavioral_large_gatherings   8845 non-null   float64\n",
      " 7   behavioral_outside_home       8845 non-null   float64\n",
      " 8   behavioral_touch_face         8845 non-null   float64\n",
      " 9   doctor_recc_h1n1              8845 non-null   float64\n",
      " 10  doctor_recc_seasonal          8845 non-null   float64\n",
      " 11  chronic_med_condition         8845 non-null   float64\n",
      " 12  child_under_6_months          8845 non-null   float64\n",
      " 13  health_worker                 8845 non-null   float64\n",
      " 14  health_insurance              8845 non-null   float64\n",
      " 15  opinion_h1n1_vacc_effective   8845 non-null   float64\n",
      " 16  opinion_h1n1_risk             8845 non-null   float64\n",
      " 17  opinion_h1n1_sick_from_vacc   8845 non-null   float64\n",
      " 18  opinion_seas_vacc_effective   8845 non-null   float64\n",
      " 19  opinion_seas_risk             8845 non-null   float64\n",
      " 20  opinion_seas_sick_from_vacc   8845 non-null   float64\n",
      " 21  household_adults              8845 non-null   float64\n",
      " 22  household_children            8845 non-null   float64\n",
      " 23  x0_18 - 34 Years              8845 non-null   float64\n",
      " 24  x0_35 - 44 Years              8845 non-null   float64\n",
      " 25  x0_45 - 54 Years              8845 non-null   float64\n",
      " 26  x0_55 - 64 Years              8845 non-null   float64\n",
      " 27  x0_65+ Years                  8845 non-null   float64\n",
      " 28  x1_12 Years                   8845 non-null   float64\n",
      " 29  x1_< 12 Years                 8845 non-null   float64\n",
      " 30  x1_College Graduate           8845 non-null   float64\n",
      " 31  x1_Some College               8845 non-null   float64\n",
      " 32  x2_Black                      8845 non-null   float64\n",
      " 33  x2_Hispanic                   8845 non-null   float64\n",
      " 34  x2_Other or Multiple          8845 non-null   float64\n",
      " 35  x2_White                      8845 non-null   float64\n",
      " 36  x3_Female                     8845 non-null   float64\n",
      " 37  x3_Male                       8845 non-null   float64\n",
      " 38  x4_<= $75,000, Above Poverty  8845 non-null   float64\n",
      " 39  x4_> $75,000                  8845 non-null   float64\n",
      " 40  x4_Below Poverty              8845 non-null   float64\n",
      " 41  x5_Married                    8845 non-null   float64\n",
      " 42  x5_Not Married                8845 non-null   float64\n",
      " 43  x6_Own                        8845 non-null   float64\n",
      " 44  x6_Rent                       8845 non-null   float64\n",
      " 45  x7_Employed                   8845 non-null   float64\n",
      " 46  x7_Not in Labor Force         8845 non-null   float64\n",
      " 47  x7_Unemployed                 8845 non-null   float64\n",
      " 48  x8_MSA, Not Principle  City   8845 non-null   float64\n",
      " 49  x8_MSA, Principle City        8845 non-null   float64\n",
      " 50  x8_Non-MSA                    8845 non-null   float64\n",
      "dtypes: float64(51)\n",
      "memory usage: 3.5 MB\n"
     ]
    }
   ],
   "source": [
    "X_train_clean.info()"
   ]
  },
  {
   "cell_type": "markdown",
   "metadata": {},
   "source": [
    "- Important features are 9, 15, 16, weak 35\n",
    "- [doctor_recc_h1n1], [opinion_h1n1_vacc_effective], [opinion_h1n1_risk], [x2_White]"
   ]
  },
  {
   "cell_type": "markdown",
   "metadata": {},
   "source": [
    "### Sixth Model: Logistic Regression Model 3"
   ]
  },
  {
   "cell_type": "code",
   "execution_count": 108,
   "metadata": {},
   "outputs": [],
   "source": [
    "X_train_model_6 = X_train_clean[['opinion_h1n1_vacc_effective', 'doctor_recc_h1n1', 'opinion_h1n1_risk', 'x2_White']]\n",
    "y_train_model_6 = y_train"
   ]
  },
  {
   "cell_type": "code",
   "execution_count": 109,
   "metadata": {},
   "outputs": [],
   "source": [
    "X_test_model_6 = X_test_clean[['opinion_h1n1_vacc_effective', 'doctor_recc_h1n1', 'opinion_h1n1_risk', 'x2_White']]"
   ]
  },
  {
   "cell_type": "code",
   "execution_count": 110,
   "metadata": {},
   "outputs": [],
   "source": [
    "logreg_3 = LogisticRegression(random_state=1337)"
   ]
  },
  {
   "cell_type": "code",
   "execution_count": 111,
   "metadata": {
    "scrolled": true
   },
   "outputs": [
    {
     "data": {
      "text/plain": [
       "LogisticRegression(random_state=1337)"
      ]
     },
     "execution_count": 111,
     "metadata": {},
     "output_type": "execute_result"
    }
   ],
   "source": [
    "logreg_3.fit(X_train_model_6, y_train)"
   ]
  },
  {
   "cell_type": "code",
   "execution_count": 112,
   "metadata": {
    "scrolled": true
   },
   "outputs": [
    {
     "name": "stdout",
     "output_type": "stream",
     "text": [
      "Training: 0.8066704352741662\n",
      "Testing: 0.8019667683960665\n"
     ]
    }
   ],
   "source": [
    "# Accuracy on Training Data and Test Data\n",
    "print('Training:', logreg_3.score(X_train_model_6, y_train))\n",
    "print('Testing:', logreg_3.score(X_test_model_6, y_test))"
   ]
  },
  {
   "cell_type": "code",
   "execution_count": 113,
   "metadata": {
    "scrolled": true
   },
   "outputs": [
    {
     "data": {
      "text/plain": [
       "array([[1838,  229],\n",
       "       [ 355,  527]])"
      ]
     },
     "execution_count": 113,
     "metadata": {},
     "output_type": "execute_result"
    }
   ],
   "source": [
    "y_pred_6 = logreg_3.predict(X_test_model_6)\n",
    "cm_6 = confusion_matrix(y_test, y_pred_6)\n",
    "cm_6"
   ]
  },
  {
   "cell_type": "code",
   "execution_count": 114,
   "metadata": {},
   "outputs": [],
   "source": [
    "tn_6 = cm_6[0, 0]\n",
    "fp_6 = cm_6[0, 1]\n",
    "fn_6 = cm_6[1, 0]\n",
    "tp_6 = cm_6[1, 1]"
   ]
  },
  {
   "cell_type": "code",
   "execution_count": 115,
   "metadata": {
    "scrolled": true
   },
   "outputs": [
    {
     "name": "stdout",
     "output_type": "stream",
     "text": [
      "0.6970899470899471\n"
     ]
    }
   ],
   "source": [
    "prec_6 = tp_6 / (tp_6 + fp_6)\n",
    "print(prec_6)"
   ]
  },
  {
   "cell_type": "code",
   "execution_count": 130,
   "metadata": {},
   "outputs": [
    {
     "data": {
      "text/plain": [
       "array([[0.65182005, 0.74155321, 0.76691549, 0.62009186]])"
      ]
     },
     "execution_count": 130,
     "metadata": {},
     "output_type": "execute_result"
    }
   ],
   "source": [
    "logreg_3.coef_"
   ]
  },
  {
   "cell_type": "code",
   "execution_count": 131,
   "metadata": {},
   "outputs": [],
   "source": [
    "final_model_coefficients = logreg_3.coef_"
   ]
  },
  {
   "cell_type": "code",
   "execution_count": 142,
   "metadata": {},
   "outputs": [
    {
     "name": "stdout",
     "output_type": "stream",
     "text": [
      "[[1.91903039 2.09919346 2.15311469 1.85909881]]\n"
     ]
    }
   ],
   "source": [
    "values = np.exp(final_model_coefficients)\n",
    "print(values)"
   ]
  },
  {
   "cell_type": "markdown",
   "metadata": {},
   "source": [
    "### AUC ROC Curve"
   ]
  },
  {
   "cell_type": "code",
   "execution_count": 116,
   "metadata": {
    "scrolled": true
   },
   "outputs": [
    {
     "name": "stdout",
     "output_type": "stream",
     "text": [
      "[[0.48253343 0.51746657]\n",
      " [0.84542695 0.15457305]\n",
      " [0.91454724 0.08545276]\n",
      " ...\n",
      " [0.84542695 0.15457305]\n",
      " [0.58821574 0.41178426]\n",
      " [0.91454724 0.08545276]]\n",
      "[[0.35548317 0.64451683]\n",
      " [0.68925431 0.31074569]\n",
      " [0.95762864 0.04237136]\n",
      " ...\n",
      " [0.81092693 0.18907307]\n",
      " [0.69072303 0.30927697]\n",
      " [0.93532983 0.06467017]]\n",
      "[[0.47523053 0.52476947]\n",
      " [0.72163834 0.27836166]\n",
      " [0.90143964 0.09856036]\n",
      " ...\n",
      " [0.90349333 0.09650667]\n",
      " [0.59367445 0.40632555]\n",
      " [0.94445506 0.05554494]]\n"
     ]
    }
   ],
   "source": [
    "pred_prob1 = logreg.predict_proba(X_test_model_1)\n",
    "pred_prob2 = logreg_2.predict_proba(X_test_model_4)\n",
    "pred_prob3 = logreg_3.predict_proba(X_test_model_6)\n",
    "print(pred_prob1)\n",
    "print(pred_prob2)\n",
    "print(pred_prob3)"
   ]
  },
  {
   "cell_type": "code",
   "execution_count": 117,
   "metadata": {},
   "outputs": [],
   "source": [
    "fpr1, tpr1, thresh1 = roc_curve(y_test, pred_prob1[:,1], pos_label=1)\n",
    "fpr2, tpr2, thresh2 = roc_curve(y_test, pred_prob2[:,1], pos_label=1)\n",
    "fpr3, tpr3, thresh3 = roc_curve(y_test, pred_prob3[:,1], pos_label=1)\n",
    "\n",
    "random_probs = [0 for i in range(len(y_test))]\n",
    "p_fpr, p_tpr, _ = roc_curve(y_test, random_probs, pos_label=1)"
   ]
  },
  {
   "cell_type": "code",
   "execution_count": 118,
   "metadata": {},
   "outputs": [
    {
     "name": "stdout",
     "output_type": "stream",
     "text": [
      "0.7970192431108873 0.8534365205524235 0.8309870472943247\n"
     ]
    }
   ],
   "source": [
    "auc_score1 = roc_auc_score(y_test, pred_prob1[:,1])\n",
    "auc_score2 = roc_auc_score(y_test, pred_prob2[:,1])\n",
    "auc_score3 = roc_auc_score(y_test, pred_prob3[:,1])\n",
    "\n",
    "print(auc_score1, auc_score2, auc_score3)"
   ]
  },
  {
   "cell_type": "code",
   "execution_count": 119,
   "metadata": {},
   "outputs": [
    {
     "data": {
      "text/plain": [
       "Text(0, 0.5, 'True Positive Rate')"
      ]
     },
     "execution_count": 119,
     "metadata": {},
     "output_type": "execute_result"
    },
    {
     "data": {
      "image/png": "[encoded data removed]",
      "text/plain": [
       "<Figure size 432x288 with 1 Axes>"
      ]
     },
     "metadata": {
      "needs_background": "light"
     },
     "output_type": "display_data"
    }
   ],
   "source": [
    "plt.plot(fpr1, tpr1, linestyle='--',color='orange', label='Logistic Regression')\n",
    "plt.plot(fpr2, tpr2, linestyle='--',color='cyan', label='Logitic Regression Improved')\n",
    "plt.plot(fpr3, tpr3, linestyle='--',color='brown', label='Logitic Regression Middle')\n",
    "plt.plot(p_fpr, p_tpr, linestyle='-', color='blue')\n",
    "# title\n",
    "plt.title('ROC curve')\n",
    "# x label\n",
    "plt.xlabel('False Positive Rate')\n",
    "# y label\n",
    "plt.ylabel('True Positive Rate')"
   ]
  },
  {
   "cell_type": "markdown",
   "metadata": {},
   "source": [
    "### Third Model: Logistic Regression Model"
   ]
  },
  {
   "cell_type": "code",
   "execution_count": 120,
   "metadata": {},
   "outputs": [
    {
     "data": {
      "text/plain": [
       "LogisticRegression()"
      ]
     },
     "execution_count": 120,
     "metadata": {},
     "output_type": "execute_result"
    }
   ],
   "source": [
    "logit_model = LogisticRegression()\n",
    "logit_model.fit(X_train_clean, y_train)"
   ]
  },
  {
   "cell_type": "code",
   "execution_count": 121,
   "metadata": {},
   "outputs": [
    {
     "data": {
      "text/plain": [
       "array([[ 0.01762735,  0.15342435,  0.00822264, -0.07807517,  0.04471873,\n",
       "         0.04486202, -0.03073769,  0.00716942, -0.01387643,  0.92956525,\n",
       "        -0.32685902,  0.04853402,  0.06409137,  0.27618954,  0.23549497,\n",
       "         0.54383982,  0.68427981,  0.0903969 ,  0.12880557,  0.26909748,\n",
       "        -0.20980127, -0.0558645 , -0.02102438, -0.1708916 , -0.25968568,\n",
       "        -0.10888316,  0.18763668,  0.35167071, -0.00274963, -0.2429645 ,\n",
       "         0.23277114,  0.01278995, -0.29083456,  0.00356831,  0.15939479,\n",
       "         0.12771842, -0.19207884,  0.1919258 , -0.04801608,  0.08328493,\n",
       "        -0.03542189,  0.14927837, -0.14943141,  0.02467406, -0.0248271 ,\n",
       "         0.03607111,  0.10581258, -0.14203673, -0.06530166,  0.07215026,\n",
       "        -0.00700165]])"
      ]
     },
     "execution_count": 121,
     "metadata": {},
     "output_type": "execute_result"
    }
   ],
   "source": [
    "logit_model.coef_"
   ]
  },
  {
   "cell_type": "code",
   "execution_count": 129,
   "metadata": {},
   "outputs": [],
   "source": [
    "y_hat_test = logit_model.predict(X_test_clean)"
   ]
  },
  {
   "cell_type": "code",
   "execution_count": 123,
   "metadata": {},
   "outputs": [
    {
     "name": "stdout",
     "output_type": "stream",
     "text": [
      "Number of values correctly predicted:\n",
      "True     2398\n",
      "False     551\n",
      "Name: h1n1_vaccine, dtype: int64\n",
      "\n",
      " ------------------------------ \n",
      "\n",
      "Percentage of values correctly predicted: \n",
      "True     0.813157\n",
      "False    0.186843\n",
      "Name: h1n1_vaccine, dtype: float64\n"
     ]
    }
   ],
   "source": [
    "residuals = y_test == y_hat_test\n",
    "\n",
    "print('Number of values correctly predicted:')\n",
    "print(pd.Series(residuals).value_counts())\n",
    "\n",
    "print('\\n','-'*30,'\\n')\n",
    "\n",
    "print('Percentage of values correctly predicted: ')\n",
    "print(pd.Series(residuals).value_counts(normalize=True))"
   ]
  },
  {
   "cell_type": "markdown",
   "metadata": {},
   "source": [
    "### "
   ]
  },
  {
   "cell_type": "code",
   "execution_count": 124,
   "metadata": {},
   "outputs": [],
   "source": [
    "y_hat_test_2 = logreg_2.predict(X_test_model_4)"
   ]
  },
  {
   "cell_type": "code",
   "execution_count": 125,
   "metadata": {},
   "outputs": [
    {
     "name": "stdout",
     "output_type": "stream",
     "text": [
      "Number of values correctly predicted:\n",
      "True     2395\n",
      "False     554\n",
      "Name: h1n1_vaccine, dtype: int64\n",
      "\n",
      " ------------------------------ \n",
      "\n",
      "Percentage of values correctly predicted: \n",
      "True     0.81214\n",
      "False    0.18786\n",
      "Name: h1n1_vaccine, dtype: float64\n"
     ]
    }
   ],
   "source": [
    "residuals_2 = y_test == y_hat_test_2\n",
    "\n",
    "print('Number of values correctly predicted:')\n",
    "print(pd.Series(residuals_2).value_counts())\n",
    "\n",
    "print('\\n','-'*30,'\\n')\n",
    "\n",
    "print('Percentage of values correctly predicted: ')\n",
    "print(pd.Series(residuals_2).value_counts(normalize=True))"
   ]
  },
  {
   "cell_type": "code",
   "execution_count": 126,
   "metadata": {},
   "outputs": [],
   "source": [
    "y_hat_test_3 = logreg_3.predict(X_test_model_6)"
   ]
  },
  {
   "cell_type": "code",
   "execution_count": 127,
   "metadata": {},
   "outputs": [
    {
     "name": "stdout",
     "output_type": "stream",
     "text": [
      "Number of values correctly predicted:\n",
      "True     2365\n",
      "False     584\n",
      "Name: h1n1_vaccine, dtype: int64\n",
      "\n",
      " ------------------------------ \n",
      "\n",
      "Percentage of values correctly predicted: \n",
      "True     0.801967\n",
      "False    0.198033\n",
      "Name: h1n1_vaccine, dtype: float64\n"
     ]
    }
   ],
   "source": [
    "residuals_3 = y_test == y_hat_test_3\n",
    "\n",
    "print('Number of values correctly predicted:')\n",
    "print(pd.Series(residuals_3).value_counts())\n",
    "\n",
    "print('\\n','-'*30,'\\n')\n",
    "\n",
    "print('Percentage of values correctly predicted: ')\n",
    "print(pd.Series(residuals_3).value_counts(normalize=True))"
   ]
  },
  {
   "cell_type": "code",
   "execution_count": null,
   "metadata": {},
   "outputs": [],
   "source": []
  }
 ],
 "metadata": {
  "kernelspec": {
   "display_name": "Python (learn-env)",
   "language": "python",
   "name": "learn-env"
  },
  "language_info": {
   "codemirror_mode": {
    "name": "ipython",
    "version": 3
   },
   "file_extension": ".py",
   "mimetype": "text/x-python",
   "name": "python",
   "nbconvert_exporter": "python",
   "pygments_lexer": "ipython3",
   "version": "3.8.5"
  }
 },
 "nbformat": 4,
 "nbformat_minor": 4
}
